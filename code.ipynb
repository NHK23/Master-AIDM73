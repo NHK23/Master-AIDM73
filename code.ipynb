{
 "cells": [
  {
   "cell_type": "markdown",
   "metadata": {},
   "source": [
    "<p> \n",
    "    <h4>Group Name: Hello world<h4>\n",
    "    <h4>Group members:&nbsp;Ni Haokun&emsp;&nbsp;&nbsp;&nbsp;22455744<br>&emsp;&emsp;&emsp;&emsp;&emsp;&emsp;&emsp;&emsp;Song Yihui&emsp;&nbsp;&nbsp;22422382<br>&emsp;&emsp;&emsp;&emsp;&emsp;&emsp;&emsp;&emsp;Peng Yuchen&nbsp;&nbsp;22448683 <h4>\n",
    "</p>\n"
   ]
  },
  {
   "cell_type": "markdown",
   "metadata": {},
   "source": [
    "<h2>Outline<h2>\n",
    "<h4><ol>\n",
    "    <li>Background</li>\n",
    "    <li>Topic</li>\n",
    "    <li>Analysis</li>\n",
    "        <ul>   \n",
    "            <li>Problem</li>\n",
    "            <li>Coding</li>\n",
    "            <li>Visualization</li>\n",
    "            <li>Analysis</li>\n",
    "        </ul>\n",
    "    <li>Conclusion</li>\n",
    "</ol><h4>"
   ]
  },
  {
   "cell_type": "markdown",
   "metadata": {},
   "source": [
    "<p align = \"center\"><img src = \"image.jpg\" width = \"60%\"></p>"
   ]
  },
  {
   "cell_type": "markdown",
   "metadata": {},
   "source": [
    "<div>\n",
    "    <h2>Background<h2>\n",
    "    <h4><p>&nbsp;&nbsp;&nbsp;Many women in the world are suffered  crime every day, especially in some developing countries. Especially in Indian, local data shows that crimes against women remain unabated. And with tens of thousands of rape cases reported annually, India has earned the moniker \"the rape capital of the world.\" According to World Bank study, new brides are often harassed for not binging in sufficient dowry and thousands are killed by their husbands and in-laws every year. Most are burnt to death and the murders are passed off as \"kitchen accidents.\" In addition, it has consistently been the most reported violent crime against women. <br>&nbsp;&nbsp;&nbsp;This dataset has state-wise and district level data on the various crimes committed against women between 2001 to 2014. Some crimes that are included are Rape, Kidnapping and Abduction, Dowry Deaths etc.</p>\n",
    "    <p>&nbsp;&nbsp;&nbsp;Data source:&nbsp;<a href = \"https://data.gov.in\">https://data.gov.in</a><br><a href = \"https://www.kaggle.com/datasets/greeshmagirish/crime-against-women-20012014-india\">&nbsp;&nbsp;&nbsp;https://www.kaggle.com/datasets/greeshmagirish/crime-against-women-20012014-india</a></p><h4>\n",
    "</div>"
   ]
  },
  {
   "cell_type": "markdown",
   "metadata": {},
   "source": [
    "<div>\n",
    "    <h2>Topic<h2>\n",
    "    <h4><p>&nbsp;&nbsp;&nbsp;In this project, we are committed to mining this dataset by using mathematical tools and analyize by using visualization tools. Furthermore, we want to know that which area are more crime-prone and relationship between each crimes.</p><h4>\n",
    "</div>"
   ]
  },
  {
   "cell_type": "markdown",
   "metadata": {},
   "source": [
    "<h2>Analysis<h2>"
   ]
  },
  {
   "cell_type": "markdown",
   "metadata": {},
   "source": [
    "### Preparation: "
   ]
  },
  {
   "cell_type": "code",
   "execution_count": 42,
   "metadata": {},
   "outputs": [],
   "source": [
    "# If you need to install the package, please remove below two lines '#'\n",
    "# %pip install plotly\n",
    "# %pip install folium\n",
    "import pandas as pd\n",
    "import numpy as np\n",
    "import matplotlib.pyplot as plt\n",
    "import seaborn as sns\n",
    "import os\n",
    "import folium\n",
    "from folium.plugins import HeatMap\n",
    "from plotly.tools import make_subplots as make_subplots\n",
    "import plotly.graph_objects as go\n",
    "import warnings\n",
    "warnings.filterwarnings('ignore')"
   ]
  },
  {
   "cell_type": "code",
   "execution_count": 43,
   "metadata": {},
   "outputs": [
    {
     "data": {
      "text/html": [
       "<div>\n",
       "<style scoped>\n",
       "    .dataframe tbody tr th:only-of-type {\n",
       "        vertical-align: middle;\n",
       "    }\n",
       "\n",
       "    .dataframe tbody tr th {\n",
       "        vertical-align: top;\n",
       "    }\n",
       "\n",
       "    .dataframe thead th {\n",
       "        text-align: right;\n",
       "    }\n",
       "</style>\n",
       "<table border=\"1\" class=\"dataframe\">\n",
       "  <thead>\n",
       "    <tr style=\"text-align: right;\">\n",
       "      <th></th>\n",
       "      <th>Unnamed: 0</th>\n",
       "      <th>STATE/UT</th>\n",
       "      <th>DISTRICT</th>\n",
       "      <th>Year</th>\n",
       "      <th>Rape</th>\n",
       "      <th>Kidnapping and Abduction</th>\n",
       "      <th>Dowry Deaths</th>\n",
       "      <th>Assault on women with intent to outrage her modesty</th>\n",
       "      <th>Insult to modesty of Women</th>\n",
       "      <th>Cruelty by Husband or his Relatives</th>\n",
       "      <th>Importation of Girls</th>\n",
       "    </tr>\n",
       "  </thead>\n",
       "  <tbody>\n",
       "    <tr>\n",
       "      <th>0</th>\n",
       "      <td>0</td>\n",
       "      <td>ANDHRA PRADESH</td>\n",
       "      <td>ADILABAD</td>\n",
       "      <td>2001</td>\n",
       "      <td>50</td>\n",
       "      <td>30</td>\n",
       "      <td>16</td>\n",
       "      <td>149</td>\n",
       "      <td>34</td>\n",
       "      <td>175</td>\n",
       "      <td>0</td>\n",
       "    </tr>\n",
       "    <tr>\n",
       "      <th>1</th>\n",
       "      <td>1</td>\n",
       "      <td>ANDHRA PRADESH</td>\n",
       "      <td>ANANTAPUR</td>\n",
       "      <td>2001</td>\n",
       "      <td>23</td>\n",
       "      <td>30</td>\n",
       "      <td>7</td>\n",
       "      <td>118</td>\n",
       "      <td>24</td>\n",
       "      <td>154</td>\n",
       "      <td>0</td>\n",
       "    </tr>\n",
       "    <tr>\n",
       "      <th>2</th>\n",
       "      <td>2</td>\n",
       "      <td>ANDHRA PRADESH</td>\n",
       "      <td>CHITTOOR</td>\n",
       "      <td>2001</td>\n",
       "      <td>27</td>\n",
       "      <td>34</td>\n",
       "      <td>14</td>\n",
       "      <td>112</td>\n",
       "      <td>83</td>\n",
       "      <td>186</td>\n",
       "      <td>0</td>\n",
       "    </tr>\n",
       "    <tr>\n",
       "      <th>3</th>\n",
       "      <td>3</td>\n",
       "      <td>ANDHRA PRADESH</td>\n",
       "      <td>CUDDAPAH</td>\n",
       "      <td>2001</td>\n",
       "      <td>20</td>\n",
       "      <td>20</td>\n",
       "      <td>17</td>\n",
       "      <td>126</td>\n",
       "      <td>38</td>\n",
       "      <td>57</td>\n",
       "      <td>0</td>\n",
       "    </tr>\n",
       "    <tr>\n",
       "      <th>4</th>\n",
       "      <td>4</td>\n",
       "      <td>ANDHRA PRADESH</td>\n",
       "      <td>EAST GODAVARI</td>\n",
       "      <td>2001</td>\n",
       "      <td>23</td>\n",
       "      <td>26</td>\n",
       "      <td>12</td>\n",
       "      <td>109</td>\n",
       "      <td>58</td>\n",
       "      <td>247</td>\n",
       "      <td>0</td>\n",
       "    </tr>\n",
       "    <tr>\n",
       "      <th>...</th>\n",
       "      <td>...</td>\n",
       "      <td>...</td>\n",
       "      <td>...</td>\n",
       "      <td>...</td>\n",
       "      <td>...</td>\n",
       "      <td>...</td>\n",
       "      <td>...</td>\n",
       "      <td>...</td>\n",
       "      <td>...</td>\n",
       "      <td>...</td>\n",
       "      <td>...</td>\n",
       "    </tr>\n",
       "    <tr>\n",
       "      <th>10672</th>\n",
       "      <td>832</td>\n",
       "      <td>Lakshadweep</td>\n",
       "      <td>Lakshadweep</td>\n",
       "      <td>2014</td>\n",
       "      <td>1</td>\n",
       "      <td>0</td>\n",
       "      <td>0</td>\n",
       "      <td>1</td>\n",
       "      <td>2</td>\n",
       "      <td>0</td>\n",
       "      <td>0</td>\n",
       "    </tr>\n",
       "    <tr>\n",
       "      <th>10673</th>\n",
       "      <td>833</td>\n",
       "      <td>Lakshadweep</td>\n",
       "      <td>Total District(s)</td>\n",
       "      <td>2014</td>\n",
       "      <td>1</td>\n",
       "      <td>0</td>\n",
       "      <td>0</td>\n",
       "      <td>1</td>\n",
       "      <td>2</td>\n",
       "      <td>0</td>\n",
       "      <td>0</td>\n",
       "    </tr>\n",
       "    <tr>\n",
       "      <th>10674</th>\n",
       "      <td>834</td>\n",
       "      <td>Puducherry</td>\n",
       "      <td>Karaikal</td>\n",
       "      <td>2014</td>\n",
       "      <td>3</td>\n",
       "      <td>1</td>\n",
       "      <td>0</td>\n",
       "      <td>12</td>\n",
       "      <td>1</td>\n",
       "      <td>1</td>\n",
       "      <td>0</td>\n",
       "    </tr>\n",
       "    <tr>\n",
       "      <th>10675</th>\n",
       "      <td>835</td>\n",
       "      <td>Puducherry</td>\n",
       "      <td>Puducherry</td>\n",
       "      <td>2014</td>\n",
       "      <td>7</td>\n",
       "      <td>6</td>\n",
       "      <td>1</td>\n",
       "      <td>20</td>\n",
       "      <td>7</td>\n",
       "      <td>3</td>\n",
       "      <td>0</td>\n",
       "    </tr>\n",
       "    <tr>\n",
       "      <th>10676</th>\n",
       "      <td>836</td>\n",
       "      <td>Puducherry</td>\n",
       "      <td>Total District(s)</td>\n",
       "      <td>2014</td>\n",
       "      <td>10</td>\n",
       "      <td>7</td>\n",
       "      <td>1</td>\n",
       "      <td>32</td>\n",
       "      <td>8</td>\n",
       "      <td>4</td>\n",
       "      <td>0</td>\n",
       "    </tr>\n",
       "  </tbody>\n",
       "</table>\n",
       "<p>10677 rows × 11 columns</p>\n",
       "</div>"
      ],
      "text/plain": [
       "       Unnamed: 0        STATE/UT           DISTRICT  Year  Rape  \\\n",
       "0               0  ANDHRA PRADESH           ADILABAD  2001    50   \n",
       "1               1  ANDHRA PRADESH          ANANTAPUR  2001    23   \n",
       "2               2  ANDHRA PRADESH           CHITTOOR  2001    27   \n",
       "3               3  ANDHRA PRADESH           CUDDAPAH  2001    20   \n",
       "4               4  ANDHRA PRADESH      EAST GODAVARI  2001    23   \n",
       "...           ...             ...                ...   ...   ...   \n",
       "10672         832     Lakshadweep        Lakshadweep  2014     1   \n",
       "10673         833     Lakshadweep  Total District(s)  2014     1   \n",
       "10674         834      Puducherry           Karaikal  2014     3   \n",
       "10675         835      Puducherry         Puducherry  2014     7   \n",
       "10676         836      Puducherry  Total District(s)  2014    10   \n",
       "\n",
       "       Kidnapping and Abduction  Dowry Deaths  \\\n",
       "0                            30            16   \n",
       "1                            30             7   \n",
       "2                            34            14   \n",
       "3                            20            17   \n",
       "4                            26            12   \n",
       "...                         ...           ...   \n",
       "10672                         0             0   \n",
       "10673                         0             0   \n",
       "10674                         1             0   \n",
       "10675                         6             1   \n",
       "10676                         7             1   \n",
       "\n",
       "       Assault on women with intent to outrage her modesty  \\\n",
       "0                                                    149     \n",
       "1                                                    118     \n",
       "2                                                    112     \n",
       "3                                                    126     \n",
       "4                                                    109     \n",
       "...                                                  ...     \n",
       "10672                                                  1     \n",
       "10673                                                  1     \n",
       "10674                                                 12     \n",
       "10675                                                 20     \n",
       "10676                                                 32     \n",
       "\n",
       "       Insult to modesty of Women  Cruelty by Husband or his Relatives  \\\n",
       "0                              34                                  175   \n",
       "1                              24                                  154   \n",
       "2                              83                                  186   \n",
       "3                              38                                   57   \n",
       "4                              58                                  247   \n",
       "...                           ...                                  ...   \n",
       "10672                           2                                    0   \n",
       "10673                           2                                    0   \n",
       "10674                           1                                    1   \n",
       "10675                           7                                    3   \n",
       "10676                           8                                    4   \n",
       "\n",
       "       Importation of Girls  \n",
       "0                         0  \n",
       "1                         0  \n",
       "2                         0  \n",
       "3                         0  \n",
       "4                         0  \n",
       "...                     ...  \n",
       "10672                     0  \n",
       "10673                     0  \n",
       "10674                     0  \n",
       "10675                     0  \n",
       "10676                     0  \n",
       "\n",
       "[10677 rows x 11 columns]"
      ]
     },
     "execution_count": 43,
     "metadata": {},
     "output_type": "execute_result"
    }
   ],
   "source": [
    "current_path = os.getcwd()\n",
    "data_path = current_path + '/' + 'crimes_against_women_2001-2014.csv'\n",
    "crimes_df = pd.read_csv(data_path)\n",
    "crimes_df"
   ]
  },
  {
   "cell_type": "code",
   "execution_count": 44,
   "metadata": {},
   "outputs": [
    {
     "data": {
      "text/plain": [
       "Unnamed: 0                                             0\n",
       "STATE/UT                                               0\n",
       "DISTRICT                                               0\n",
       "Year                                                   0\n",
       "Rape                                                   0\n",
       "Kidnapping and Abduction                               0\n",
       "Dowry Deaths                                           0\n",
       "Assault on women with intent to outrage her modesty    0\n",
       "Insult to modesty of Women                             0\n",
       "Cruelty by Husband or his Relatives                    0\n",
       "Importation of Girls                                   0\n",
       "dtype: int64"
      ]
     },
     "execution_count": 44,
     "metadata": {},
     "output_type": "execute_result"
    }
   ],
   "source": [
    "# check null value\n",
    "null_value = crimes_df.isnull().sum().sort_values(ascending=False)\n",
    "null_value      # there is no NULL value, no need to drop null value"
   ]
  },
  {
   "cell_type": "code",
   "execution_count": 45,
   "metadata": {},
   "outputs": [],
   "source": [
    "# columne 'Unnamed: 0' is not useful\n",
    "crimes_df.drop([\"Unnamed: 0\"], axis = 1, inplace = True)"
   ]
  },
  {
   "cell_type": "code",
   "execution_count": 46,
   "metadata": {},
   "outputs": [
    {
     "name": "stdout",
     "output_type": "stream",
     "text": [
      "['ANDHRA PRADESH' 'ARUNACHAL PRADESH' 'ASSAM' 'BIHAR' 'CHHATTISGARH' 'GOA'\n",
      " 'GUJARAT' 'HARYANA' 'HIMACHAL PRADESH' 'JAMMU AND KASHMIR' 'JHARKHAND'\n",
      " 'KARNATAKA' 'KERALA' 'MADHYA PRADESH' 'MAHARASHTRA' 'MANIPUR' 'MEGHALAYA'\n",
      " 'MIZORAM' 'NAGALAND' 'ODISHA' 'PUNJAB' 'RAJASTHAN' 'SIKKIM' 'TAMIL NADU'\n",
      " 'TRIPURA' 'UTTAR PRADESH' 'UTTARAKHAND' 'WEST BENGAL'\n",
      " 'ANDAMAN AND NICOBAR ISLANDS' 'CHANDIGARH' 'DADRA AND NAGAR HAVELI'\n",
      " 'DAMAN AND DIU' 'DELHI' 'LAKSHADWEEP' 'PUDUCHERRY' 'TELANGANA']\n"
     ]
    },
    {
     "data": {
      "text/plain": [
       "36"
      ]
     },
     "execution_count": 46,
     "metadata": {},
     "output_type": "execute_result"
    }
   ],
   "source": [
    "# convert to same case\n",
    "crimes_df['STATE/UT'] = crimes_df['STATE/UT'].str.upper()\n",
    "crimes_df['DISTRICT'] = crimes_df['DISTRICT'].str.upper()\n",
    "\n",
    "# convert to uniform format\n",
    "crimes_df['STATE/UT'] = crimes_df['STATE/UT'].str.replace('&', 'AND', regex = True)\n",
    "crimes_df['STATE/UT'] = crimes_df['STATE/UT'].str.replace('A AND N ISlANDS', 'ANDAMAN AND NICOBAR ISLANDS', regex = True)\n",
    "crimes_df['STATE/UT'] = crimes_df['STATE/UT'].str.replace('D AND N HAVELI', 'DADRA AND NAGAR HAVELI', regex = True)\n",
    "\n",
    "crimes_df.loc[crimes_df['STATE/UT'] == 'A AND N ISlANDS', 'STATE/UT'] = 'ANDAMAN AND NICOBAR ISLANDS'\n",
    "crimes_df.loc[crimes_df['STATE/UT'] == 'D AND N HAVELI', 'STATE/UT'] = 'DADRA AND NAGAR HAVELI' \n",
    "crimes_df['STATE/UT'] = crimes_df['STATE/UT'].str.replace('AANDN ISLANDS', 'ANDAMAN AND NICOBAR ISLANDS', regex = True)\n",
    "crimes_df.loc[crimes_df['STATE/UT'] == 'DANDN HAVELI', 'STATE/UT'] = 'DADRA AND NAGAR HAVELI' \n",
    "crimes_df.loc[crimes_df['STATE/UT'] == 'DELHI UT', 'STATE/UT'] = 'DELHI'\n",
    "crimes_df['STATE/UT'] = crimes_df['STATE/UT'].str.replace('A AND N ISLANDS', 'ANDAMAN AND NICOBAR ISLANDS', regex = True)\n",
    "\n",
    "print(crimes_df['STATE/UT'].sort_index().unique())\n",
    "# delete 'total' value in ['DISTRICT'] column\n",
    "crimes_df = crimes_df.drop(crimes_df[crimes_df['DISTRICT'] == 'TOTAL'].index)\n",
    "len(crimes_df['STATE/UT'].unique())"
   ]
  },
  {
   "cell_type": "code",
   "execution_count": 47,
   "metadata": {},
   "outputs": [
    {
     "data": {
      "text/html": [
       "<div>\n",
       "<style scoped>\n",
       "    .dataframe tbody tr th:only-of-type {\n",
       "        vertical-align: middle;\n",
       "    }\n",
       "\n",
       "    .dataframe tbody tr th {\n",
       "        vertical-align: top;\n",
       "    }\n",
       "\n",
       "    .dataframe thead th {\n",
       "        text-align: right;\n",
       "    }\n",
       "</style>\n",
       "<table border=\"1\" class=\"dataframe\">\n",
       "  <thead>\n",
       "    <tr style=\"text-align: right;\">\n",
       "      <th></th>\n",
       "      <th>STATE/UT</th>\n",
       "      <th>DISTRICT</th>\n",
       "      <th>Year</th>\n",
       "      <th>Rape</th>\n",
       "      <th>Kidnapping and Abduction</th>\n",
       "      <th>Dowry Deaths</th>\n",
       "      <th>Assault on women with intent to outrage her modesty</th>\n",
       "      <th>Insult to modesty of Women</th>\n",
       "      <th>Cruelty by Husband or his Relatives</th>\n",
       "      <th>Importation of Girls</th>\n",
       "    </tr>\n",
       "  </thead>\n",
       "  <tbody>\n",
       "    <tr>\n",
       "      <th>0</th>\n",
       "      <td>ANDHRA PRADESH</td>\n",
       "      <td>ADILABAD</td>\n",
       "      <td>2001</td>\n",
       "      <td>50</td>\n",
       "      <td>30</td>\n",
       "      <td>16</td>\n",
       "      <td>149</td>\n",
       "      <td>34</td>\n",
       "      <td>175</td>\n",
       "      <td>0</td>\n",
       "    </tr>\n",
       "    <tr>\n",
       "      <th>1</th>\n",
       "      <td>ANDHRA PRADESH</td>\n",
       "      <td>ANANTAPUR</td>\n",
       "      <td>2001</td>\n",
       "      <td>23</td>\n",
       "      <td>30</td>\n",
       "      <td>7</td>\n",
       "      <td>118</td>\n",
       "      <td>24</td>\n",
       "      <td>154</td>\n",
       "      <td>0</td>\n",
       "    </tr>\n",
       "    <tr>\n",
       "      <th>2</th>\n",
       "      <td>ANDHRA PRADESH</td>\n",
       "      <td>CHITTOOR</td>\n",
       "      <td>2001</td>\n",
       "      <td>27</td>\n",
       "      <td>34</td>\n",
       "      <td>14</td>\n",
       "      <td>112</td>\n",
       "      <td>83</td>\n",
       "      <td>186</td>\n",
       "      <td>0</td>\n",
       "    </tr>\n",
       "    <tr>\n",
       "      <th>3</th>\n",
       "      <td>ANDHRA PRADESH</td>\n",
       "      <td>CUDDAPAH</td>\n",
       "      <td>2001</td>\n",
       "      <td>20</td>\n",
       "      <td>20</td>\n",
       "      <td>17</td>\n",
       "      <td>126</td>\n",
       "      <td>38</td>\n",
       "      <td>57</td>\n",
       "      <td>0</td>\n",
       "    </tr>\n",
       "    <tr>\n",
       "      <th>4</th>\n",
       "      <td>ANDHRA PRADESH</td>\n",
       "      <td>EAST GODAVARI</td>\n",
       "      <td>2001</td>\n",
       "      <td>23</td>\n",
       "      <td>26</td>\n",
       "      <td>12</td>\n",
       "      <td>109</td>\n",
       "      <td>58</td>\n",
       "      <td>247</td>\n",
       "      <td>0</td>\n",
       "    </tr>\n",
       "    <tr>\n",
       "      <th>...</th>\n",
       "      <td>...</td>\n",
       "      <td>...</td>\n",
       "      <td>...</td>\n",
       "      <td>...</td>\n",
       "      <td>...</td>\n",
       "      <td>...</td>\n",
       "      <td>...</td>\n",
       "      <td>...</td>\n",
       "      <td>...</td>\n",
       "      <td>...</td>\n",
       "    </tr>\n",
       "    <tr>\n",
       "      <th>10672</th>\n",
       "      <td>LAKSHADWEEP</td>\n",
       "      <td>LAKSHADWEEP</td>\n",
       "      <td>2014</td>\n",
       "      <td>1</td>\n",
       "      <td>0</td>\n",
       "      <td>0</td>\n",
       "      <td>1</td>\n",
       "      <td>2</td>\n",
       "      <td>0</td>\n",
       "      <td>0</td>\n",
       "    </tr>\n",
       "    <tr>\n",
       "      <th>10673</th>\n",
       "      <td>LAKSHADWEEP</td>\n",
       "      <td>TOTAL DISTRICT(S)</td>\n",
       "      <td>2014</td>\n",
       "      <td>1</td>\n",
       "      <td>0</td>\n",
       "      <td>0</td>\n",
       "      <td>1</td>\n",
       "      <td>2</td>\n",
       "      <td>0</td>\n",
       "      <td>0</td>\n",
       "    </tr>\n",
       "    <tr>\n",
       "      <th>10674</th>\n",
       "      <td>PUDUCHERRY</td>\n",
       "      <td>KARAIKAL</td>\n",
       "      <td>2014</td>\n",
       "      <td>3</td>\n",
       "      <td>1</td>\n",
       "      <td>0</td>\n",
       "      <td>12</td>\n",
       "      <td>1</td>\n",
       "      <td>1</td>\n",
       "      <td>0</td>\n",
       "    </tr>\n",
       "    <tr>\n",
       "      <th>10675</th>\n",
       "      <td>PUDUCHERRY</td>\n",
       "      <td>PUDUCHERRY</td>\n",
       "      <td>2014</td>\n",
       "      <td>7</td>\n",
       "      <td>6</td>\n",
       "      <td>1</td>\n",
       "      <td>20</td>\n",
       "      <td>7</td>\n",
       "      <td>3</td>\n",
       "      <td>0</td>\n",
       "    </tr>\n",
       "    <tr>\n",
       "      <th>10676</th>\n",
       "      <td>PUDUCHERRY</td>\n",
       "      <td>TOTAL DISTRICT(S)</td>\n",
       "      <td>2014</td>\n",
       "      <td>10</td>\n",
       "      <td>7</td>\n",
       "      <td>1</td>\n",
       "      <td>32</td>\n",
       "      <td>8</td>\n",
       "      <td>4</td>\n",
       "      <td>0</td>\n",
       "    </tr>\n",
       "  </tbody>\n",
       "</table>\n",
       "<p>10269 rows × 10 columns</p>\n",
       "</div>"
      ],
      "text/plain": [
       "             STATE/UT           DISTRICT  Year  Rape  \\\n",
       "0      ANDHRA PRADESH           ADILABAD  2001    50   \n",
       "1      ANDHRA PRADESH          ANANTAPUR  2001    23   \n",
       "2      ANDHRA PRADESH           CHITTOOR  2001    27   \n",
       "3      ANDHRA PRADESH           CUDDAPAH  2001    20   \n",
       "4      ANDHRA PRADESH      EAST GODAVARI  2001    23   \n",
       "...               ...                ...   ...   ...   \n",
       "10672     LAKSHADWEEP        LAKSHADWEEP  2014     1   \n",
       "10673     LAKSHADWEEP  TOTAL DISTRICT(S)  2014     1   \n",
       "10674      PUDUCHERRY           KARAIKAL  2014     3   \n",
       "10675      PUDUCHERRY         PUDUCHERRY  2014     7   \n",
       "10676      PUDUCHERRY  TOTAL DISTRICT(S)  2014    10   \n",
       "\n",
       "       Kidnapping and Abduction  Dowry Deaths  \\\n",
       "0                            30            16   \n",
       "1                            30             7   \n",
       "2                            34            14   \n",
       "3                            20            17   \n",
       "4                            26            12   \n",
       "...                         ...           ...   \n",
       "10672                         0             0   \n",
       "10673                         0             0   \n",
       "10674                         1             0   \n",
       "10675                         6             1   \n",
       "10676                         7             1   \n",
       "\n",
       "       Assault on women with intent to outrage her modesty  \\\n",
       "0                                                    149     \n",
       "1                                                    118     \n",
       "2                                                    112     \n",
       "3                                                    126     \n",
       "4                                                    109     \n",
       "...                                                  ...     \n",
       "10672                                                  1     \n",
       "10673                                                  1     \n",
       "10674                                                 12     \n",
       "10675                                                 20     \n",
       "10676                                                 32     \n",
       "\n",
       "       Insult to modesty of Women  Cruelty by Husband or his Relatives  \\\n",
       "0                              34                                  175   \n",
       "1                              24                                  154   \n",
       "2                              83                                  186   \n",
       "3                              38                                   57   \n",
       "4                              58                                  247   \n",
       "...                           ...                                  ...   \n",
       "10672                           2                                    0   \n",
       "10673                           2                                    0   \n",
       "10674                           1                                    1   \n",
       "10675                           7                                    3   \n",
       "10676                           8                                    4   \n",
       "\n",
       "       Importation of Girls  \n",
       "0                         0  \n",
       "1                         0  \n",
       "2                         0  \n",
       "3                         0  \n",
       "4                         0  \n",
       "...                     ...  \n",
       "10672                     0  \n",
       "10673                     0  \n",
       "10674                     0  \n",
       "10675                     0  \n",
       "10676                     0  \n",
       "\n",
       "[10269 rows x 10 columns]"
      ]
     },
     "execution_count": 47,
     "metadata": {},
     "output_type": "execute_result"
    }
   ],
   "source": [
    "crimes_df"
   ]
  },
  {
   "cell_type": "code",
   "execution_count": 48,
   "metadata": {},
   "outputs": [
    {
     "name": "stdout",
     "output_type": "stream",
     "text": [
      "<class 'pandas.core.frame.DataFrame'>\n",
      "Int64Index: 10269 entries, 0 to 10676\n",
      "Data columns (total 10 columns):\n",
      " #   Column                                               Non-Null Count  Dtype \n",
      "---  ------                                               --------------  ----- \n",
      " 0   STATE/UT                                             10269 non-null  object\n",
      " 1   DISTRICT                                             10269 non-null  object\n",
      " 2   Year                                                 10269 non-null  int64 \n",
      " 3   Rape                                                 10269 non-null  int64 \n",
      " 4   Kidnapping and Abduction                             10269 non-null  int64 \n",
      " 5   Dowry Deaths                                         10269 non-null  int64 \n",
      " 6   Assault on women with intent to outrage her modesty  10269 non-null  int64 \n",
      " 7   Insult to modesty of Women                           10269 non-null  int64 \n",
      " 8   Cruelty by Husband or his Relatives                  10269 non-null  int64 \n",
      " 9   Importation of Girls                                 10269 non-null  int64 \n",
      "dtypes: int64(8), object(2)\n",
      "memory usage: 882.5+ KB\n"
     ]
    }
   ],
   "source": [
    "crimes_df.info()"
   ]
  },
  {
   "cell_type": "code",
   "execution_count": 49,
   "metadata": {},
   "outputs": [
    {
     "data": {
      "text/html": [
       "<div>\n",
       "<style scoped>\n",
       "    .dataframe tbody tr th:only-of-type {\n",
       "        vertical-align: middle;\n",
       "    }\n",
       "\n",
       "    .dataframe tbody tr th {\n",
       "        vertical-align: top;\n",
       "    }\n",
       "\n",
       "    .dataframe thead th {\n",
       "        text-align: right;\n",
       "    }\n",
       "</style>\n",
       "<table border=\"1\" class=\"dataframe\">\n",
       "  <thead>\n",
       "    <tr style=\"text-align: right;\">\n",
       "      <th></th>\n",
       "      <th>Year</th>\n",
       "      <th>Rape</th>\n",
       "      <th>Kidnapping and Abduction</th>\n",
       "      <th>Dowry Deaths</th>\n",
       "      <th>Assault on women with intent to outrage her modesty</th>\n",
       "      <th>Insult to modesty of Women</th>\n",
       "      <th>Cruelty by Husband or his Relatives</th>\n",
       "      <th>Importation of Girls</th>\n",
       "    </tr>\n",
       "  </thead>\n",
       "  <tbody>\n",
       "    <tr>\n",
       "      <th>count</th>\n",
       "      <td>10269.000000</td>\n",
       "      <td>10269.000000</td>\n",
       "      <td>10269.000000</td>\n",
       "      <td>10269.000000</td>\n",
       "      <td>10269.000000</td>\n",
       "      <td>10269.000000</td>\n",
       "      <td>10269.000000</td>\n",
       "      <td>10269.000000</td>\n",
       "    </tr>\n",
       "    <tr>\n",
       "      <th>mean</th>\n",
       "      <td>2007.745545</td>\n",
       "      <td>37.632194</td>\n",
       "      <td>48.489726</td>\n",
       "      <td>12.256305</td>\n",
       "      <td>74.655468</td>\n",
       "      <td>16.592560</td>\n",
       "      <td>133.790827</td>\n",
       "      <td>0.095530</td>\n",
       "    </tr>\n",
       "    <tr>\n",
       "      <th>std</th>\n",
       "      <td>4.061421</td>\n",
       "      <td>131.052535</td>\n",
       "      <td>227.327579</td>\n",
       "      <td>44.524311</td>\n",
       "      <td>296.482485</td>\n",
       "      <td>79.493913</td>\n",
       "      <td>526.882271</td>\n",
       "      <td>1.326635</td>\n",
       "    </tr>\n",
       "    <tr>\n",
       "      <th>min</th>\n",
       "      <td>2001.000000</td>\n",
       "      <td>0.000000</td>\n",
       "      <td>0.000000</td>\n",
       "      <td>0.000000</td>\n",
       "      <td>0.000000</td>\n",
       "      <td>0.000000</td>\n",
       "      <td>0.000000</td>\n",
       "      <td>0.000000</td>\n",
       "    </tr>\n",
       "    <tr>\n",
       "      <th>25%</th>\n",
       "      <td>2004.000000</td>\n",
       "      <td>8.000000</td>\n",
       "      <td>6.000000</td>\n",
       "      <td>1.000000</td>\n",
       "      <td>10.000000</td>\n",
       "      <td>0.000000</td>\n",
       "      <td>11.000000</td>\n",
       "      <td>0.000000</td>\n",
       "    </tr>\n",
       "    <tr>\n",
       "      <th>50%</th>\n",
       "      <td>2008.000000</td>\n",
       "      <td>21.000000</td>\n",
       "      <td>19.000000</td>\n",
       "      <td>5.000000</td>\n",
       "      <td>33.000000</td>\n",
       "      <td>1.000000</td>\n",
       "      <td>49.000000</td>\n",
       "      <td>0.000000</td>\n",
       "    </tr>\n",
       "    <tr>\n",
       "      <th>75%</th>\n",
       "      <td>2011.000000</td>\n",
       "      <td>42.000000</td>\n",
       "      <td>46.000000</td>\n",
       "      <td>15.000000</td>\n",
       "      <td>80.000000</td>\n",
       "      <td>11.000000</td>\n",
       "      <td>136.000000</td>\n",
       "      <td>0.000000</td>\n",
       "    </tr>\n",
       "    <tr>\n",
       "      <th>max</th>\n",
       "      <td>2014.000000</td>\n",
       "      <td>5076.000000</td>\n",
       "      <td>10626.000000</td>\n",
       "      <td>2469.000000</td>\n",
       "      <td>10001.000000</td>\n",
       "      <td>4702.000000</td>\n",
       "      <td>23278.000000</td>\n",
       "      <td>60.000000</td>\n",
       "    </tr>\n",
       "  </tbody>\n",
       "</table>\n",
       "</div>"
      ],
      "text/plain": [
       "               Year          Rape  Kidnapping and Abduction  Dowry Deaths  \\\n",
       "count  10269.000000  10269.000000              10269.000000  10269.000000   \n",
       "mean    2007.745545     37.632194                 48.489726     12.256305   \n",
       "std        4.061421    131.052535                227.327579     44.524311   \n",
       "min     2001.000000      0.000000                  0.000000      0.000000   \n",
       "25%     2004.000000      8.000000                  6.000000      1.000000   \n",
       "50%     2008.000000     21.000000                 19.000000      5.000000   \n",
       "75%     2011.000000     42.000000                 46.000000     15.000000   \n",
       "max     2014.000000   5076.000000              10626.000000   2469.000000   \n",
       "\n",
       "       Assault on women with intent to outrage her modesty  \\\n",
       "count                                       10269.000000     \n",
       "mean                                           74.655468     \n",
       "std                                           296.482485     \n",
       "min                                             0.000000     \n",
       "25%                                            10.000000     \n",
       "50%                                            33.000000     \n",
       "75%                                            80.000000     \n",
       "max                                         10001.000000     \n",
       "\n",
       "       Insult to modesty of Women  Cruelty by Husband or his Relatives  \\\n",
       "count                10269.000000                         10269.000000   \n",
       "mean                    16.592560                           133.790827   \n",
       "std                     79.493913                           526.882271   \n",
       "min                      0.000000                             0.000000   \n",
       "25%                      0.000000                            11.000000   \n",
       "50%                      1.000000                            49.000000   \n",
       "75%                     11.000000                           136.000000   \n",
       "max                   4702.000000                         23278.000000   \n",
       "\n",
       "       Importation of Girls  \n",
       "count          10269.000000  \n",
       "mean               0.095530  \n",
       "std                1.326635  \n",
       "min                0.000000  \n",
       "25%                0.000000  \n",
       "50%                0.000000  \n",
       "75%                0.000000  \n",
       "max               60.000000  "
      ]
     },
     "execution_count": 49,
     "metadata": {},
     "output_type": "execute_result"
    }
   ],
   "source": [
    "crimes_df.describe()"
   ]
  },
  {
   "cell_type": "markdown",
   "metadata": {},
   "source": [
    "### Problem: How many crimes in each year? What about its trend?"
   ]
  },
  {
   "cell_type": "markdown",
   "metadata": {},
   "source": [
    "### Coding and visualization"
   ]
  },
  {
   "cell_type": "code",
   "execution_count": 50,
   "metadata": {},
   "outputs": [
    {
     "data": {
      "text/html": [
       "<div>\n",
       "<style scoped>\n",
       "    .dataframe tbody tr th:only-of-type {\n",
       "        vertical-align: middle;\n",
       "    }\n",
       "\n",
       "    .dataframe tbody tr th {\n",
       "        vertical-align: top;\n",
       "    }\n",
       "\n",
       "    .dataframe thead th {\n",
       "        text-align: right;\n",
       "    }\n",
       "</style>\n",
       "<table border=\"1\" class=\"dataframe\">\n",
       "  <thead>\n",
       "    <tr style=\"text-align: right;\">\n",
       "      <th></th>\n",
       "      <th>STATE/UT</th>\n",
       "      <th>DISTRICT</th>\n",
       "      <th>Year</th>\n",
       "      <th>Rape</th>\n",
       "      <th>Kidnapping and Abduction</th>\n",
       "      <th>Dowry Deaths</th>\n",
       "      <th>Assault on women with intent to outrage her modesty</th>\n",
       "      <th>Insult to modesty of Women</th>\n",
       "      <th>Cruelty by Husband or his Relatives</th>\n",
       "      <th>Importation of Girls</th>\n",
       "      <th>total_crimes</th>\n",
       "    </tr>\n",
       "  </thead>\n",
       "  <tbody>\n",
       "    <tr>\n",
       "      <th>0</th>\n",
       "      <td>ANDHRA PRADESH</td>\n",
       "      <td>ADILABAD</td>\n",
       "      <td>2001</td>\n",
       "      <td>50</td>\n",
       "      <td>30</td>\n",
       "      <td>16</td>\n",
       "      <td>149</td>\n",
       "      <td>34</td>\n",
       "      <td>175</td>\n",
       "      <td>0</td>\n",
       "      <td>454</td>\n",
       "    </tr>\n",
       "    <tr>\n",
       "      <th>1</th>\n",
       "      <td>ANDHRA PRADESH</td>\n",
       "      <td>ANANTAPUR</td>\n",
       "      <td>2001</td>\n",
       "      <td>23</td>\n",
       "      <td>30</td>\n",
       "      <td>7</td>\n",
       "      <td>118</td>\n",
       "      <td>24</td>\n",
       "      <td>154</td>\n",
       "      <td>0</td>\n",
       "      <td>356</td>\n",
       "    </tr>\n",
       "    <tr>\n",
       "      <th>2</th>\n",
       "      <td>ANDHRA PRADESH</td>\n",
       "      <td>CHITTOOR</td>\n",
       "      <td>2001</td>\n",
       "      <td>27</td>\n",
       "      <td>34</td>\n",
       "      <td>14</td>\n",
       "      <td>112</td>\n",
       "      <td>83</td>\n",
       "      <td>186</td>\n",
       "      <td>0</td>\n",
       "      <td>456</td>\n",
       "    </tr>\n",
       "    <tr>\n",
       "      <th>3</th>\n",
       "      <td>ANDHRA PRADESH</td>\n",
       "      <td>CUDDAPAH</td>\n",
       "      <td>2001</td>\n",
       "      <td>20</td>\n",
       "      <td>20</td>\n",
       "      <td>17</td>\n",
       "      <td>126</td>\n",
       "      <td>38</td>\n",
       "      <td>57</td>\n",
       "      <td>0</td>\n",
       "      <td>278</td>\n",
       "    </tr>\n",
       "    <tr>\n",
       "      <th>4</th>\n",
       "      <td>ANDHRA PRADESH</td>\n",
       "      <td>EAST GODAVARI</td>\n",
       "      <td>2001</td>\n",
       "      <td>23</td>\n",
       "      <td>26</td>\n",
       "      <td>12</td>\n",
       "      <td>109</td>\n",
       "      <td>58</td>\n",
       "      <td>247</td>\n",
       "      <td>0</td>\n",
       "      <td>475</td>\n",
       "    </tr>\n",
       "    <tr>\n",
       "      <th>...</th>\n",
       "      <td>...</td>\n",
       "      <td>...</td>\n",
       "      <td>...</td>\n",
       "      <td>...</td>\n",
       "      <td>...</td>\n",
       "      <td>...</td>\n",
       "      <td>...</td>\n",
       "      <td>...</td>\n",
       "      <td>...</td>\n",
       "      <td>...</td>\n",
       "      <td>...</td>\n",
       "    </tr>\n",
       "    <tr>\n",
       "      <th>10672</th>\n",
       "      <td>LAKSHADWEEP</td>\n",
       "      <td>LAKSHADWEEP</td>\n",
       "      <td>2014</td>\n",
       "      <td>1</td>\n",
       "      <td>0</td>\n",
       "      <td>0</td>\n",
       "      <td>1</td>\n",
       "      <td>2</td>\n",
       "      <td>0</td>\n",
       "      <td>0</td>\n",
       "      <td>4</td>\n",
       "    </tr>\n",
       "    <tr>\n",
       "      <th>10673</th>\n",
       "      <td>LAKSHADWEEP</td>\n",
       "      <td>TOTAL DISTRICT(S)</td>\n",
       "      <td>2014</td>\n",
       "      <td>1</td>\n",
       "      <td>0</td>\n",
       "      <td>0</td>\n",
       "      <td>1</td>\n",
       "      <td>2</td>\n",
       "      <td>0</td>\n",
       "      <td>0</td>\n",
       "      <td>4</td>\n",
       "    </tr>\n",
       "    <tr>\n",
       "      <th>10674</th>\n",
       "      <td>PUDUCHERRY</td>\n",
       "      <td>KARAIKAL</td>\n",
       "      <td>2014</td>\n",
       "      <td>3</td>\n",
       "      <td>1</td>\n",
       "      <td>0</td>\n",
       "      <td>12</td>\n",
       "      <td>1</td>\n",
       "      <td>1</td>\n",
       "      <td>0</td>\n",
       "      <td>18</td>\n",
       "    </tr>\n",
       "    <tr>\n",
       "      <th>10675</th>\n",
       "      <td>PUDUCHERRY</td>\n",
       "      <td>PUDUCHERRY</td>\n",
       "      <td>2014</td>\n",
       "      <td>7</td>\n",
       "      <td>6</td>\n",
       "      <td>1</td>\n",
       "      <td>20</td>\n",
       "      <td>7</td>\n",
       "      <td>3</td>\n",
       "      <td>0</td>\n",
       "      <td>44</td>\n",
       "    </tr>\n",
       "    <tr>\n",
       "      <th>10676</th>\n",
       "      <td>PUDUCHERRY</td>\n",
       "      <td>TOTAL DISTRICT(S)</td>\n",
       "      <td>2014</td>\n",
       "      <td>10</td>\n",
       "      <td>7</td>\n",
       "      <td>1</td>\n",
       "      <td>32</td>\n",
       "      <td>8</td>\n",
       "      <td>4</td>\n",
       "      <td>0</td>\n",
       "      <td>62</td>\n",
       "    </tr>\n",
       "  </tbody>\n",
       "</table>\n",
       "<p>10269 rows × 11 columns</p>\n",
       "</div>"
      ],
      "text/plain": [
       "             STATE/UT           DISTRICT  Year  Rape  \\\n",
       "0      ANDHRA PRADESH           ADILABAD  2001    50   \n",
       "1      ANDHRA PRADESH          ANANTAPUR  2001    23   \n",
       "2      ANDHRA PRADESH           CHITTOOR  2001    27   \n",
       "3      ANDHRA PRADESH           CUDDAPAH  2001    20   \n",
       "4      ANDHRA PRADESH      EAST GODAVARI  2001    23   \n",
       "...               ...                ...   ...   ...   \n",
       "10672     LAKSHADWEEP        LAKSHADWEEP  2014     1   \n",
       "10673     LAKSHADWEEP  TOTAL DISTRICT(S)  2014     1   \n",
       "10674      PUDUCHERRY           KARAIKAL  2014     3   \n",
       "10675      PUDUCHERRY         PUDUCHERRY  2014     7   \n",
       "10676      PUDUCHERRY  TOTAL DISTRICT(S)  2014    10   \n",
       "\n",
       "       Kidnapping and Abduction  Dowry Deaths  \\\n",
       "0                            30            16   \n",
       "1                            30             7   \n",
       "2                            34            14   \n",
       "3                            20            17   \n",
       "4                            26            12   \n",
       "...                         ...           ...   \n",
       "10672                         0             0   \n",
       "10673                         0             0   \n",
       "10674                         1             0   \n",
       "10675                         6             1   \n",
       "10676                         7             1   \n",
       "\n",
       "       Assault on women with intent to outrage her modesty  \\\n",
       "0                                                    149     \n",
       "1                                                    118     \n",
       "2                                                    112     \n",
       "3                                                    126     \n",
       "4                                                    109     \n",
       "...                                                  ...     \n",
       "10672                                                  1     \n",
       "10673                                                  1     \n",
       "10674                                                 12     \n",
       "10675                                                 20     \n",
       "10676                                                 32     \n",
       "\n",
       "       Insult to modesty of Women  Cruelty by Husband or his Relatives  \\\n",
       "0                              34                                  175   \n",
       "1                              24                                  154   \n",
       "2                              83                                  186   \n",
       "3                              38                                   57   \n",
       "4                              58                                  247   \n",
       "...                           ...                                  ...   \n",
       "10672                           2                                    0   \n",
       "10673                           2                                    0   \n",
       "10674                           1                                    1   \n",
       "10675                           7                                    3   \n",
       "10676                           8                                    4   \n",
       "\n",
       "       Importation of Girls  total_crimes  \n",
       "0                         0           454  \n",
       "1                         0           356  \n",
       "2                         0           456  \n",
       "3                         0           278  \n",
       "4                         0           475  \n",
       "...                     ...           ...  \n",
       "10672                     0             4  \n",
       "10673                     0             4  \n",
       "10674                     0            18  \n",
       "10675                     0            44  \n",
       "10676                     0            62  \n",
       "\n",
       "[10269 rows x 11 columns]"
      ]
     },
     "execution_count": 50,
     "metadata": {},
     "output_type": "execute_result"
    }
   ],
   "source": [
    "# sum crimes up and create a new column to store it\n",
    "total_DF = pd.DataFrame()\n",
    "total_DF = crimes_df.copy()       # use copy, do not make any operation into original data\n",
    "total_DF['total_crimes'] = (total_DF['Rape'] + total_DF['Kidnapping and Abduction'] + total_DF['Dowry Deaths']\n",
    "                             + total_DF['Assault on women with intent to outrage her modesty']\n",
    "                             + total_DF['Insult to modesty of Women'] + total_DF['Cruelty by Husband or his Relatives']\n",
    "                             + total_DF['Importation of Girls'])\n",
    "total_DF"
   ]
  },
  {
   "cell_type": "code",
   "execution_count": 51,
   "metadata": {},
   "outputs": [
    {
     "name": "stdout",
     "output_type": "stream",
     "text": [
      "From 2001 to 2014, the total number of crimes show as following:\n",
      "\n"
     ]
    },
    {
     "data": {
      "text/html": [
       "<div>\n",
       "<style scoped>\n",
       "    .dataframe tbody tr th:only-of-type {\n",
       "        vertical-align: middle;\n",
       "    }\n",
       "\n",
       "    .dataframe tbody tr th {\n",
       "        vertical-align: top;\n",
       "    }\n",
       "\n",
       "    .dataframe thead th {\n",
       "        text-align: right;\n",
       "    }\n",
       "</style>\n",
       "<table border=\"1\" class=\"dataframe\">\n",
       "  <thead>\n",
       "    <tr style=\"text-align: right;\">\n",
       "      <th></th>\n",
       "      <th>Rape</th>\n",
       "      <th>Kidnapping and Abduction</th>\n",
       "      <th>Dowry Deaths</th>\n",
       "      <th>Assault on women with intent to outrage her modesty</th>\n",
       "      <th>Insult to modesty of Women</th>\n",
       "      <th>Cruelty by Husband or his Relatives</th>\n",
       "      <th>Importation of Girls</th>\n",
       "      <th>total_crimes</th>\n",
       "    </tr>\n",
       "    <tr>\n",
       "      <th>Year</th>\n",
       "      <th></th>\n",
       "      <th></th>\n",
       "      <th></th>\n",
       "      <th></th>\n",
       "      <th></th>\n",
       "      <th></th>\n",
       "      <th></th>\n",
       "      <th></th>\n",
       "    </tr>\n",
       "  </thead>\n",
       "  <tbody>\n",
       "    <tr>\n",
       "      <th>2001</th>\n",
       "      <td>16456</td>\n",
       "      <td>15609</td>\n",
       "      <td>6964</td>\n",
       "      <td>34626</td>\n",
       "      <td>9836</td>\n",
       "      <td>49308</td>\n",
       "      <td>114</td>\n",
       "      <td>132913</td>\n",
       "    </tr>\n",
       "    <tr>\n",
       "      <th>2002</th>\n",
       "      <td>16776</td>\n",
       "      <td>15399</td>\n",
       "      <td>6957</td>\n",
       "      <td>34389</td>\n",
       "      <td>10283</td>\n",
       "      <td>49372</td>\n",
       "      <td>76</td>\n",
       "      <td>133252</td>\n",
       "    </tr>\n",
       "    <tr>\n",
       "      <th>2003</th>\n",
       "      <td>16337</td>\n",
       "      <td>14093</td>\n",
       "      <td>6338</td>\n",
       "      <td>33428</td>\n",
       "      <td>12430</td>\n",
       "      <td>51914</td>\n",
       "      <td>46</td>\n",
       "      <td>134586</td>\n",
       "    </tr>\n",
       "    <tr>\n",
       "      <th>2004</th>\n",
       "      <td>18784</td>\n",
       "      <td>16459</td>\n",
       "      <td>7152</td>\n",
       "      <td>35168</td>\n",
       "      <td>10131</td>\n",
       "      <td>59375</td>\n",
       "      <td>89</td>\n",
       "      <td>147158</td>\n",
       "    </tr>\n",
       "    <tr>\n",
       "      <th>2005</th>\n",
       "      <td>19017</td>\n",
       "      <td>16856</td>\n",
       "      <td>6901</td>\n",
       "      <td>34937</td>\n",
       "      <td>10209</td>\n",
       "      <td>59643</td>\n",
       "      <td>150</td>\n",
       "      <td>147713</td>\n",
       "    </tr>\n",
       "    <tr>\n",
       "      <th>2006</th>\n",
       "      <td>19971</td>\n",
       "      <td>18480</td>\n",
       "      <td>7755</td>\n",
       "      <td>37335</td>\n",
       "      <td>10110</td>\n",
       "      <td>64856</td>\n",
       "      <td>67</td>\n",
       "      <td>158574</td>\n",
       "    </tr>\n",
       "    <tr>\n",
       "      <th>2007</th>\n",
       "      <td>21335</td>\n",
       "      <td>21583</td>\n",
       "      <td>8231</td>\n",
       "      <td>39602</td>\n",
       "      <td>11117</td>\n",
       "      <td>77717</td>\n",
       "      <td>61</td>\n",
       "      <td>179646</td>\n",
       "    </tr>\n",
       "    <tr>\n",
       "      <th>2008</th>\n",
       "      <td>21933</td>\n",
       "      <td>24075</td>\n",
       "      <td>8301</td>\n",
       "      <td>41024</td>\n",
       "      <td>12344</td>\n",
       "      <td>82731</td>\n",
       "      <td>67</td>\n",
       "      <td>190475</td>\n",
       "    </tr>\n",
       "    <tr>\n",
       "      <th>2009</th>\n",
       "      <td>21866</td>\n",
       "      <td>27396</td>\n",
       "      <td>8524</td>\n",
       "      <td>39263</td>\n",
       "      <td>11127</td>\n",
       "      <td>90829</td>\n",
       "      <td>48</td>\n",
       "      <td>199053</td>\n",
       "    </tr>\n",
       "    <tr>\n",
       "      <th>2010</th>\n",
       "      <td>22679</td>\n",
       "      <td>31535</td>\n",
       "      <td>8534</td>\n",
       "      <td>41214</td>\n",
       "      <td>10041</td>\n",
       "      <td>95445</td>\n",
       "      <td>36</td>\n",
       "      <td>209484</td>\n",
       "    </tr>\n",
       "    <tr>\n",
       "      <th>2011</th>\n",
       "      <td>24778</td>\n",
       "      <td>37650</td>\n",
       "      <td>8760</td>\n",
       "      <td>43625</td>\n",
       "      <td>8732</td>\n",
       "      <td>100710</td>\n",
       "      <td>80</td>\n",
       "      <td>224335</td>\n",
       "    </tr>\n",
       "    <tr>\n",
       "      <th>2012</th>\n",
       "      <td>25629</td>\n",
       "      <td>40422</td>\n",
       "      <td>8367</td>\n",
       "      <td>46078</td>\n",
       "      <td>9381</td>\n",
       "      <td>108512</td>\n",
       "      <td>59</td>\n",
       "      <td>238448</td>\n",
       "    </tr>\n",
       "    <tr>\n",
       "      <th>2013</th>\n",
       "      <td>67414</td>\n",
       "      <td>103762</td>\n",
       "      <td>16166</td>\n",
       "      <td>141478</td>\n",
       "      <td>25178</td>\n",
       "      <td>237732</td>\n",
       "      <td>62</td>\n",
       "      <td>591792</td>\n",
       "    </tr>\n",
       "    <tr>\n",
       "      <th>2014</th>\n",
       "      <td>73470</td>\n",
       "      <td>114622</td>\n",
       "      <td>16910</td>\n",
       "      <td>164470</td>\n",
       "      <td>19470</td>\n",
       "      <td>245754</td>\n",
       "      <td>26</td>\n",
       "      <td>634722</td>\n",
       "    </tr>\n",
       "  </tbody>\n",
       "</table>\n",
       "</div>"
      ],
      "text/plain": [
       "       Rape  Kidnapping and Abduction  Dowry Deaths  \\\n",
       "Year                                                  \n",
       "2001  16456                     15609          6964   \n",
       "2002  16776                     15399          6957   \n",
       "2003  16337                     14093          6338   \n",
       "2004  18784                     16459          7152   \n",
       "2005  19017                     16856          6901   \n",
       "2006  19971                     18480          7755   \n",
       "2007  21335                     21583          8231   \n",
       "2008  21933                     24075          8301   \n",
       "2009  21866                     27396          8524   \n",
       "2010  22679                     31535          8534   \n",
       "2011  24778                     37650          8760   \n",
       "2012  25629                     40422          8367   \n",
       "2013  67414                    103762         16166   \n",
       "2014  73470                    114622         16910   \n",
       "\n",
       "      Assault on women with intent to outrage her modesty  \\\n",
       "Year                                                        \n",
       "2001                                              34626     \n",
       "2002                                              34389     \n",
       "2003                                              33428     \n",
       "2004                                              35168     \n",
       "2005                                              34937     \n",
       "2006                                              37335     \n",
       "2007                                              39602     \n",
       "2008                                              41024     \n",
       "2009                                              39263     \n",
       "2010                                              41214     \n",
       "2011                                              43625     \n",
       "2012                                              46078     \n",
       "2013                                             141478     \n",
       "2014                                             164470     \n",
       "\n",
       "      Insult to modesty of Women  Cruelty by Husband or his Relatives  \\\n",
       "Year                                                                    \n",
       "2001                        9836                                49308   \n",
       "2002                       10283                                49372   \n",
       "2003                       12430                                51914   \n",
       "2004                       10131                                59375   \n",
       "2005                       10209                                59643   \n",
       "2006                       10110                                64856   \n",
       "2007                       11117                                77717   \n",
       "2008                       12344                                82731   \n",
       "2009                       11127                                90829   \n",
       "2010                       10041                                95445   \n",
       "2011                        8732                               100710   \n",
       "2012                        9381                               108512   \n",
       "2013                       25178                               237732   \n",
       "2014                       19470                               245754   \n",
       "\n",
       "      Importation of Girls  total_crimes  \n",
       "Year                                      \n",
       "2001                   114        132913  \n",
       "2002                    76        133252  \n",
       "2003                    46        134586  \n",
       "2004                    89        147158  \n",
       "2005                   150        147713  \n",
       "2006                    67        158574  \n",
       "2007                    61        179646  \n",
       "2008                    67        190475  \n",
       "2009                    48        199053  \n",
       "2010                    36        209484  \n",
       "2011                    80        224335  \n",
       "2012                    59        238448  \n",
       "2013                    62        591792  \n",
       "2014                    26        634722  "
      ]
     },
     "execution_count": 51,
     "metadata": {},
     "output_type": "execute_result"
    }
   ],
   "source": [
    "# set all crimes types into list for loop\n",
    "crimes_types = ['Rape','Kidnapping and Abduction','Dowry Deaths',\n",
    "        'Assault on women with intent to outrage her modesty',\n",
    "        'Insult to modesty of Women','Cruelty by Husband or his Relatives',\n",
    "        'Importation of Girls','total_crimes']\n",
    "# group by 'Year' and calculate sum of it\n",
    "new_crimes_types = pd.DataFrame()\n",
    "for i in crimes_types:\n",
    "    new_crimes_types[i] = total_DF.groupby(['Year'])[i].sum()\n",
    "    \n",
    "print('From 2001 to 2014, the total number of crimes show as following:\\n')\n",
    "new_crimes_types"
   ]
  },
  {
   "cell_type": "markdown",
   "metadata": {},
   "source": [
    "<div>\n",
    "    <h3>Analysis<h3>\n",
    "    <h4><p>&nbsp;&nbsp;&nbsp;According to above table, rape, kidnapping and abduction, assault on women with intent to outrage her modesty and cruelty by husband or his relatives predominate in crime counts.</p><h4>\n",
    "</div>"
   ]
  },
  {
   "cell_type": "code",
   "execution_count": 52,
   "metadata": {},
   "outputs": [
    {
     "data": {
      "image/png": "[encoded data removed]",
      "text/plain": [
       "<Figure size 1000x500 with 1 Axes>"
      ]
     },
     "metadata": {},
     "output_type": "display_data"
    }
   ],
   "source": [
    "# from 2001 to 2014 put into list, convert to array\n",
    "temp_list = []\n",
    "for year in range(2001, 2015):\n",
    "    temp_list.append(year)\n",
    "temp_arr = np.array(temp_list)\n",
    "\n",
    "# visualization\n",
    "plt.figure(figsize = (10, 5))\n",
    "plt.axes().grid(axis = 'y', linestyle = '--', color = 'black')\n",
    "\n",
    "sns.barplot(data = new_crimes_types, x = temp_arr, y = 'total_crimes', palette = 'Reds')\n",
    "plt.xlabel('Year')\n",
    "plt.ylabel('Total crimes')\n",
    "plt.title('From 2001 to 2014, the number of crimes', fontsize = 12)\n",
    "plt.show()"
   ]
  },
  {
   "cell_type": "markdown",
   "metadata": {},
   "source": [
    "<div>\n",
    "    <h3>Analysis<h3>\n",
    "    <h4><p>&nbsp;&nbsp;&nbsp;According to above bar chart, there was a slight increase in the number of crimes from 2001 to 2012. In addition, the number of crimes grow up significantly from 2012 to 2014, and it reached the peak in 2014.</p><h4>\n",
    "</div>"
   ]
  },
  {
   "cell_type": "markdown",
   "metadata": {},
   "source": [
    "### Problem: What about each crime type trend from 2001 to 2014?\n",
    "### Coding and visualization"
   ]
  },
  {
   "cell_type": "markdown",
   "metadata": {},
   "source": [
    "#### Rape"
   ]
  },
  {
   "cell_type": "code",
   "execution_count": 53,
   "metadata": {},
   "outputs": [
    {
     "data": {
      "text/html": [
       "<div>\n",
       "<style scoped>\n",
       "    .dataframe tbody tr th:only-of-type {\n",
       "        vertical-align: middle;\n",
       "    }\n",
       "\n",
       "    .dataframe tbody tr th {\n",
       "        vertical-align: top;\n",
       "    }\n",
       "\n",
       "    .dataframe thead th {\n",
       "        text-align: right;\n",
       "    }\n",
       "</style>\n",
       "<table border=\"1\" class=\"dataframe\">\n",
       "  <thead>\n",
       "    <tr style=\"text-align: right;\">\n",
       "      <th></th>\n",
       "      <th>Year</th>\n",
       "      <th>Rape count</th>\n",
       "    </tr>\n",
       "  </thead>\n",
       "  <tbody>\n",
       "    <tr>\n",
       "      <th>0</th>\n",
       "      <td>2001</td>\n",
       "      <td>16456</td>\n",
       "    </tr>\n",
       "    <tr>\n",
       "      <th>1</th>\n",
       "      <td>2002</td>\n",
       "      <td>16776</td>\n",
       "    </tr>\n",
       "    <tr>\n",
       "      <th>2</th>\n",
       "      <td>2003</td>\n",
       "      <td>16337</td>\n",
       "    </tr>\n",
       "    <tr>\n",
       "      <th>3</th>\n",
       "      <td>2004</td>\n",
       "      <td>18784</td>\n",
       "    </tr>\n",
       "    <tr>\n",
       "      <th>4</th>\n",
       "      <td>2005</td>\n",
       "      <td>19017</td>\n",
       "    </tr>\n",
       "  </tbody>\n",
       "</table>\n",
       "</div>"
      ],
      "text/plain": [
       "   Year  Rape count\n",
       "0  2001       16456\n",
       "1  2002       16776\n",
       "2  2003       16337\n",
       "3  2004       18784\n",
       "4  2005       19017"
      ]
     },
     "execution_count": 53,
     "metadata": {},
     "output_type": "execute_result"
    }
   ],
   "source": [
    "Each_year_rape = crimes_df.groupby('Year')['Rape'].sum().reset_index()\n",
    "Each_year_rape.columns = ['Year', 'Rape count']\n",
    "Each_year_rape.head()"
   ]
  },
  {
   "cell_type": "code",
   "execution_count": 54,
   "metadata": {},
   "outputs": [
    {
     "data": {
      "image/png": "[encoded data removed]",
      "text/plain": [
       "<Figure size 1000x500 with 1 Axes>"
      ]
     },
     "metadata": {},
     "output_type": "display_data"
    }
   ],
   "source": [
    "plt.figure(figsize = (10, 5))\n",
    "plt.axes().grid(axis = 'y', linestyle = '--', color = 'black')\n",
    "\n",
    "sns.barplot(data = Each_year_rape, x = 'Year', y = 'Rape count', palette = 'Blues')\n",
    "sns.lineplot(data = Each_year_rape, color = 'r', marker = 'o', linestyle = '--')\n",
    "plt.xlabel('Year')\n",
    "plt.ylabel('Rape count')\n",
    "plt.title('From 2001 to 2014, the number of rape', fontsize = 12)\n",
    "plt.show()"
   ]
  },
  {
   "cell_type": "markdown",
   "metadata": {},
   "source": [
    "<div>\n",
    "    <h3>Analysis<h3>\n",
    "    <h4><p>&nbsp;&nbsp;&nbsp;It is clear that the trend of graph are upward with the most striking feature being the rising dramatically to a peak of about 74000 from 2012 to 2014. And it produced double more than before 2012.</p><h4>\n",
    "</div>"
   ]
  },
  {
   "cell_type": "markdown",
   "metadata": {},
   "source": [
    "#### Kidnapping and Abduction"
   ]
  },
  {
   "cell_type": "code",
   "execution_count": 55,
   "metadata": {},
   "outputs": [
    {
     "data": {
      "text/html": [
       "<div>\n",
       "<style scoped>\n",
       "    .dataframe tbody tr th:only-of-type {\n",
       "        vertical-align: middle;\n",
       "    }\n",
       "\n",
       "    .dataframe tbody tr th {\n",
       "        vertical-align: top;\n",
       "    }\n",
       "\n",
       "    .dataframe thead th {\n",
       "        text-align: right;\n",
       "    }\n",
       "</style>\n",
       "<table border=\"1\" class=\"dataframe\">\n",
       "  <thead>\n",
       "    <tr style=\"text-align: right;\">\n",
       "      <th></th>\n",
       "      <th>Year</th>\n",
       "      <th>Dowry Deaths count</th>\n",
       "    </tr>\n",
       "  </thead>\n",
       "  <tbody>\n",
       "    <tr>\n",
       "      <th>0</th>\n",
       "      <td>2001</td>\n",
       "      <td>6964</td>\n",
       "    </tr>\n",
       "    <tr>\n",
       "      <th>1</th>\n",
       "      <td>2002</td>\n",
       "      <td>6957</td>\n",
       "    </tr>\n",
       "    <tr>\n",
       "      <th>2</th>\n",
       "      <td>2003</td>\n",
       "      <td>6338</td>\n",
       "    </tr>\n",
       "    <tr>\n",
       "      <th>3</th>\n",
       "      <td>2004</td>\n",
       "      <td>7152</td>\n",
       "    </tr>\n",
       "    <tr>\n",
       "      <th>4</th>\n",
       "      <td>2005</td>\n",
       "      <td>6901</td>\n",
       "    </tr>\n",
       "  </tbody>\n",
       "</table>\n",
       "</div>"
      ],
      "text/plain": [
       "   Year  Dowry Deaths count\n",
       "0  2001                6964\n",
       "1  2002                6957\n",
       "2  2003                6338\n",
       "3  2004                7152\n",
       "4  2005                6901"
      ]
     },
     "execution_count": 55,
     "metadata": {},
     "output_type": "execute_result"
    }
   ],
   "source": [
    "Each_year_Dowry_Deaths = crimes_df.groupby('Year')['Dowry Deaths'].sum().reset_index()\n",
    "Each_year_Dowry_Deaths.columns = ['Year', 'Dowry Deaths count']\n",
    "Each_year_Dowry_Deaths.head()"
   ]
  },
  {
   "cell_type": "code",
   "execution_count": 56,
   "metadata": {},
   "outputs": [
    {
     "data": {
      "image/png": "[encoded data removed]",
      "text/plain": [
       "<Figure size 1000x500 with 1 Axes>"
      ]
     },
     "metadata": {},
     "output_type": "display_data"
    }
   ],
   "source": [
    "plt.figure(figsize = (10, 5))\n",
    "AXES = plt.axes()\n",
    "AXES.grid(axis = 'y', linestyle = '--', color = 'black')\n",
    "\n",
    "sns.barplot(data = Each_year_Dowry_Deaths, x = 'Year', y = 'Dowry Deaths count', palette = 'flare')\n",
    "sns.lineplot(data = Each_year_Dowry_Deaths, color = 'r', marker = 'o', linestyle = '--')\n",
    "plt.xlabel('Year')\n",
    "plt.ylabel('Dowry Deaths count')\n",
    "plt.title('From 2001 to 2014\\nThe number of Dowry Deaths', fontsize = 12)\n",
    "plt.show()"
   ]
  },
  {
   "cell_type": "markdown",
   "metadata": {},
   "source": [
    "<div>\n",
    "    <h3>Analysis<h3>\n",
    "    <h4><p>&nbsp;&nbsp;&nbsp;Starting from about 7000 number of dowry deaths in 2001, this figure rose slightly to a highest point about 17000 in 2014.There was about double number of dowry deaths in 2014 than before 2012.</p><h4>\n",
    "</div>"
   ]
  },
  {
   "cell_type": "markdown",
   "metadata": {},
   "source": [
    "#### Assault on women with intent to outrage her modesty"
   ]
  },
  {
   "cell_type": "code",
   "execution_count": 57,
   "metadata": {},
   "outputs": [
    {
     "data": {
      "text/html": [
       "<div>\n",
       "<style scoped>\n",
       "    .dataframe tbody tr th:only-of-type {\n",
       "        vertical-align: middle;\n",
       "    }\n",
       "\n",
       "    .dataframe tbody tr th {\n",
       "        vertical-align: top;\n",
       "    }\n",
       "\n",
       "    .dataframe thead th {\n",
       "        text-align: right;\n",
       "    }\n",
       "</style>\n",
       "<table border=\"1\" class=\"dataframe\">\n",
       "  <thead>\n",
       "    <tr style=\"text-align: right;\">\n",
       "      <th></th>\n",
       "      <th>Year</th>\n",
       "      <th>Assault on women with intent to outrage her modesty count</th>\n",
       "    </tr>\n",
       "  </thead>\n",
       "  <tbody>\n",
       "    <tr>\n",
       "      <th>0</th>\n",
       "      <td>2001</td>\n",
       "      <td>34626</td>\n",
       "    </tr>\n",
       "    <tr>\n",
       "      <th>1</th>\n",
       "      <td>2002</td>\n",
       "      <td>34389</td>\n",
       "    </tr>\n",
       "    <tr>\n",
       "      <th>2</th>\n",
       "      <td>2003</td>\n",
       "      <td>33428</td>\n",
       "    </tr>\n",
       "    <tr>\n",
       "      <th>3</th>\n",
       "      <td>2004</td>\n",
       "      <td>35168</td>\n",
       "    </tr>\n",
       "    <tr>\n",
       "      <th>4</th>\n",
       "      <td>2005</td>\n",
       "      <td>34937</td>\n",
       "    </tr>\n",
       "  </tbody>\n",
       "</table>\n",
       "</div>"
      ],
      "text/plain": [
       "   Year  Assault on women with intent to outrage her modesty count\n",
       "0  2001                                              34626        \n",
       "1  2002                                              34389        \n",
       "2  2003                                              33428        \n",
       "3  2004                                              35168        \n",
       "4  2005                                              34937        "
      ]
     },
     "execution_count": 57,
     "metadata": {},
     "output_type": "execute_result"
    }
   ],
   "source": [
    "Each_year_K_A = crimes_df.groupby('Year')['Assault on women with intent to outrage her modesty'].sum().reset_index()\n",
    "Each_year_K_A.columns = ['Year', 'Assault on women with intent to outrage her modesty count']\n",
    "Each_year_K_A.head()"
   ]
  },
  {
   "cell_type": "code",
   "execution_count": 58,
   "metadata": {},
   "outputs": [
    {
     "data": {
      "image/png": "[encoded data removed]",
      "text/plain": [
       "<Figure size 1000x500 with 1 Axes>"
      ]
     },
     "metadata": {},
     "output_type": "display_data"
    }
   ],
   "source": [
    "plt.figure(figsize = (10, 5))\n",
    "plt.axes().grid(axis = 'y', linestyle = '--', color = 'black')\n",
    "\n",
    "sns.barplot(data = Each_year_K_A, x = 'Year', y = 'Assault on women with intent to outrage her modesty count', palette = 'magma')\n",
    "sns.lineplot(data = Each_year_K_A, color = 'r', marker = 'o', linestyle = '--')\n",
    "plt.xlabel('Year')\n",
    "plt.ylabel('Assault on women with intent to outrage her modesty count')\n",
    "plt.title('From 2001 to 2014\\nthe number of Assault on women with intent to outrage her modesty', fontsize = 12)\n",
    "plt.show()"
   ]
  },
  {
   "cell_type": "markdown",
   "metadata": {},
   "source": [
    "<div>\n",
    "    <h3>Analysis<h3>\n",
    "    <h4><p>&nbsp;&nbsp;&nbsp;The trend of this figure is same as previous data, furthermore, it's highest point reach about 164000. Especially, there was a huge gap between before 2012 and after 2012. The amount of assault on women with intent to outrage her modesty in 2014 was three times more than that before 2012.</p><h4>\n",
    "</div>"
   ]
  },
  {
   "cell_type": "markdown",
   "metadata": {},
   "source": [
    "#### Insult to modesty of Women"
   ]
  },
  {
   "cell_type": "code",
   "execution_count": 59,
   "metadata": {},
   "outputs": [
    {
     "data": {
      "text/html": [
       "<div>\n",
       "<style scoped>\n",
       "    .dataframe tbody tr th:only-of-type {\n",
       "        vertical-align: middle;\n",
       "    }\n",
       "\n",
       "    .dataframe tbody tr th {\n",
       "        vertical-align: top;\n",
       "    }\n",
       "\n",
       "    .dataframe thead th {\n",
       "        text-align: right;\n",
       "    }\n",
       "</style>\n",
       "<table border=\"1\" class=\"dataframe\">\n",
       "  <thead>\n",
       "    <tr style=\"text-align: right;\">\n",
       "      <th></th>\n",
       "      <th>Year</th>\n",
       "      <th>Insult to modesty of Women count</th>\n",
       "    </tr>\n",
       "  </thead>\n",
       "  <tbody>\n",
       "    <tr>\n",
       "      <th>0</th>\n",
       "      <td>2001</td>\n",
       "      <td>9836</td>\n",
       "    </tr>\n",
       "    <tr>\n",
       "      <th>1</th>\n",
       "      <td>2002</td>\n",
       "      <td>10283</td>\n",
       "    </tr>\n",
       "    <tr>\n",
       "      <th>2</th>\n",
       "      <td>2003</td>\n",
       "      <td>12430</td>\n",
       "    </tr>\n",
       "    <tr>\n",
       "      <th>3</th>\n",
       "      <td>2004</td>\n",
       "      <td>10131</td>\n",
       "    </tr>\n",
       "    <tr>\n",
       "      <th>4</th>\n",
       "      <td>2005</td>\n",
       "      <td>10209</td>\n",
       "    </tr>\n",
       "  </tbody>\n",
       "</table>\n",
       "</div>"
      ],
      "text/plain": [
       "   Year  Insult to modesty of Women count\n",
       "0  2001                              9836\n",
       "1  2002                             10283\n",
       "2  2003                             12430\n",
       "3  2004                             10131\n",
       "4  2005                             10209"
      ]
     },
     "execution_count": 59,
     "metadata": {},
     "output_type": "execute_result"
    }
   ],
   "source": [
    "Each_year_I_M_W = crimes_df.groupby('Year')['Insult to modesty of Women'].sum().reset_index()\n",
    "Each_year_I_M_W.columns = ['Year', 'Insult to modesty of Women count']\n",
    "Each_year_I_M_W.head()"
   ]
  },
  {
   "cell_type": "code",
   "execution_count": 60,
   "metadata": {},
   "outputs": [
    {
     "data": {
      "image/png": "[encoded data removed]",
      "text/plain": [
       "<Figure size 1000x500 with 1 Axes>"
      ]
     },
     "metadata": {},
     "output_type": "display_data"
    }
   ],
   "source": [
    "plt.figure(figsize = (10, 5))\n",
    "plt.axes().grid(axis = 'y', linestyle = '--', color = 'black')\n",
    "\n",
    "sns.barplot(data = Each_year_I_M_W, x = 'Year', y = 'Insult to modesty of Women count', palette = 'viridis')\n",
    "sns.lineplot(data = Each_year_I_M_W, color = 'r', marker = 'o', linestyle = '--')\n",
    "plt.xlabel('Year')\n",
    "plt.ylabel('Insult to modesty of Women count')\n",
    "plt.title('From 2001 to 2014\\nThe number of Insult to modesty of Women count', fontsize = 12)\n",
    "plt.show()"
   ]
  },
  {
   "cell_type": "markdown",
   "metadata": {},
   "source": [
    "<div>\n",
    "    <h3>Analysis<h3>\n",
    "    <h4><p>&nbsp;&nbsp;&nbsp;Starting at 10000, the number of insult to modesty of women count had fluctuated around this level in the first twelve year before rising abruptly to 25000 in 2013, moreover it has a significant dropped at 18500 in 2014.</p><h4>\n",
    "</div>"
   ]
  },
  {
   "cell_type": "markdown",
   "metadata": {},
   "source": [
    "#### Cruelty by Husband or his Relatives"
   ]
  },
  {
   "cell_type": "code",
   "execution_count": 61,
   "metadata": {},
   "outputs": [
    {
     "data": {
      "text/html": [
       "<div>\n",
       "<style scoped>\n",
       "    .dataframe tbody tr th:only-of-type {\n",
       "        vertical-align: middle;\n",
       "    }\n",
       "\n",
       "    .dataframe tbody tr th {\n",
       "        vertical-align: top;\n",
       "    }\n",
       "\n",
       "    .dataframe thead th {\n",
       "        text-align: right;\n",
       "    }\n",
       "</style>\n",
       "<table border=\"1\" class=\"dataframe\">\n",
       "  <thead>\n",
       "    <tr style=\"text-align: right;\">\n",
       "      <th></th>\n",
       "      <th>Year</th>\n",
       "      <th>Cruelty by Husband or his Relatives\\tcount</th>\n",
       "    </tr>\n",
       "  </thead>\n",
       "  <tbody>\n",
       "    <tr>\n",
       "      <th>0</th>\n",
       "      <td>2001</td>\n",
       "      <td>49308</td>\n",
       "    </tr>\n",
       "    <tr>\n",
       "      <th>1</th>\n",
       "      <td>2002</td>\n",
       "      <td>49372</td>\n",
       "    </tr>\n",
       "    <tr>\n",
       "      <th>2</th>\n",
       "      <td>2003</td>\n",
       "      <td>51914</td>\n",
       "    </tr>\n",
       "    <tr>\n",
       "      <th>3</th>\n",
       "      <td>2004</td>\n",
       "      <td>59375</td>\n",
       "    </tr>\n",
       "    <tr>\n",
       "      <th>4</th>\n",
       "      <td>2005</td>\n",
       "      <td>59643</td>\n",
       "    </tr>\n",
       "  </tbody>\n",
       "</table>\n",
       "</div>"
      ],
      "text/plain": [
       "   Year  Cruelty by Husband or his Relatives\\tcount\n",
       "0  2001                                       49308\n",
       "1  2002                                       49372\n",
       "2  2003                                       51914\n",
       "3  2004                                       59375\n",
       "4  2005                                       59643"
      ]
     },
     "execution_count": 61,
     "metadata": {},
     "output_type": "execute_result"
    }
   ],
   "source": [
    "Each_year_C_H_R = crimes_df.groupby('Year')['Cruelty by Husband or his Relatives'].sum().reset_index()\n",
    "Each_year_C_H_R.columns = ['Year', 'Cruelty by Husband or his Relatives\tcount']\n",
    "Each_year_C_H_R.head()"
   ]
  },
  {
   "cell_type": "code",
   "execution_count": 62,
   "metadata": {},
   "outputs": [
    {
     "data": {
      "image/png": "[encoded data removed]",
      "text/plain": [
       "<Figure size 1000x500 with 1 Axes>"
      ]
     },
     "metadata": {},
     "output_type": "display_data"
    }
   ],
   "source": [
    "plt.figure(figsize = (10, 5))\n",
    "plt.axes().grid(axis = 'y', linestyle = '--', color = 'black')\n",
    "\n",
    "sns.barplot(data = Each_year_C_H_R, x = 'Year', y = 'Cruelty by Husband or his Relatives\tcount', palette = 'cubehelix')\n",
    "sns.lineplot(data = Each_year_C_H_R, marker = 'o', linestyle = '-')\n",
    "plt.xlabel('Year')\n",
    "plt.ylabel('Cruelty by Husband or his Relatives count')\n",
    "plt.title('From 2001 to 2014\\nThe number of Cruelty by Husband or his Relatives', fontsize = 12)\n",
    "plt.show()"
   ]
  },
  {
   "cell_type": "markdown",
   "metadata": {},
   "source": [
    "<div>\n",
    "    <h3>Analysis<h3>\n",
    "    <h4><p>&nbsp;&nbsp;&nbsp;From 2001 to 2012, there was a gradual growth, in addition, the number of cruelty by husband or his relatives reached its peak at 245000 in 2014.</p><h4>\n",
    "</div>"
   ]
  },
  {
   "cell_type": "markdown",
   "metadata": {},
   "source": [
    "#### Importation of Girls"
   ]
  },
  {
   "cell_type": "code",
   "execution_count": 63,
   "metadata": {},
   "outputs": [
    {
     "data": {
      "text/html": [
       "<div>\n",
       "<style scoped>\n",
       "    .dataframe tbody tr th:only-of-type {\n",
       "        vertical-align: middle;\n",
       "    }\n",
       "\n",
       "    .dataframe tbody tr th {\n",
       "        vertical-align: top;\n",
       "    }\n",
       "\n",
       "    .dataframe thead th {\n",
       "        text-align: right;\n",
       "    }\n",
       "</style>\n",
       "<table border=\"1\" class=\"dataframe\">\n",
       "  <thead>\n",
       "    <tr style=\"text-align: right;\">\n",
       "      <th></th>\n",
       "      <th>Year</th>\n",
       "      <th>Importation of Girls count</th>\n",
       "    </tr>\n",
       "  </thead>\n",
       "  <tbody>\n",
       "    <tr>\n",
       "      <th>0</th>\n",
       "      <td>2001</td>\n",
       "      <td>114</td>\n",
       "    </tr>\n",
       "    <tr>\n",
       "      <th>1</th>\n",
       "      <td>2002</td>\n",
       "      <td>76</td>\n",
       "    </tr>\n",
       "    <tr>\n",
       "      <th>2</th>\n",
       "      <td>2003</td>\n",
       "      <td>46</td>\n",
       "    </tr>\n",
       "    <tr>\n",
       "      <th>3</th>\n",
       "      <td>2004</td>\n",
       "      <td>89</td>\n",
       "    </tr>\n",
       "    <tr>\n",
       "      <th>4</th>\n",
       "      <td>2005</td>\n",
       "      <td>150</td>\n",
       "    </tr>\n",
       "  </tbody>\n",
       "</table>\n",
       "</div>"
      ],
      "text/plain": [
       "   Year  Importation of Girls count\n",
       "0  2001                         114\n",
       "1  2002                          76\n",
       "2  2003                          46\n",
       "3  2004                          89\n",
       "4  2005                         150"
      ]
     },
     "execution_count": 63,
     "metadata": {},
     "output_type": "execute_result"
    }
   ],
   "source": [
    "Each_year_I_G = crimes_df.groupby('Year')['Importation of Girls'].sum().reset_index()\n",
    "Each_year_I_G.columns = ['Year', 'Importation of Girls count']\n",
    "Each_year_I_G.head()"
   ]
  },
  {
   "cell_type": "code",
   "execution_count": 64,
   "metadata": {},
   "outputs": [
    {
     "data": {
      "image/png": "[encoded data removed]",
      "text/plain": [
       "<Figure size 1000x500 with 1 Axes>"
      ]
     },
     "metadata": {},
     "output_type": "display_data"
    }
   ],
   "source": [
    "plt.figure(figsize = (10, 5))\n",
    "plt.axes().grid(axis = 'y', linestyle = '--', color = 'black')\n",
    "\n",
    "sns.barplot(data = Each_year_I_G, x = 'Year', y = 'Importation of Girls count', palette = 'YlOrBr')\n",
    "sns.lineplot(data = Each_year_I_G, markers = 'o', linestyle = '-')\n",
    "plt.xlabel('Year')\n",
    "plt.ylabel('Importation of Girls count')\n",
    "plt.ylim([0,330])\n",
    "plt.title('From 2001 to 2014\\nThe number of Importation of Girls', fontsize = 12)\n",
    "plt.show()"
   ]
  },
  {
   "cell_type": "markdown",
   "metadata": {},
   "source": [
    "<div>\n",
    "    <h3>Analysis<h3>\n",
    "    <h4><p>&nbsp;&nbsp;&nbsp;The number of importation of girls decreased rapidly at 50 in 2003. However, the 2003s witnessed a considerable growth, and then a peak of 150 took place 2005, followed by a sharp fall over the next 5 period. Although there was a marginally increased at 75 in 2011, yet, it reached lowest point at 25 in 2014.<br>&nbsp;&nbsp;&nbsp;</p><h4>\n",
    "</div>"
   ]
  },
  {
   "cell_type": "markdown",
   "metadata": {},
   "source": [
    "### Problem: Which region has the most number of crime?\n",
    "### Coding and visualization"
   ]
  },
  {
   "cell_type": "code",
   "execution_count": 65,
   "metadata": {},
   "outputs": [
    {
     "data": {
      "text/html": [
       "<div>\n",
       "<style scoped>\n",
       "    .dataframe tbody tr th:only-of-type {\n",
       "        vertical-align: middle;\n",
       "    }\n",
       "\n",
       "    .dataframe tbody tr th {\n",
       "        vertical-align: top;\n",
       "    }\n",
       "\n",
       "    .dataframe thead th {\n",
       "        text-align: right;\n",
       "    }\n",
       "</style>\n",
       "<table border=\"1\" class=\"dataframe\">\n",
       "  <thead>\n",
       "    <tr style=\"text-align: right;\">\n",
       "      <th></th>\n",
       "      <th>Rape</th>\n",
       "      <th>Kidnapping and Abduction</th>\n",
       "      <th>Dowry Deaths</th>\n",
       "      <th>Assault on women with intent to outrage her modesty</th>\n",
       "      <th>Insult to modesty of Women</th>\n",
       "      <th>Cruelty by Husband or his Relatives</th>\n",
       "      <th>Importation of Girls</th>\n",
       "      <th>total_crimes</th>\n",
       "    </tr>\n",
       "    <tr>\n",
       "      <th>STATE/UT</th>\n",
       "      <th></th>\n",
       "      <th></th>\n",
       "      <th></th>\n",
       "      <th></th>\n",
       "      <th></th>\n",
       "      <th></th>\n",
       "      <th></th>\n",
       "      <th></th>\n",
       "    </tr>\n",
       "  </thead>\n",
       "  <tbody>\n",
       "    <tr>\n",
       "      <th>UTTAR PRADESH</th>\n",
       "      <td>32092</td>\n",
       "      <td>88316</td>\n",
       "      <td>33432</td>\n",
       "      <td>61514</td>\n",
       "      <td>26619</td>\n",
       "      <td>116121</td>\n",
       "      <td>3</td>\n",
       "      <td>358097</td>\n",
       "    </tr>\n",
       "    <tr>\n",
       "      <th>WEST BENGAL</th>\n",
       "      <td>27089</td>\n",
       "      <td>39385</td>\n",
       "      <td>7136</td>\n",
       "      <td>44037</td>\n",
       "      <td>3794</td>\n",
       "      <td>213456</td>\n",
       "      <td>140</td>\n",
       "      <td>335037</td>\n",
       "    </tr>\n",
       "    <tr>\n",
       "      <th>ANDHRA PRADESH</th>\n",
       "      <td>18671</td>\n",
       "      <td>19568</td>\n",
       "      <td>7629</td>\n",
       "      <td>74953</td>\n",
       "      <td>50833</td>\n",
       "      <td>161899</td>\n",
       "      <td>17</td>\n",
       "      <td>333570</td>\n",
       "    </tr>\n",
       "    <tr>\n",
       "      <th>RAJASTHAN</th>\n",
       "      <td>29886</td>\n",
       "      <td>41607</td>\n",
       "      <td>6788</td>\n",
       "      <td>52509</td>\n",
       "      <td>440</td>\n",
       "      <td>162099</td>\n",
       "      <td>8</td>\n",
       "      <td>293337</td>\n",
       "    </tr>\n",
       "    <tr>\n",
       "      <th>MADHYA PRADESH</th>\n",
       "      <td>54909</td>\n",
       "      <td>26365</td>\n",
       "      <td>12054</td>\n",
       "      <td>115600</td>\n",
       "      <td>11647</td>\n",
       "      <td>62847</td>\n",
       "      <td>74</td>\n",
       "      <td>283496</td>\n",
       "    </tr>\n",
       "    <tr>\n",
       "      <th>MAHARASHTRA</th>\n",
       "      <td>30988</td>\n",
       "      <td>19515</td>\n",
       "      <td>5447</td>\n",
       "      <td>75485</td>\n",
       "      <td>20524</td>\n",
       "      <td>112839</td>\n",
       "      <td>4</td>\n",
       "      <td>264802</td>\n",
       "    </tr>\n",
       "    <tr>\n",
       "      <th>ASSAM</th>\n",
       "      <td>24012</td>\n",
       "      <td>39154</td>\n",
       "      <td>1992</td>\n",
       "      <td>24636</td>\n",
       "      <td>142</td>\n",
       "      <td>75912</td>\n",
       "      <td>14</td>\n",
       "      <td>165862</td>\n",
       "    </tr>\n",
       "    <tr>\n",
       "      <th>DELHI</th>\n",
       "      <td>20312</td>\n",
       "      <td>46586</td>\n",
       "      <td>3758</td>\n",
       "      <td>30742</td>\n",
       "      <td>7928</td>\n",
       "      <td>42834</td>\n",
       "      <td>2</td>\n",
       "      <td>152162</td>\n",
       "    </tr>\n",
       "    <tr>\n",
       "      <th>KERALA</th>\n",
       "      <td>12583</td>\n",
       "      <td>2554</td>\n",
       "      <td>399</td>\n",
       "      <td>48948</td>\n",
       "      <td>4626</td>\n",
       "      <td>65552</td>\n",
       "      <td>0</td>\n",
       "      <td>134662</td>\n",
       "    </tr>\n",
       "    <tr>\n",
       "      <th>GUJARAT</th>\n",
       "      <td>7395</td>\n",
       "      <td>21752</td>\n",
       "      <td>606</td>\n",
       "      <td>14188</td>\n",
       "      <td>1865</td>\n",
       "      <td>87037</td>\n",
       "      <td>0</td>\n",
       "      <td>132843</td>\n",
       "    </tr>\n",
       "  </tbody>\n",
       "</table>\n",
       "</div>"
      ],
      "text/plain": [
       "                 Rape  Kidnapping and Abduction  Dowry Deaths  \\\n",
       "STATE/UT                                                        \n",
       "UTTAR PRADESH   32092                     88316         33432   \n",
       "WEST BENGAL     27089                     39385          7136   \n",
       "ANDHRA PRADESH  18671                     19568          7629   \n",
       "RAJASTHAN       29886                     41607          6788   \n",
       "MADHYA PRADESH  54909                     26365         12054   \n",
       "MAHARASHTRA     30988                     19515          5447   \n",
       "ASSAM           24012                     39154          1992   \n",
       "DELHI           20312                     46586          3758   \n",
       "KERALA          12583                      2554           399   \n",
       "GUJARAT          7395                     21752           606   \n",
       "\n",
       "                Assault on women with intent to outrage her modesty  \\\n",
       "STATE/UT                                                              \n",
       "UTTAR PRADESH                                               61514     \n",
       "WEST BENGAL                                                 44037     \n",
       "ANDHRA PRADESH                                              74953     \n",
       "RAJASTHAN                                                   52509     \n",
       "MADHYA PRADESH                                             115600     \n",
       "MAHARASHTRA                                                 75485     \n",
       "ASSAM                                                       24636     \n",
       "DELHI                                                       30742     \n",
       "KERALA                                                      48948     \n",
       "GUJARAT                                                     14188     \n",
       "\n",
       "                Insult to modesty of Women  \\\n",
       "STATE/UT                                     \n",
       "UTTAR PRADESH                        26619   \n",
       "WEST BENGAL                           3794   \n",
       "ANDHRA PRADESH                       50833   \n",
       "RAJASTHAN                              440   \n",
       "MADHYA PRADESH                       11647   \n",
       "MAHARASHTRA                          20524   \n",
       "ASSAM                                  142   \n",
       "DELHI                                 7928   \n",
       "KERALA                                4626   \n",
       "GUJARAT                               1865   \n",
       "\n",
       "                Cruelty by Husband or his Relatives  Importation of Girls  \\\n",
       "STATE/UT                                                                    \n",
       "UTTAR PRADESH                                116121                     3   \n",
       "WEST BENGAL                                  213456                   140   \n",
       "ANDHRA PRADESH                               161899                    17   \n",
       "RAJASTHAN                                    162099                     8   \n",
       "MADHYA PRADESH                                62847                    74   \n",
       "MAHARASHTRA                                  112839                     4   \n",
       "ASSAM                                         75912                    14   \n",
       "DELHI                                         42834                     2   \n",
       "KERALA                                        65552                     0   \n",
       "GUJARAT                                       87037                     0   \n",
       "\n",
       "                total_crimes  \n",
       "STATE/UT                      \n",
       "UTTAR PRADESH         358097  \n",
       "WEST BENGAL           335037  \n",
       "ANDHRA PRADESH        333570  \n",
       "RAJASTHAN             293337  \n",
       "MADHYA PRADESH        283496  \n",
       "MAHARASHTRA           264802  \n",
       "ASSAM                 165862  \n",
       "DELHI                 152162  \n",
       "KERALA                134662  \n",
       "GUJARAT               132843  "
      ]
     },
     "execution_count": 65,
     "metadata": {},
     "output_type": "execute_result"
    }
   ],
   "source": [
    "# Top 5 'STATE/UT' with number of crimes\n",
    "state_df = pd.DataFrame()\n",
    "for index in crimes_types:\n",
    "    state_df[index] = total_DF.groupby(['STATE/UT'])[index].sum()\n",
    "head_state_df = state_df.sort_values('total_crimes', ascending = False).head(10)\n",
    "head_state_df"
   ]
  },
  {
   "cell_type": "code",
   "execution_count": 66,
   "metadata": {},
   "outputs": [
    {
     "data": {
      "text/plain": [
       "Text(0.5, 1.0, 'Top 10 number of crimes in each STATE/UT')"
      ]
     },
     "execution_count": 66,
     "metadata": {},
     "output_type": "execute_result"
    },
    {
     "data": {
      "image/png": "[encoded data removed]",
      "text/plain": [
       "<Figure size 1600x500 with 1 Axes>"
      ]
     },
     "metadata": {},
     "output_type": "display_data"
    }
   ],
   "source": [
    "plt.figure(figsize = (16, 5))\n",
    "plt.axes().grid(axis = 'y', linestyle = '--', color = 'black')\n",
    "\n",
    "sns.barplot(data = head_state_df, x = head_state_df.index, y = 'total_crimes', palette = 'YlOrBr')\n",
    "plt.title('Top 10 number of crimes in each STATE/UT')"
   ]
  },
  {
   "cell_type": "markdown",
   "metadata": {},
   "source": [
    "<div>\n",
    "    <h3>Analysis<h3>\n",
    "    <h4><p>&nbsp;&nbsp;&nbsp;UTTAR PRADESH has the highest number of crimes in India. WEST BENGAL has the second highest number of crimes. ANDHRA PRADESH has the third highest number of crimes and is similar to WEST BENGAL which has the second highest.<br>&nbsp;&nbsp;&nbsp;</p><h4>\n",
    "</div>"
   ]
  },
  {
   "cell_type": "markdown",
   "metadata": {},
   "source": [
    "### Problem: In UTTAR PRADESH region, what about each crimes trend year by year?\n",
    "### Coding and visualization"
   ]
  },
  {
   "cell_type": "code",
   "execution_count": 67,
   "metadata": {},
   "outputs": [
    {
     "data": {
      "text/html": [
       "<div>\n",
       "<style scoped>\n",
       "    .dataframe tbody tr th:only-of-type {\n",
       "        vertical-align: middle;\n",
       "    }\n",
       "\n",
       "    .dataframe tbody tr th {\n",
       "        vertical-align: top;\n",
       "    }\n",
       "\n",
       "    .dataframe thead th {\n",
       "        text-align: right;\n",
       "    }\n",
       "</style>\n",
       "<table border=\"1\" class=\"dataframe\">\n",
       "  <thead>\n",
       "    <tr style=\"text-align: right;\">\n",
       "      <th></th>\n",
       "      <th>Rape</th>\n",
       "      <th>Kidnapping and Abduction</th>\n",
       "      <th>Dowry Deaths</th>\n",
       "      <th>Assault on women with intent to outrage her modesty</th>\n",
       "      <th>Insult to modesty of Women</th>\n",
       "      <th>Cruelty by Husband or his Relatives</th>\n",
       "      <th>Importation of Girls</th>\n",
       "      <th>total_crimes</th>\n",
       "    </tr>\n",
       "    <tr>\n",
       "      <th>Year</th>\n",
       "      <th></th>\n",
       "      <th></th>\n",
       "      <th></th>\n",
       "      <th></th>\n",
       "      <th></th>\n",
       "      <th></th>\n",
       "      <th></th>\n",
       "      <th></th>\n",
       "    </tr>\n",
       "  </thead>\n",
       "  <tbody>\n",
       "    <tr>\n",
       "      <th>2001</th>\n",
       "      <td>1958</td>\n",
       "      <td>2879</td>\n",
       "      <td>2211</td>\n",
       "      <td>2870</td>\n",
       "      <td>2575</td>\n",
       "      <td>7365</td>\n",
       "      <td>0</td>\n",
       "      <td>19858</td>\n",
       "    </tr>\n",
       "    <tr>\n",
       "      <th>2002</th>\n",
       "      <td>1415</td>\n",
       "      <td>2298</td>\n",
       "      <td>1893</td>\n",
       "      <td>2145</td>\n",
       "      <td>1887</td>\n",
       "      <td>5679</td>\n",
       "      <td>0</td>\n",
       "      <td>15317</td>\n",
       "    </tr>\n",
       "    <tr>\n",
       "      <th>2003</th>\n",
       "      <td>911</td>\n",
       "      <td>1499</td>\n",
       "      <td>1322</td>\n",
       "      <td>1098</td>\n",
       "      <td>4970</td>\n",
       "      <td>2626</td>\n",
       "      <td>0</td>\n",
       "      <td>12426</td>\n",
       "    </tr>\n",
       "    <tr>\n",
       "      <th>2004</th>\n",
       "      <td>1397</td>\n",
       "      <td>2324</td>\n",
       "      <td>1708</td>\n",
       "      <td>1900</td>\n",
       "      <td>2682</td>\n",
       "      <td>4950</td>\n",
       "      <td>3</td>\n",
       "      <td>14964</td>\n",
       "    </tr>\n",
       "    <tr>\n",
       "      <th>2005</th>\n",
       "      <td>1217</td>\n",
       "      <td>2256</td>\n",
       "      <td>1564</td>\n",
       "      <td>1835</td>\n",
       "      <td>2881</td>\n",
       "      <td>4505</td>\n",
       "      <td>0</td>\n",
       "      <td>14258</td>\n",
       "    </tr>\n",
       "  </tbody>\n",
       "</table>\n",
       "</div>"
      ],
      "text/plain": [
       "      Rape  Kidnapping and Abduction  Dowry Deaths  \\\n",
       "Year                                                 \n",
       "2001  1958                      2879          2211   \n",
       "2002  1415                      2298          1893   \n",
       "2003   911                      1499          1322   \n",
       "2004  1397                      2324          1708   \n",
       "2005  1217                      2256          1564   \n",
       "\n",
       "      Assault on women with intent to outrage her modesty  \\\n",
       "Year                                                        \n",
       "2001                                               2870     \n",
       "2002                                               2145     \n",
       "2003                                               1098     \n",
       "2004                                               1900     \n",
       "2005                                               1835     \n",
       "\n",
       "      Insult to modesty of Women  Cruelty by Husband or his Relatives  \\\n",
       "Year                                                                    \n",
       "2001                        2575                                 7365   \n",
       "2002                        1887                                 5679   \n",
       "2003                        4970                                 2626   \n",
       "2004                        2682                                 4950   \n",
       "2005                        2881                                 4505   \n",
       "\n",
       "      Importation of Girls  total_crimes  \n",
       "Year                                      \n",
       "2001                     0         19858  \n",
       "2002                     0         15317  \n",
       "2003                     0         12426  \n",
       "2004                     3         14964  \n",
       "2005                     0         14258  "
      ]
     },
     "execution_count": 67,
     "metadata": {},
     "output_type": "execute_result"
    }
   ],
   "source": [
    "# Top 1 'UTTAR PRADESH', from 2001 to 2014, its change.\n",
    "Total_UP_DF = total_DF.loc[total_DF['STATE/UT'] == 'UTTAR PRADESH']\n",
    "UP_DF = pd.DataFrame()\n",
    "for index in crimes_types:\n",
    "    UP_DF[index] = Total_UP_DF.groupby(['Year'])[index].sum()\n",
    "\n",
    "UP_DF.head()"
   ]
  },
  {
   "cell_type": "code",
   "execution_count": 68,
   "metadata": {},
   "outputs": [
    {
     "data": {
      "application/vnd.plotly.v1+json": {
       "config": {
        "plotlyServerURL": "https://plot.ly"
       },
       "data": [
        {
         "type": "scatter",
         "x": [
          2001,
          2002,
          2003,
          2004,
          2005,
          2006,
          2007,
          2008,
          2009,
          2010,
          2011,
          2012,
          2013,
          2014
         ],
         "xaxis": "x",
         "y": [
          1958,
          1415,
          911,
          1397,
          1217,
          1314,
          1648,
          1871,
          1759,
          1563,
          2042,
          1963,
          6100,
          6934
         ],
         "yaxis": "y"
        },
        {
         "type": "scatter",
         "x": [
          2001,
          2002,
          2003,
          2004,
          2005,
          2006,
          2007,
          2008,
          2009,
          2010,
          2011,
          2012,
          2013,
          2014
         ],
         "xaxis": "x2",
         "y": [
          2211,
          1893,
          1322,
          1708,
          1564,
          1798,
          2076,
          2237,
          2232,
          2217,
          2322,
          2244,
          4670,
          4938
         ],
         "yaxis": "y2"
        },
        {
         "type": "scatter",
         "x": [
          2001,
          2002,
          2003,
          2004,
          2005,
          2006,
          2007,
          2008,
          2009,
          2010,
          2011,
          2012,
          2013,
          2014
         ],
         "xaxis": "x3",
         "y": [
          2879,
          2298,
          1499,
          2324,
          2256,
          2551,
          3363,
          4439,
          5078,
          5468,
          7525,
          7910,
          19474,
          21252
         ],
         "yaxis": "y3"
        },
        {
         "type": "scatter",
         "x": [
          2001,
          2002,
          2003,
          2004,
          2005,
          2006,
          2007,
          2008,
          2009,
          2010,
          2011,
          2012,
          2013,
          2014
         ],
         "xaxis": "x4",
         "y": [
          2870,
          2145,
          1098,
          1900,
          1835,
          2096,
          2522,
          2955,
          2782,
          2793,
          3455,
          3247,
          14606,
          17210
         ],
         "yaxis": "y4"
        },
        {
         "type": "scatter",
         "x": [
          2001,
          2002,
          2003,
          2004,
          2005,
          2006,
          2007,
          2008,
          2009,
          2010,
          2011,
          2012,
          2013,
          2014
         ],
         "xaxis": "x5",
         "y": [
          2575,
          1887,
          4970,
          2682,
          2881,
          2714,
          2882,
          3374,
          2524,
          11,
          3,
          8,
          50,
          58
         ],
         "yaxis": "y5"
        },
        {
         "type": "scatter",
         "x": [
          2001,
          2002,
          2003,
          2004,
          2005,
          2006,
          2007,
          2008,
          2009,
          2010,
          2011,
          2012,
          2013,
          2014
         ],
         "xaxis": "x6",
         "y": [
          7365,
          5679,
          2626,
          4950,
          4505,
          5204,
          7650,
          8312,
          8566,
          7978,
          7121,
          7661,
          17562,
          20942
         ],
         "yaxis": "y6"
        },
        {
         "type": "scatter",
         "x": [
          2001,
          2002,
          2003,
          2004,
          2005,
          2006,
          2007,
          2008,
          2009,
          2010,
          2011,
          2012,
          2013,
          2014
         ],
         "xaxis": "x7",
         "y": [
          0,
          0,
          0,
          3,
          0,
          0,
          0,
          0,
          0,
          0,
          0,
          0,
          0,
          0
         ],
         "yaxis": "y7"
        },
        {
         "type": "scatter",
         "x": [
          2001,
          2002,
          2003,
          2004,
          2005,
          2006,
          2007,
          2008,
          2009,
          2010,
          2011,
          2012,
          2013,
          2014
         ],
         "xaxis": "x8",
         "y": [
          19858,
          15317,
          12426,
          14964,
          14258,
          15677,
          20141,
          23188,
          22941,
          20030,
          22468,
          23033,
          62462,
          71334
         ],
         "yaxis": "y8"
        }
       ],
       "layout": {
        "annotations": [
         {
          "font": {
           "size": 16
          },
          "showarrow": false,
          "text": "Rape",
          "x": 0.225,
          "xanchor": "center",
          "xref": "paper",
          "y": 1,
          "yanchor": "bottom",
          "yref": "paper"
         },
         {
          "font": {
           "size": 16
          },
          "showarrow": false,
          "text": "Dowry Deaths",
          "x": 0.775,
          "xanchor": "center",
          "xref": "paper",
          "y": 1,
          "yanchor": "bottom",
          "yref": "paper"
         },
         {
          "font": {
           "size": 16
          },
          "showarrow": false,
          "text": "Kidnapping and Abduction",
          "x": 0.225,
          "xanchor": "center",
          "xref": "paper",
          "y": 0.71875,
          "yanchor": "bottom",
          "yref": "paper"
         },
         {
          "font": {
           "size": 16
          },
          "showarrow": false,
          "text": "Assault on women to outrage",
          "x": 0.775,
          "xanchor": "center",
          "xref": "paper",
          "y": 0.71875,
          "yanchor": "bottom",
          "yref": "paper"
         },
         {
          "font": {
           "size": 16
          },
          "showarrow": false,
          "text": "Insult to modesty of Women",
          "x": 0.225,
          "xanchor": "center",
          "xref": "paper",
          "y": 0.4375,
          "yanchor": "bottom",
          "yref": "paper"
         },
         {
          "font": {
           "size": 16
          },
          "showarrow": false,
          "text": "Cruelty by Husband or his Relatives",
          "x": 0.775,
          "xanchor": "center",
          "xref": "paper",
          "y": 0.4375,
          "yanchor": "bottom",
          "yref": "paper"
         },
         {
          "font": {
           "size": 16
          },
          "showarrow": false,
          "text": "Importation of Girls",
          "x": 0.225,
          "xanchor": "center",
          "xref": "paper",
          "y": 0.15625,
          "yanchor": "bottom",
          "yref": "paper"
         },
         {
          "font": {
           "size": 16
          },
          "showarrow": false,
          "text": "total_crimes",
          "x": 0.775,
          "xanchor": "center",
          "xref": "paper",
          "y": 0.15625,
          "yanchor": "bottom",
          "yref": "paper"
         }
        ],
        "height": 900,
        "showlegend": false,
        "template": {
         "data": {
          "bar": [
           {
            "error_x": {
             "color": "#2a3f5f"
            },
            "error_y": {
             "color": "#2a3f5f"
            },
            "marker": {
             "line": {
              "color": "#E5ECF6",
              "width": 0.5
             },
             "pattern": {
              "fillmode": "overlay",
              "size": 10,
              "solidity": 0.2
             }
            },
            "type": "bar"
           }
          ],
          "barpolar": [
           {
            "marker": {
             "line": {
              "color": "#E5ECF6",
              "width": 0.5
             },
             "pattern": {
              "fillmode": "overlay",
              "size": 10,
              "solidity": 0.2
             }
            },
            "type": "barpolar"
           }
          ],
          "carpet": [
           {
            "aaxis": {
             "endlinecolor": "#2a3f5f",
             "gridcolor": "white",
             "linecolor": "white",
             "minorgridcolor": "white",
             "startlinecolor": "#2a3f5f"
            },
            "baxis": {
             "endlinecolor": "#2a3f5f",
             "gridcolor": "white",
             "linecolor": "white",
             "minorgridcolor": "white",
             "startlinecolor": "#2a3f5f"
            },
            "type": "carpet"
           }
          ],
          "choropleth": [
           {
            "colorbar": {
             "outlinewidth": 0,
             "ticks": ""
            },
            "type": "choropleth"
           }
          ],
          "contour": [
           {
            "colorbar": {
             "outlinewidth": 0,
             "ticks": ""
            },
            "colorscale": [
             [
              0,
              "#0d0887"
             ],
             [
              0.1111111111111111,
              "#46039f"
             ],
             [
              0.2222222222222222,
              "#7201a8"
             ],
             [
              0.3333333333333333,
              "#9c179e"
             ],
             [
              0.4444444444444444,
              "#bd3786"
             ],
             [
              0.5555555555555556,
              "#d8576b"
             ],
             [
              0.6666666666666666,
              "#ed7953"
             ],
             [
              0.7777777777777778,
              "#fb9f3a"
             ],
             [
              0.8888888888888888,
              "#fdca26"
             ],
             [
              1,
              "#f0f921"
             ]
            ],
            "type": "contour"
           }
          ],
          "contourcarpet": [
           {
            "colorbar": {
             "outlinewidth": 0,
             "ticks": ""
            },
            "type": "contourcarpet"
           }
          ],
          "heatmap": [
           {
            "colorbar": {
             "outlinewidth": 0,
             "ticks": ""
            },
            "colorscale": [
             [
              0,
              "#0d0887"
             ],
             [
              0.1111111111111111,
              "#46039f"
             ],
             [
              0.2222222222222222,
              "#7201a8"
             ],
             [
              0.3333333333333333,
              "#9c179e"
             ],
             [
              0.4444444444444444,
              "#bd3786"
             ],
             [
              0.5555555555555556,
              "#d8576b"
             ],
             [
              0.6666666666666666,
              "#ed7953"
             ],
             [
              0.7777777777777778,
              "#fb9f3a"
             ],
             [
              0.8888888888888888,
              "#fdca26"
             ],
             [
              1,
              "#f0f921"
             ]
            ],
            "type": "heatmap"
           }
          ],
          "heatmapgl": [
           {
            "colorbar": {
             "outlinewidth": 0,
             "ticks": ""
            },
            "colorscale": [
             [
              0,
              "#0d0887"
             ],
             [
              0.1111111111111111,
              "#46039f"
             ],
             [
              0.2222222222222222,
              "#7201a8"
             ],
             [
              0.3333333333333333,
              "#9c179e"
             ],
             [
              0.4444444444444444,
              "#bd3786"
             ],
             [
              0.5555555555555556,
              "#d8576b"
             ],
             [
              0.6666666666666666,
              "#ed7953"
             ],
             [
              0.7777777777777778,
              "#fb9f3a"
             ],
             [
              0.8888888888888888,
              "#fdca26"
             ],
             [
              1,
              "#f0f921"
             ]
            ],
            "type": "heatmapgl"
           }
          ],
          "histogram": [
           {
            "marker": {
             "pattern": {
              "fillmode": "overlay",
              "size": 10,
              "solidity": 0.2
             }
            },
            "type": "histogram"
           }
          ],
          "histogram2d": [
           {
            "colorbar": {
             "outlinewidth": 0,
             "ticks": ""
            },
            "colorscale": [
             [
              0,
              "#0d0887"
             ],
             [
              0.1111111111111111,
              "#46039f"
             ],
             [
              0.2222222222222222,
              "#7201a8"
             ],
             [
              0.3333333333333333,
              "#9c179e"
             ],
             [
              0.4444444444444444,
              "#bd3786"
             ],
             [
              0.5555555555555556,
              "#d8576b"
             ],
             [
              0.6666666666666666,
              "#ed7953"
             ],
             [
              0.7777777777777778,
              "#fb9f3a"
             ],
             [
              0.8888888888888888,
              "#fdca26"
             ],
             [
              1,
              "#f0f921"
             ]
            ],
            "type": "histogram2d"
           }
          ],
          "histogram2dcontour": [
           {
            "colorbar": {
             "outlinewidth": 0,
             "ticks": ""
            },
            "colorscale": [
             [
              0,
              "#0d0887"
             ],
             [
              0.1111111111111111,
              "#46039f"
             ],
             [
              0.2222222222222222,
              "#7201a8"
             ],
             [
              0.3333333333333333,
              "#9c179e"
             ],
             [
              0.4444444444444444,
              "#bd3786"
             ],
             [
              0.5555555555555556,
              "#d8576b"
             ],
             [
              0.6666666666666666,
              "#ed7953"
             ],
             [
              0.7777777777777778,
              "#fb9f3a"
             ],
             [
              0.8888888888888888,
              "#fdca26"
             ],
             [
              1,
              "#f0f921"
             ]
            ],
            "type": "histogram2dcontour"
           }
          ],
          "mesh3d": [
           {
            "colorbar": {
             "outlinewidth": 0,
             "ticks": ""
            },
            "type": "mesh3d"
           }
          ],
          "parcoords": [
           {
            "line": {
             "colorbar": {
              "outlinewidth": 0,
              "ticks": ""
             }
            },
            "type": "parcoords"
           }
          ],
          "pie": [
           {
            "automargin": true,
            "type": "pie"
           }
          ],
          "scatter": [
           {
            "fillpattern": {
             "fillmode": "overlay",
             "size": 10,
             "solidity": 0.2
            },
            "type": "scatter"
           }
          ],
          "scatter3d": [
           {
            "line": {
             "colorbar": {
              "outlinewidth": 0,
              "ticks": ""
             }
            },
            "marker": {
             "colorbar": {
              "outlinewidth": 0,
              "ticks": ""
             }
            },
            "type": "scatter3d"
           }
          ],
          "scattercarpet": [
           {
            "marker": {
             "colorbar": {
              "outlinewidth": 0,
              "ticks": ""
             }
            },
            "type": "scattercarpet"
           }
          ],
          "scattergeo": [
           {
            "marker": {
             "colorbar": {
              "outlinewidth": 0,
              "ticks": ""
             }
            },
            "type": "scattergeo"
           }
          ],
          "scattergl": [
           {
            "marker": {
             "colorbar": {
              "outlinewidth": 0,
              "ticks": ""
             }
            },
            "type": "scattergl"
           }
          ],
          "scattermapbox": [
           {
            "marker": {
             "colorbar": {
              "outlinewidth": 0,
              "ticks": ""
             }
            },
            "type": "scattermapbox"
           }
          ],
          "scatterpolar": [
           {
            "marker": {
             "colorbar": {
              "outlinewidth": 0,
              "ticks": ""
             }
            },
            "type": "scatterpolar"
           }
          ],
          "scatterpolargl": [
           {
            "marker": {
             "colorbar": {
              "outlinewidth": 0,
              "ticks": ""
             }
            },
            "type": "scatterpolargl"
           }
          ],
          "scatterternary": [
           {
            "marker": {
             "colorbar": {
              "outlinewidth": 0,
              "ticks": ""
             }
            },
            "type": "scatterternary"
           }
          ],
          "surface": [
           {
            "colorbar": {
             "outlinewidth": 0,
             "ticks": ""
            },
            "colorscale": [
             [
              0,
              "#0d0887"
             ],
             [
              0.1111111111111111,
              "#46039f"
             ],
             [
              0.2222222222222222,
              "#7201a8"
             ],
             [
              0.3333333333333333,
              "#9c179e"
             ],
             [
              0.4444444444444444,
              "#bd3786"
             ],
             [
              0.5555555555555556,
              "#d8576b"
             ],
             [
              0.6666666666666666,
              "#ed7953"
             ],
             [
              0.7777777777777778,
              "#fb9f3a"
             ],
             [
              0.8888888888888888,
              "#fdca26"
             ],
             [
              1,
              "#f0f921"
             ]
            ],
            "type": "surface"
           }
          ],
          "table": [
           {
            "cells": {
             "fill": {
              "color": "#EBF0F8"
             },
             "line": {
              "color": "white"
             }
            },
            "header": {
             "fill": {
              "color": "#C8D4E3"
             },
             "line": {
              "color": "white"
             }
            },
            "type": "table"
           }
          ]
         },
         "layout": {
          "annotationdefaults": {
           "arrowcolor": "#2a3f5f",
           "arrowhead": 0,
           "arrowwidth": 1
          },
          "autotypenumbers": "strict",
          "coloraxis": {
           "colorbar": {
            "outlinewidth": 0,
            "ticks": ""
           }
          },
          "colorscale": {
           "diverging": [
            [
             0,
             "#8e0152"
            ],
            [
             0.1,
             "#c51b7d"
            ],
            [
             0.2,
             "#de77ae"
            ],
            [
             0.3,
             "#f1b6da"
            ],
            [
             0.4,
             "#fde0ef"
            ],
            [
             0.5,
             "#f7f7f7"
            ],
            [
             0.6,
             "#e6f5d0"
            ],
            [
             0.7,
             "#b8e186"
            ],
            [
             0.8,
             "#7fbc41"
            ],
            [
             0.9,
             "#4d9221"
            ],
            [
             1,
             "#276419"
            ]
           ],
           "sequential": [
            [
             0,
             "#0d0887"
            ],
            [
             0.1111111111111111,
             "#46039f"
            ],
            [
             0.2222222222222222,
             "#7201a8"
            ],
            [
             0.3333333333333333,
             "#9c179e"
            ],
            [
             0.4444444444444444,
             "#bd3786"
            ],
            [
             0.5555555555555556,
             "#d8576b"
            ],
            [
             0.6666666666666666,
             "#ed7953"
            ],
            [
             0.7777777777777778,
             "#fb9f3a"
            ],
            [
             0.8888888888888888,
             "#fdca26"
            ],
            [
             1,
             "#f0f921"
            ]
           ],
           "sequentialminus": [
            [
             0,
             "#0d0887"
            ],
            [
             0.1111111111111111,
             "#46039f"
            ],
            [
             0.2222222222222222,
             "#7201a8"
            ],
            [
             0.3333333333333333,
             "#9c179e"
            ],
            [
             0.4444444444444444,
             "#bd3786"
            ],
            [
             0.5555555555555556,
             "#d8576b"
            ],
            [
             0.6666666666666666,
             "#ed7953"
            ],
            [
             0.7777777777777778,
             "#fb9f3a"
            ],
            [
             0.8888888888888888,
             "#fdca26"
            ],
            [
             1,
             "#f0f921"
            ]
           ]
          },
          "colorway": [
           "#636efa",
           "#EF553B",
           "#00cc96",
           "#ab63fa",
           "#FFA15A",
           "#19d3f3",
           "#FF6692",
           "#B6E880",
           "#FF97FF",
           "#FECB52"
          ],
          "font": {
           "color": "#2a3f5f"
          },
          "geo": {
           "bgcolor": "white",
           "lakecolor": "white",
           "landcolor": "#E5ECF6",
           "showlakes": true,
           "showland": true,
           "subunitcolor": "white"
          },
          "hoverlabel": {
           "align": "left"
          },
          "hovermode": "closest",
          "mapbox": {
           "style": "light"
          },
          "paper_bgcolor": "white",
          "plot_bgcolor": "#E5ECF6",
          "polar": {
           "angularaxis": {
            "gridcolor": "white",
            "linecolor": "white",
            "ticks": ""
           },
           "bgcolor": "#E5ECF6",
           "radialaxis": {
            "gridcolor": "white",
            "linecolor": "white",
            "ticks": ""
           }
          },
          "scene": {
           "xaxis": {
            "backgroundcolor": "#E5ECF6",
            "gridcolor": "white",
            "gridwidth": 2,
            "linecolor": "white",
            "showbackground": true,
            "ticks": "",
            "zerolinecolor": "white"
           },
           "yaxis": {
            "backgroundcolor": "#E5ECF6",
            "gridcolor": "white",
            "gridwidth": 2,
            "linecolor": "white",
            "showbackground": true,
            "ticks": "",
            "zerolinecolor": "white"
           },
           "zaxis": {
            "backgroundcolor": "#E5ECF6",
            "gridcolor": "white",
            "gridwidth": 2,
            "linecolor": "white",
            "showbackground": true,
            "ticks": "",
            "zerolinecolor": "white"
           }
          },
          "shapedefaults": {
           "line": {
            "color": "#2a3f5f"
           }
          },
          "ternary": {
           "aaxis": {
            "gridcolor": "white",
            "linecolor": "white",
            "ticks": ""
           },
           "baxis": {
            "gridcolor": "white",
            "linecolor": "white",
            "ticks": ""
           },
           "bgcolor": "#E5ECF6",
           "caxis": {
            "gridcolor": "white",
            "linecolor": "white",
            "ticks": ""
           }
          },
          "title": {
           "x": 0.05
          },
          "xaxis": {
           "automargin": true,
           "gridcolor": "white",
           "linecolor": "white",
           "ticks": "",
           "title": {
            "standoff": 15
           },
           "zerolinecolor": "white",
           "zerolinewidth": 2
          },
          "yaxis": {
           "automargin": true,
           "gridcolor": "white",
           "linecolor": "white",
           "ticks": "",
           "title": {
            "standoff": 15
           },
           "zerolinecolor": "white",
           "zerolinewidth": 2
          }
         }
        },
        "xaxis": {
         "anchor": "y",
         "domain": [
          0,
          0.45
         ]
        },
        "xaxis2": {
         "anchor": "y2",
         "domain": [
          0.55,
          1
         ]
        },
        "xaxis3": {
         "anchor": "y3",
         "domain": [
          0,
          0.45
         ]
        },
        "xaxis4": {
         "anchor": "y4",
         "domain": [
          0.55,
          1
         ]
        },
        "xaxis5": {
         "anchor": "y5",
         "domain": [
          0,
          0.45
         ]
        },
        "xaxis6": {
         "anchor": "y6",
         "domain": [
          0.55,
          1
         ]
        },
        "xaxis7": {
         "anchor": "y7",
         "domain": [
          0,
          0.45
         ]
        },
        "xaxis8": {
         "anchor": "y8",
         "domain": [
          0.55,
          1
         ]
        },
        "yaxis": {
         "anchor": "x",
         "domain": [
          0.84375,
          1
         ]
        },
        "yaxis2": {
         "anchor": "x2",
         "domain": [
          0.84375,
          1
         ]
        },
        "yaxis3": {
         "anchor": "x3",
         "domain": [
          0.5625,
          0.71875
         ]
        },
        "yaxis4": {
         "anchor": "x4",
         "domain": [
          0.5625,
          0.71875
         ]
        },
        "yaxis5": {
         "anchor": "x5",
         "domain": [
          0.28125,
          0.4375
         ]
        },
        "yaxis6": {
         "anchor": "x6",
         "domain": [
          0.28125,
          0.4375
         ]
        },
        "yaxis7": {
         "anchor": "x7",
         "domain": [
          0,
          0.15625
         ]
        },
        "yaxis8": {
         "anchor": "x8",
         "domain": [
          0,
          0.15625
         ]
        }
       }
      }
     },
     "metadata": {},
     "output_type": "display_data"
    }
   ],
   "source": [
    "fig = make_subplots(rows = 4, cols = 2,\n",
    "                    subplot_titles=(\"Rape\",\n",
    "                                    \"Dowry Deaths\",\n",
    "                                    \"Kidnapping and Abduction\",\n",
    "                                    \"Assault on women to outrage\",\n",
    "                                    \"Insult to modesty of Women\",\n",
    "                                    \"Cruelty by Husband or his Relatives\",\n",
    "                                    \"Importation of Girls\", \n",
    "                                    \"total_crimes\"))\n",
    "\n",
    "fig.add_trace(go.Scatter(x = UP_DF.index, y = UP_DF['Rape']), row = 1, col = 1)\n",
    "fig.add_trace(go.Scatter(x = UP_DF.index, y = UP_DF['Dowry Deaths']), row = 1, col = 2)\n",
    "fig.add_trace(go.Scatter(x = UP_DF.index, y = UP_DF['Kidnapping and Abduction']), row = 2, col = 1)\n",
    "fig.add_trace(go.Scatter(x = UP_DF.index, y = UP_DF['Assault on women with intent to outrage her modesty']), row = 2, col = 2)\n",
    "fig.add_trace(go.Scatter(x = UP_DF.index, y = UP_DF['Insult to modesty of Women']), row = 3, col = 1)\n",
    "fig.add_trace(go.Scatter(x = UP_DF.index, y = UP_DF['Cruelty by Husband or his Relatives']), row = 3, col = 2)\n",
    "fig.add_trace(go.Scatter(x = UP_DF.index, y = UP_DF['Importation of Girls']), row= 4 , col = 1)\n",
    "fig.add_trace(go.Scatter(x = UP_DF.index, y = UP_DF['total_crimes']), row = 4, col = 2)\n",
    "fig.update_layout(height=900, showlegend = False)\n",
    "fig.show()\n"
   ]
  },
  {
   "cell_type": "markdown",
   "metadata": {},
   "source": [
    "<div>\n",
    "    <h3>Analysis<h3>\n",
    "    <h4><p>&nbsp;&nbsp;&nbsp;From figure rape, dowry deaths, kidnapping and abduction, assault on women to outrage, cruelty by husband or his relatives, these figures show that a similar trend, before 2012, it has a steady rise, furthermore, there was a dramatic go up and reached the peak in 2014.<br>&nbsp;&nbsp;&nbsp;As can be seen from the figure insult to modesty of women, a sharp fall in 2001, however the 2002s witnessed a dramatic rise, and then a peak of 5000 took place in 2003, followed by a sharp fall in 2004, and it remained stable over the next five-year period. After that, there was a significant decrease in 2010 and hit a low of the number of insult to modesty of women and remained it at the end of the period.<br>&nbsp;&nbsp;&nbsp;According to the chart importation of girls, we can see that just between 2003 and 2005, it increased rapidly at 3, yet it return back to 0.</p><h4>\n",
    "</div>"
   ]
  },
  {
   "cell_type": "markdown",
   "metadata": {},
   "source": [
    "### Problem: What relationships between location and Importation of girls?"
   ]
  },
  {
   "cell_type": "code",
   "execution_count": 69,
   "metadata": {},
   "outputs": [
    {
     "data": {
      "text/plain": [
       "STATE/UT\n",
       "BIHAR             464\n",
       "JHARKHAND         153\n",
       "WEST BENGAL       140\n",
       "MADHYA PRADESH     74\n",
       "KARNATAKA          47\n",
       "ODISHA             18\n",
       "ANDHRA PRADESH     17\n",
       "TAMIL NADU         15\n",
       "ASSAM              14\n",
       "RAJASTHAN           8\n",
       "Name: Importation of Girls, dtype: int64"
      ]
     },
     "execution_count": 69,
     "metadata": {},
     "output_type": "execute_result"
    }
   ],
   "source": [
    "head_state_df = state_df.sort_values('Importation of Girls', ascending = False).head(10)\n",
    "head_state_df['Importation of Girls']"
   ]
  },
  {
   "cell_type": "markdown",
   "metadata": {},
   "source": [
    "<div>\n",
    "    <h3>Analysis<h3>\n",
    "    <h4><p>&nbsp;&nbsp;&nbsp;We find that top 5 STATE/UT is BIHAR, JHARKHAND, WEST BENGAL, MADHYA PRADESH, KARNATAKA respectively, and their location are separated in east and south of Indian. Although from 2001 to 2014, the importation of girls in each location is much smaller than other crimes, it is so weird in Indian where is one of the highest crimes in the world.</p><h4>\n",
    "</div>"
   ]
  },
  {
   "cell_type": "markdown",
   "metadata": {},
   "source": [
    "### Problem: For each type of crime, which area has more higher/lower crime?\n",
    "### Coding and visualization(Show on map directly, no numeric data)"
   ]
  },
  {
   "cell_type": "code",
   "execution_count": 70,
   "metadata": {},
   "outputs": [
    {
     "data": {
      "text/html": [
       "<div>\n",
       "<style scoped>\n",
       "    .dataframe tbody tr th:only-of-type {\n",
       "        vertical-align: middle;\n",
       "    }\n",
       "\n",
       "    .dataframe tbody tr th {\n",
       "        vertical-align: top;\n",
       "    }\n",
       "\n",
       "    .dataframe thead th {\n",
       "        text-align: right;\n",
       "    }\n",
       "</style>\n",
       "<table border=\"1\" class=\"dataframe\">\n",
       "  <thead>\n",
       "    <tr style=\"text-align: right;\">\n",
       "      <th></th>\n",
       "      <th>Rape</th>\n",
       "      <th>Kidnapping and Abduction</th>\n",
       "      <th>Dowry Deaths</th>\n",
       "      <th>Assault on women with intent to outrage her modesty</th>\n",
       "      <th>Insult to modesty of Women</th>\n",
       "      <th>Cruelty by Husband or his Relatives</th>\n",
       "      <th>Importation of Girls</th>\n",
       "    </tr>\n",
       "    <tr>\n",
       "      <th>STATE/UT</th>\n",
       "      <th></th>\n",
       "      <th></th>\n",
       "      <th></th>\n",
       "      <th></th>\n",
       "      <th></th>\n",
       "      <th></th>\n",
       "      <th></th>\n",
       "    </tr>\n",
       "  </thead>\n",
       "  <tbody>\n",
       "    <tr>\n",
       "      <th>ANDAMAN AND NICOBAR ISLANDS</th>\n",
       "      <td>227</td>\n",
       "      <td>135</td>\n",
       "      <td>14</td>\n",
       "      <td>386</td>\n",
       "      <td>69</td>\n",
       "      <td>167</td>\n",
       "      <td>0</td>\n",
       "    </tr>\n",
       "    <tr>\n",
       "      <th>ANDHRA PRADESH</th>\n",
       "      <td>18671</td>\n",
       "      <td>19568</td>\n",
       "      <td>7629</td>\n",
       "      <td>74953</td>\n",
       "      <td>50833</td>\n",
       "      <td>161899</td>\n",
       "      <td>17</td>\n",
       "    </tr>\n",
       "    <tr>\n",
       "      <th>ARUNACHAL PRADESH</th>\n",
       "      <td>816</td>\n",
       "      <td>912</td>\n",
       "      <td>4</td>\n",
       "      <td>1212</td>\n",
       "      <td>30</td>\n",
       "      <td>309</td>\n",
       "      <td>0</td>\n",
       "    </tr>\n",
       "    <tr>\n",
       "      <th>ASSAM</th>\n",
       "      <td>24012</td>\n",
       "      <td>39154</td>\n",
       "      <td>1992</td>\n",
       "      <td>24636</td>\n",
       "      <td>142</td>\n",
       "      <td>75912</td>\n",
       "      <td>14</td>\n",
       "    </tr>\n",
       "    <tr>\n",
       "      <th>BIHAR</th>\n",
       "      <td>17634</td>\n",
       "      <td>37697</td>\n",
       "      <td>18658</td>\n",
       "      <td>9382</td>\n",
       "      <td>468</td>\n",
       "      <td>44090</td>\n",
       "      <td>464</td>\n",
       "    </tr>\n",
       "  </tbody>\n",
       "</table>\n",
       "</div>"
      ],
      "text/plain": [
       "                              Rape  Kidnapping and Abduction  Dowry Deaths  \\\n",
       "STATE/UT                                                                     \n",
       "ANDAMAN AND NICOBAR ISLANDS    227                       135            14   \n",
       "ANDHRA PRADESH               18671                     19568          7629   \n",
       "ARUNACHAL PRADESH              816                       912             4   \n",
       "ASSAM                        24012                     39154          1992   \n",
       "BIHAR                        17634                     37697         18658   \n",
       "\n",
       "                             Assault on women with intent to outrage her modesty  \\\n",
       "STATE/UT                                                                           \n",
       "ANDAMAN AND NICOBAR ISLANDS                                                386     \n",
       "ANDHRA PRADESH                                                           74953     \n",
       "ARUNACHAL PRADESH                                                         1212     \n",
       "ASSAM                                                                    24636     \n",
       "BIHAR                                                                     9382     \n",
       "\n",
       "                             Insult to modesty of Women  \\\n",
       "STATE/UT                                                  \n",
       "ANDAMAN AND NICOBAR ISLANDS                          69   \n",
       "ANDHRA PRADESH                                    50833   \n",
       "ARUNACHAL PRADESH                                    30   \n",
       "ASSAM                                               142   \n",
       "BIHAR                                               468   \n",
       "\n",
       "                             Cruelty by Husband or his Relatives  \\\n",
       "STATE/UT                                                           \n",
       "ANDAMAN AND NICOBAR ISLANDS                                  167   \n",
       "ANDHRA PRADESH                                            161899   \n",
       "ARUNACHAL PRADESH                                            309   \n",
       "ASSAM                                                      75912   \n",
       "BIHAR                                                      44090   \n",
       "\n",
       "                             Importation of Girls  \n",
       "STATE/UT                                           \n",
       "ANDAMAN AND NICOBAR ISLANDS                     0  \n",
       "ANDHRA PRADESH                                 17  \n",
       "ARUNACHAL PRADESH                               0  \n",
       "ASSAM                                          14  \n",
       "BIHAR                                         464  "
      ]
     },
     "execution_count": 70,
     "metadata": {},
     "output_type": "execute_result"
    }
   ],
   "source": [
    "# groupby 'STATE/UT' and sum it up\n",
    "crimes_Area_df = pd.DataFrame()\n",
    "for index in list(crimes_df.columns)[3:]:\n",
    "    crimes_Area_df[index] = crimes_df.groupby(['STATE/UT'])[index].sum()\n",
    "crimes_Area_df.head()"
   ]
  },
  {
   "cell_type": "code",
   "execution_count": 71,
   "metadata": {},
   "outputs": [],
   "source": [
    "# create latitude and longitude for maps, each 'STATE/UT' latitude and longtitude\n",
    "lat_long = {'STATE/UT' : ['ANDAMAN AND NICOBAR ISLANDS', 'ANDHRA PRADESH', 'ARUNACHAL PRADESH',\n",
    "            'ASSAM', 'BIHAR', 'CHANDIGARH', 'CHHATTISGARH', 'DADRA AND NAGAR HAVELI', 'DAMAN AND DIU',\n",
    "            'DELHI', 'GOA', 'GUJARAT', 'HARYANA', 'HIMACHAL PRADESH', 'JAMMU AND KASHMIR',\n",
    "            'JHARKHAND', 'KARNATAKA', 'KERALA', 'LAKSHADWEEP', 'MADHYA PRADESH', 'MAHARASHTRA',\n",
    "            'MANIPUR', 'MEGHALAYA', 'MIZORAM', 'NAGALAND', 'ODISHA', 'PUDUCHERRY', 'PUNJAB',\n",
    "            'RAJASTHAN', 'SIKKIM', 'TAMIL NADU', 'TELANGANA', 'TRIPURA', 'UTTAR PRADESH',\n",
    "            'UTTARAKHAND', 'WEST BENGAL'],\n",
    "            'lat' : [11.68, 14.90, 27.06, 26.14, 25.4, 30.45, 21.25, 20.27, 20.42, 28.36,\n",
    "            15.50, 23.22, 30.44, 31.61, 32.44, 23.35, 15.19, 10.00, 10.57, 23.28, 18.97,\n",
    "            24.44, 25.57, 23.36, 25.67, 20.27, 11.55, 30.79, 26.60, 27.33, 11.52, 17.82,\n",
    "            23.84, 26.85, 30.33, 22.34],                                 \n",
    "            'long' : [92.77, 79.09, 93.37, 91.77, 85.1, 76.47, 81.60, 73.02, 72.83, 77.13,\n",
    "            73.83, 72.66, 76.47, 77.10, 75.54, 85.33, 75.42, 76.00, 72.64, 77.56, 72.82,\n",
    "            93.58, 91.88, 92.80, 94.12, 85.82, 79.49, 75.84, 73.80, 88.30, 78.75, 79.18,\n",
    "            91.28, 80.91, 78.06, 88.22]}                              \n",
    "lat_long = pd.DataFrame(lat_long)"
   ]
  },
  {
   "cell_type": "code",
   "execution_count": 72,
   "metadata": {},
   "outputs": [],
   "source": [
    "# merge lat_long dataframe and crimes_Area_df to a new dataframe\n",
    "lat_long_crimes_DF = pd.merge(crimes_Area_df, lat_long, how = 'outer', on = ['STATE/UT'])\n",
    "lat_long_crimes_DF"
   ]
  },
  {
   "cell_type": "code",
   "execution_count": 73,
   "metadata": {},
   "outputs": [
    {
     "data": {
      "text/html": [
       "<div style=\"width:100%;\"><div style=\"position:relative;width:100%;height:0;padding-bottom:60%;\"><span style=\"color:#565656\">Make this Notebook Trusted to load map: File -> Trust Notebook</span><iframe srcdoc=\"&lt;!DOCTYPE html&gt;\n",
       "&lt;html&gt;\n",
       "&lt;head&gt;\n",
       "    \n",
       "    &lt;meta http-equiv=&quot;content-type&quot; content=&quot;text/html; charset=UTF-8&quot; /&gt;\n",
       "    \n",
       "        &lt;script&gt;\n",
       "            L_NO_TOUCH = false;\n",
       "            L_DISABLE_3D = false;\n",
       "        &lt;/script&gt;\n",
       "    \n",
       "    &lt;style&gt;html, body {width: 100%;height: 100%;margin: 0;padding: 0;}&lt;/style&gt;\n",
       "    &lt;style&gt;#map {position:absolute;top:0;bottom:0;right:0;left:0;}&lt;/style&gt;\n",
       "    &lt;script src=&quot;https://cdn.jsdelivr.net/npm/leaflet@1.6.0/dist/leaflet.js&quot;&gt;&lt;/script&gt;\n",
       "    &lt;script src=&quot;https://code.jquery.com/jquery-1.12.4.min.js&quot;&gt;&lt;/script&gt;\n",
       "    &lt;script src=&quot;https://maxcdn.bootstrapcdn.com/bootstrap/3.2.0/js/bootstrap.min.js&quot;&gt;&lt;/script&gt;\n",
       "    &lt;script src=&quot;https://cdnjs.cloudflare.com/ajax/libs/Leaflet.awesome-markers/2.0.2/leaflet.awesome-markers.js&quot;&gt;&lt;/script&gt;\n",
       "    &lt;link rel=&quot;stylesheet&quot; href=&quot;https://cdn.jsdelivr.net/npm/leaflet@1.6.0/dist/leaflet.css&quot;/&gt;\n",
       "    &lt;link rel=&quot;stylesheet&quot; href=&quot;https://maxcdn.bootstrapcdn.com/bootstrap/3.2.0/css/bootstrap.min.css&quot;/&gt;\n",
       "    &lt;link rel=&quot;stylesheet&quot; href=&quot;https://maxcdn.bootstrapcdn.com/bootstrap/3.2.0/css/bootstrap-theme.min.css&quot;/&gt;\n",
       "    &lt;link rel=&quot;stylesheet&quot; href=&quot;https://maxcdn.bootstrapcdn.com/font-awesome/4.6.3/css/font-awesome.min.css&quot;/&gt;\n",
       "    &lt;link rel=&quot;stylesheet&quot; href=&quot;https://cdnjs.cloudflare.com/ajax/libs/Leaflet.awesome-markers/2.0.2/leaflet.awesome-markers.css&quot;/&gt;\n",
       "    &lt;link rel=&quot;stylesheet&quot; href=&quot;https://cdn.jsdelivr.net/gh/python-visualization/folium/folium/templates/leaflet.awesome.rotate.min.css&quot;/&gt;\n",
       "    \n",
       "            &lt;meta name=&quot;viewport&quot; content=&quot;width=device-width,\n",
       "                initial-scale=1.0, maximum-scale=1.0, user-scalable=no&quot; /&gt;\n",
       "            &lt;style&gt;\n",
       "                #map_c36aab7655bfcd55ddd4704e0f40c71e {\n",
       "                    position: relative;\n",
       "                    width: 1000.0px;\n",
       "                    height: 600.0px;\n",
       "                    left: 0.0%;\n",
       "                    top: 0.0%;\n",
       "                }\n",
       "            &lt;/style&gt;\n",
       "        \n",
       "&lt;/head&gt;\n",
       "&lt;body&gt;\n",
       "    \n",
       "    \n",
       "            &lt;div class=&quot;folium-map&quot; id=&quot;map_c36aab7655bfcd55ddd4704e0f40c71e&quot; &gt;&lt;/div&gt;\n",
       "        \n",
       "&lt;/body&gt;\n",
       "&lt;script&gt;\n",
       "    \n",
       "    \n",
       "            var map_c36aab7655bfcd55ddd4704e0f40c71e = L.map(\n",
       "                &quot;map_c36aab7655bfcd55ddd4704e0f40c71e&quot;,\n",
       "                {\n",
       "                    center: [21.5, 83.0],\n",
       "                    crs: L.CRS.EPSG3857,\n",
       "                    zoom: 5,\n",
       "                    zoomControl: true,\n",
       "                    preferCanvas: false,\n",
       "                }\n",
       "            );\n",
       "\n",
       "            \n",
       "\n",
       "        \n",
       "    \n",
       "            var tile_layer_49be1ecec7e0322bf51f668d2ec890e4 = L.tileLayer(\n",
       "                &quot;https://{s}.tile.openstreetmap.org/{z}/{x}/{y}.png&quot;,\n",
       "                {&quot;attribution&quot;: &quot;Data by \\u0026copy; \\u003ca href=\\&quot;http://openstreetmap.org\\&quot;\\u003eOpenStreetMap\\u003c/a\\u003e, under \\u003ca href=\\&quot;http://www.openstreetmap.org/copyright\\&quot;\\u003eODbL\\u003c/a\\u003e.&quot;, &quot;detectRetina&quot;: false, &quot;maxNativeZoom&quot;: 18, &quot;maxZoom&quot;: 18, &quot;minZoom&quot;: 0, &quot;noWrap&quot;: false, &quot;opacity&quot;: 1, &quot;subdomains&quot;: &quot;abc&quot;, &quot;tms&quot;: false}\n",
       "            ).addTo(map_c36aab7655bfcd55ddd4704e0f40c71e);\n",
       "        \n",
       "    \n",
       "            var feature_group_6d9ec5a6604a2284d694e540a583daea = L.featureGroup(\n",
       "                {}\n",
       "            ).addTo(map_c36aab7655bfcd55ddd4704e0f40c71e);\n",
       "        \n",
       "    \n",
       "            var circle_marker_2f03dfe340b376b14a094eda228bacdd = L.circleMarker(\n",
       "                [11.68, 92.77],\n",
       "                {&quot;bubblingMouseEvents&quot;: true, &quot;color&quot;: &quot;yellow&quot;, &quot;dashArray&quot;: null, &quot;dashOffset&quot;: null, &quot;fill&quot;: true, &quot;fillColor&quot;: &quot;red&quot;, &quot;fillOpacity&quot;: 0.4, &quot;fillRule&quot;: &quot;evenodd&quot;, &quot;lineCap&quot;: &quot;round&quot;, &quot;lineJoin&quot;: &quot;round&quot;, &quot;opacity&quot;: 1.0, &quot;radius&quot;: 7, &quot;stroke&quot;: true, &quot;weight&quot;: 3}\n",
       "            ).addTo(feature_group_6d9ec5a6604a2284d694e540a583daea);\n",
       "        \n",
       "    \n",
       "            var circle_marker_fbf6334df26c17b213d0123d4bc56701 = L.circleMarker(\n",
       "                [14.9, 79.09],\n",
       "                {&quot;bubblingMouseEvents&quot;: true, &quot;color&quot;: &quot;yellow&quot;, &quot;dashArray&quot;: null, &quot;dashOffset&quot;: null, &quot;fill&quot;: true, &quot;fillColor&quot;: &quot;red&quot;, &quot;fillOpacity&quot;: 0.4, &quot;fillRule&quot;: &quot;evenodd&quot;, &quot;lineCap&quot;: &quot;round&quot;, &quot;lineJoin&quot;: &quot;round&quot;, &quot;opacity&quot;: 1.0, &quot;radius&quot;: 7, &quot;stroke&quot;: true, &quot;weight&quot;: 3}\n",
       "            ).addTo(feature_group_6d9ec5a6604a2284d694e540a583daea);\n",
       "        \n",
       "    \n",
       "            var circle_marker_5263b9940abaea5045fd263ed07507ef = L.circleMarker(\n",
       "                [27.06, 93.37],\n",
       "                {&quot;bubblingMouseEvents&quot;: true, &quot;color&quot;: &quot;yellow&quot;, &quot;dashArray&quot;: null, &quot;dashOffset&quot;: null, &quot;fill&quot;: true, &quot;fillColor&quot;: &quot;red&quot;, &quot;fillOpacity&quot;: 0.4, &quot;fillRule&quot;: &quot;evenodd&quot;, &quot;lineCap&quot;: &quot;round&quot;, &quot;lineJoin&quot;: &quot;round&quot;, &quot;opacity&quot;: 1.0, &quot;radius&quot;: 7, &quot;stroke&quot;: true, &quot;weight&quot;: 3}\n",
       "            ).addTo(feature_group_6d9ec5a6604a2284d694e540a583daea);\n",
       "        \n",
       "    \n",
       "            var circle_marker_d5b430f414a1a09ffd89e7d17a1a324b = L.circleMarker(\n",
       "                [26.14, 91.77],\n",
       "                {&quot;bubblingMouseEvents&quot;: true, &quot;color&quot;: &quot;yellow&quot;, &quot;dashArray&quot;: null, &quot;dashOffset&quot;: null, &quot;fill&quot;: true, &quot;fillColor&quot;: &quot;red&quot;, &quot;fillOpacity&quot;: 0.4, &quot;fillRule&quot;: &quot;evenodd&quot;, &quot;lineCap&quot;: &quot;round&quot;, &quot;lineJoin&quot;: &quot;round&quot;, &quot;opacity&quot;: 1.0, &quot;radius&quot;: 7, &quot;stroke&quot;: true, &quot;weight&quot;: 3}\n",
       "            ).addTo(feature_group_6d9ec5a6604a2284d694e540a583daea);\n",
       "        \n",
       "    \n",
       "            var circle_marker_4833c99e7df9d1245933c04efdd1bf41 = L.circleMarker(\n",
       "                [25.4, 85.1],\n",
       "                {&quot;bubblingMouseEvents&quot;: true, &quot;color&quot;: &quot;yellow&quot;, &quot;dashArray&quot;: null, &quot;dashOffset&quot;: null, &quot;fill&quot;: true, &quot;fillColor&quot;: &quot;red&quot;, &quot;fillOpacity&quot;: 0.4, &quot;fillRule&quot;: &quot;evenodd&quot;, &quot;lineCap&quot;: &quot;round&quot;, &quot;lineJoin&quot;: &quot;round&quot;, &quot;opacity&quot;: 1.0, &quot;radius&quot;: 7, &quot;stroke&quot;: true, &quot;weight&quot;: 3}\n",
       "            ).addTo(feature_group_6d9ec5a6604a2284d694e540a583daea);\n",
       "        \n",
       "    \n",
       "            var circle_marker_8141103eb8a3cf0489afc128576953be = L.circleMarker(\n",
       "                [30.45, 76.47],\n",
       "                {&quot;bubblingMouseEvents&quot;: true, &quot;color&quot;: &quot;yellow&quot;, &quot;dashArray&quot;: null, &quot;dashOffset&quot;: null, &quot;fill&quot;: true, &quot;fillColor&quot;: &quot;red&quot;, &quot;fillOpacity&quot;: 0.4, &quot;fillRule&quot;: &quot;evenodd&quot;, &quot;lineCap&quot;: &quot;round&quot;, &quot;lineJoin&quot;: &quot;round&quot;, &quot;opacity&quot;: 1.0, &quot;radius&quot;: 7, &quot;stroke&quot;: true, &quot;weight&quot;: 3}\n",
       "            ).addTo(feature_group_6d9ec5a6604a2284d694e540a583daea);\n",
       "        \n",
       "    \n",
       "            var circle_marker_9acdab0fe197e4072cc25bdb12022169 = L.circleMarker(\n",
       "                [21.25, 81.6],\n",
       "                {&quot;bubblingMouseEvents&quot;: true, &quot;color&quot;: &quot;yellow&quot;, &quot;dashArray&quot;: null, &quot;dashOffset&quot;: null, &quot;fill&quot;: true, &quot;fillColor&quot;: &quot;red&quot;, &quot;fillOpacity&quot;: 0.4, &quot;fillRule&quot;: &quot;evenodd&quot;, &quot;lineCap&quot;: &quot;round&quot;, &quot;lineJoin&quot;: &quot;round&quot;, &quot;opacity&quot;: 1.0, &quot;radius&quot;: 7, &quot;stroke&quot;: true, &quot;weight&quot;: 3}\n",
       "            ).addTo(feature_group_6d9ec5a6604a2284d694e540a583daea);\n",
       "        \n",
       "    \n",
       "            var circle_marker_f6c43b6431dc335560c49d464be63639 = L.circleMarker(\n",
       "                [20.27, 73.02],\n",
       "                {&quot;bubblingMouseEvents&quot;: true, &quot;color&quot;: &quot;yellow&quot;, &quot;dashArray&quot;: null, &quot;dashOffset&quot;: null, &quot;fill&quot;: true, &quot;fillColor&quot;: &quot;red&quot;, &quot;fillOpacity&quot;: 0.4, &quot;fillRule&quot;: &quot;evenodd&quot;, &quot;lineCap&quot;: &quot;round&quot;, &quot;lineJoin&quot;: &quot;round&quot;, &quot;opacity&quot;: 1.0, &quot;radius&quot;: 7, &quot;stroke&quot;: true, &quot;weight&quot;: 3}\n",
       "            ).addTo(feature_group_6d9ec5a6604a2284d694e540a583daea);\n",
       "        \n",
       "    \n",
       "            var circle_marker_7902d50fe0c24c6c648dd54129b69b5c = L.circleMarker(\n",
       "                [20.42, 72.83],\n",
       "                {&quot;bubblingMouseEvents&quot;: true, &quot;color&quot;: &quot;yellow&quot;, &quot;dashArray&quot;: null, &quot;dashOffset&quot;: null, &quot;fill&quot;: true, &quot;fillColor&quot;: &quot;red&quot;, &quot;fillOpacity&quot;: 0.4, &quot;fillRule&quot;: &quot;evenodd&quot;, &quot;lineCap&quot;: &quot;round&quot;, &quot;lineJoin&quot;: &quot;round&quot;, &quot;opacity&quot;: 1.0, &quot;radius&quot;: 7, &quot;stroke&quot;: true, &quot;weight&quot;: 3}\n",
       "            ).addTo(feature_group_6d9ec5a6604a2284d694e540a583daea);\n",
       "        \n",
       "    \n",
       "            var circle_marker_d60b4a83a797a653470950cb2ac45589 = L.circleMarker(\n",
       "                [28.36, 77.13],\n",
       "                {&quot;bubblingMouseEvents&quot;: true, &quot;color&quot;: &quot;yellow&quot;, &quot;dashArray&quot;: null, &quot;dashOffset&quot;: null, &quot;fill&quot;: true, &quot;fillColor&quot;: &quot;red&quot;, &quot;fillOpacity&quot;: 0.4, &quot;fillRule&quot;: &quot;evenodd&quot;, &quot;lineCap&quot;: &quot;round&quot;, &quot;lineJoin&quot;: &quot;round&quot;, &quot;opacity&quot;: 1.0, &quot;radius&quot;: 7, &quot;stroke&quot;: true, &quot;weight&quot;: 3}\n",
       "            ).addTo(feature_group_6d9ec5a6604a2284d694e540a583daea);\n",
       "        \n",
       "    \n",
       "            var circle_marker_b68139cfd7503599cacd54a3abee9dd2 = L.circleMarker(\n",
       "                [15.5, 73.83],\n",
       "                {&quot;bubblingMouseEvents&quot;: true, &quot;color&quot;: &quot;yellow&quot;, &quot;dashArray&quot;: null, &quot;dashOffset&quot;: null, &quot;fill&quot;: true, &quot;fillColor&quot;: &quot;red&quot;, &quot;fillOpacity&quot;: 0.4, &quot;fillRule&quot;: &quot;evenodd&quot;, &quot;lineCap&quot;: &quot;round&quot;, &quot;lineJoin&quot;: &quot;round&quot;, &quot;opacity&quot;: 1.0, &quot;radius&quot;: 7, &quot;stroke&quot;: true, &quot;weight&quot;: 3}\n",
       "            ).addTo(feature_group_6d9ec5a6604a2284d694e540a583daea);\n",
       "        \n",
       "    \n",
       "            var circle_marker_b8ebde6a72fc1d745e3f1cfe2b985b0b = L.circleMarker(\n",
       "                [23.22, 72.66],\n",
       "                {&quot;bubblingMouseEvents&quot;: true, &quot;color&quot;: &quot;yellow&quot;, &quot;dashArray&quot;: null, &quot;dashOffset&quot;: null, &quot;fill&quot;: true, &quot;fillColor&quot;: &quot;red&quot;, &quot;fillOpacity&quot;: 0.4, &quot;fillRule&quot;: &quot;evenodd&quot;, &quot;lineCap&quot;: &quot;round&quot;, &quot;lineJoin&quot;: &quot;round&quot;, &quot;opacity&quot;: 1.0, &quot;radius&quot;: 7, &quot;stroke&quot;: true, &quot;weight&quot;: 3}\n",
       "            ).addTo(feature_group_6d9ec5a6604a2284d694e540a583daea);\n",
       "        \n",
       "    \n",
       "            var circle_marker_f442f7b46f28fc353af8341fb7ab69d6 = L.circleMarker(\n",
       "                [30.44, 76.47],\n",
       "                {&quot;bubblingMouseEvents&quot;: true, &quot;color&quot;: &quot;yellow&quot;, &quot;dashArray&quot;: null, &quot;dashOffset&quot;: null, &quot;fill&quot;: true, &quot;fillColor&quot;: &quot;red&quot;, &quot;fillOpacity&quot;: 0.4, &quot;fillRule&quot;: &quot;evenodd&quot;, &quot;lineCap&quot;: &quot;round&quot;, &quot;lineJoin&quot;: &quot;round&quot;, &quot;opacity&quot;: 1.0, &quot;radius&quot;: 7, &quot;stroke&quot;: true, &quot;weight&quot;: 3}\n",
       "            ).addTo(feature_group_6d9ec5a6604a2284d694e540a583daea);\n",
       "        \n",
       "    \n",
       "            var circle_marker_e490d3722b8ff238fd4f6d2b3405b8c2 = L.circleMarker(\n",
       "                [31.61, 77.1],\n",
       "                {&quot;bubblingMouseEvents&quot;: true, &quot;color&quot;: &quot;yellow&quot;, &quot;dashArray&quot;: null, &quot;dashOffset&quot;: null, &quot;fill&quot;: true, &quot;fillColor&quot;: &quot;red&quot;, &quot;fillOpacity&quot;: 0.4, &quot;fillRule&quot;: &quot;evenodd&quot;, &quot;lineCap&quot;: &quot;round&quot;, &quot;lineJoin&quot;: &quot;round&quot;, &quot;opacity&quot;: 1.0, &quot;radius&quot;: 7, &quot;stroke&quot;: true, &quot;weight&quot;: 3}\n",
       "            ).addTo(feature_group_6d9ec5a6604a2284d694e540a583daea);\n",
       "        \n",
       "    \n",
       "            var circle_marker_65486e8ca8a85c25314f4ffc57188768 = L.circleMarker(\n",
       "                [32.44, 75.54],\n",
       "                {&quot;bubblingMouseEvents&quot;: true, &quot;color&quot;: &quot;yellow&quot;, &quot;dashArray&quot;: null, &quot;dashOffset&quot;: null, &quot;fill&quot;: true, &quot;fillColor&quot;: &quot;red&quot;, &quot;fillOpacity&quot;: 0.4, &quot;fillRule&quot;: &quot;evenodd&quot;, &quot;lineCap&quot;: &quot;round&quot;, &quot;lineJoin&quot;: &quot;round&quot;, &quot;opacity&quot;: 1.0, &quot;radius&quot;: 7, &quot;stroke&quot;: true, &quot;weight&quot;: 3}\n",
       "            ).addTo(feature_group_6d9ec5a6604a2284d694e540a583daea);\n",
       "        \n",
       "    \n",
       "            var circle_marker_c6c05d08bc42cd30e3cdda0931a356ea = L.circleMarker(\n",
       "                [23.35, 85.33],\n",
       "                {&quot;bubblingMouseEvents&quot;: true, &quot;color&quot;: &quot;yellow&quot;, &quot;dashArray&quot;: null, &quot;dashOffset&quot;: null, &quot;fill&quot;: true, &quot;fillColor&quot;: &quot;red&quot;, &quot;fillOpacity&quot;: 0.4, &quot;fillRule&quot;: &quot;evenodd&quot;, &quot;lineCap&quot;: &quot;round&quot;, &quot;lineJoin&quot;: &quot;round&quot;, &quot;opacity&quot;: 1.0, &quot;radius&quot;: 7, &quot;stroke&quot;: true, &quot;weight&quot;: 3}\n",
       "            ).addTo(feature_group_6d9ec5a6604a2284d694e540a583daea);\n",
       "        \n",
       "    \n",
       "            var circle_marker_2f44daa39fd043008c195e516c22e8c1 = L.circleMarker(\n",
       "                [15.19, 75.42],\n",
       "                {&quot;bubblingMouseEvents&quot;: true, &quot;color&quot;: &quot;yellow&quot;, &quot;dashArray&quot;: null, &quot;dashOffset&quot;: null, &quot;fill&quot;: true, &quot;fillColor&quot;: &quot;red&quot;, &quot;fillOpacity&quot;: 0.4, &quot;fillRule&quot;: &quot;evenodd&quot;, &quot;lineCap&quot;: &quot;round&quot;, &quot;lineJoin&quot;: &quot;round&quot;, &quot;opacity&quot;: 1.0, &quot;radius&quot;: 7, &quot;stroke&quot;: true, &quot;weight&quot;: 3}\n",
       "            ).addTo(feature_group_6d9ec5a6604a2284d694e540a583daea);\n",
       "        \n",
       "    \n",
       "            var circle_marker_c3c5ef9d9626da13aec11a9a3622293a = L.circleMarker(\n",
       "                [10.0, 76.0],\n",
       "                {&quot;bubblingMouseEvents&quot;: true, &quot;color&quot;: &quot;yellow&quot;, &quot;dashArray&quot;: null, &quot;dashOffset&quot;: null, &quot;fill&quot;: true, &quot;fillColor&quot;: &quot;red&quot;, &quot;fillOpacity&quot;: 0.4, &quot;fillRule&quot;: &quot;evenodd&quot;, &quot;lineCap&quot;: &quot;round&quot;, &quot;lineJoin&quot;: &quot;round&quot;, &quot;opacity&quot;: 1.0, &quot;radius&quot;: 7, &quot;stroke&quot;: true, &quot;weight&quot;: 3}\n",
       "            ).addTo(feature_group_6d9ec5a6604a2284d694e540a583daea);\n",
       "        \n",
       "    \n",
       "            var circle_marker_4094467c8bc7e53c3272a5cefc0bf5e7 = L.circleMarker(\n",
       "                [10.57, 72.64],\n",
       "                {&quot;bubblingMouseEvents&quot;: true, &quot;color&quot;: &quot;yellow&quot;, &quot;dashArray&quot;: null, &quot;dashOffset&quot;: null, &quot;fill&quot;: true, &quot;fillColor&quot;: &quot;red&quot;, &quot;fillOpacity&quot;: 0.4, &quot;fillRule&quot;: &quot;evenodd&quot;, &quot;lineCap&quot;: &quot;round&quot;, &quot;lineJoin&quot;: &quot;round&quot;, &quot;opacity&quot;: 1.0, &quot;radius&quot;: 7, &quot;stroke&quot;: true, &quot;weight&quot;: 3}\n",
       "            ).addTo(feature_group_6d9ec5a6604a2284d694e540a583daea);\n",
       "        \n",
       "    \n",
       "            var circle_marker_0dfff1be67b64702af79f2e2953bf38a = L.circleMarker(\n",
       "                [23.28, 77.56],\n",
       "                {&quot;bubblingMouseEvents&quot;: true, &quot;color&quot;: &quot;yellow&quot;, &quot;dashArray&quot;: null, &quot;dashOffset&quot;: null, &quot;fill&quot;: true, &quot;fillColor&quot;: &quot;red&quot;, &quot;fillOpacity&quot;: 0.4, &quot;fillRule&quot;: &quot;evenodd&quot;, &quot;lineCap&quot;: &quot;round&quot;, &quot;lineJoin&quot;: &quot;round&quot;, &quot;opacity&quot;: 1.0, &quot;radius&quot;: 7, &quot;stroke&quot;: true, &quot;weight&quot;: 3}\n",
       "            ).addTo(feature_group_6d9ec5a6604a2284d694e540a583daea);\n",
       "        \n",
       "    \n",
       "            var circle_marker_306c66ed7c12b40ee98dae8aadee3e5f = L.circleMarker(\n",
       "                [18.97, 72.82],\n",
       "                {&quot;bubblingMouseEvents&quot;: true, &quot;color&quot;: &quot;yellow&quot;, &quot;dashArray&quot;: null, &quot;dashOffset&quot;: null, &quot;fill&quot;: true, &quot;fillColor&quot;: &quot;red&quot;, &quot;fillOpacity&quot;: 0.4, &quot;fillRule&quot;: &quot;evenodd&quot;, &quot;lineCap&quot;: &quot;round&quot;, &quot;lineJoin&quot;: &quot;round&quot;, &quot;opacity&quot;: 1.0, &quot;radius&quot;: 7, &quot;stroke&quot;: true, &quot;weight&quot;: 3}\n",
       "            ).addTo(feature_group_6d9ec5a6604a2284d694e540a583daea);\n",
       "        \n",
       "    \n",
       "            var circle_marker_440816aa664da9b9160edec5c043c66d = L.circleMarker(\n",
       "                [24.44, 93.58],\n",
       "                {&quot;bubblingMouseEvents&quot;: true, &quot;color&quot;: &quot;yellow&quot;, &quot;dashArray&quot;: null, &quot;dashOffset&quot;: null, &quot;fill&quot;: true, &quot;fillColor&quot;: &quot;red&quot;, &quot;fillOpacity&quot;: 0.4, &quot;fillRule&quot;: &quot;evenodd&quot;, &quot;lineCap&quot;: &quot;round&quot;, &quot;lineJoin&quot;: &quot;round&quot;, &quot;opacity&quot;: 1.0, &quot;radius&quot;: 7, &quot;stroke&quot;: true, &quot;weight&quot;: 3}\n",
       "            ).addTo(feature_group_6d9ec5a6604a2284d694e540a583daea);\n",
       "        \n",
       "    \n",
       "            var circle_marker_bde0fc635ed80c945d4b2f39ea786a58 = L.circleMarker(\n",
       "                [25.57, 91.88],\n",
       "                {&quot;bubblingMouseEvents&quot;: true, &quot;color&quot;: &quot;yellow&quot;, &quot;dashArray&quot;: null, &quot;dashOffset&quot;: null, &quot;fill&quot;: true, &quot;fillColor&quot;: &quot;red&quot;, &quot;fillOpacity&quot;: 0.4, &quot;fillRule&quot;: &quot;evenodd&quot;, &quot;lineCap&quot;: &quot;round&quot;, &quot;lineJoin&quot;: &quot;round&quot;, &quot;opacity&quot;: 1.0, &quot;radius&quot;: 7, &quot;stroke&quot;: true, &quot;weight&quot;: 3}\n",
       "            ).addTo(feature_group_6d9ec5a6604a2284d694e540a583daea);\n",
       "        \n",
       "    \n",
       "            var circle_marker_37e0d49e37f5156f519425efb4692440 = L.circleMarker(\n",
       "                [23.36, 92.8],\n",
       "                {&quot;bubblingMouseEvents&quot;: true, &quot;color&quot;: &quot;yellow&quot;, &quot;dashArray&quot;: null, &quot;dashOffset&quot;: null, &quot;fill&quot;: true, &quot;fillColor&quot;: &quot;red&quot;, &quot;fillOpacity&quot;: 0.4, &quot;fillRule&quot;: &quot;evenodd&quot;, &quot;lineCap&quot;: &quot;round&quot;, &quot;lineJoin&quot;: &quot;round&quot;, &quot;opacity&quot;: 1.0, &quot;radius&quot;: 7, &quot;stroke&quot;: true, &quot;weight&quot;: 3}\n",
       "            ).addTo(feature_group_6d9ec5a6604a2284d694e540a583daea);\n",
       "        \n",
       "    \n",
       "            var circle_marker_1e9dc5beb83943d87b36c793113542b0 = L.circleMarker(\n",
       "                [25.67, 94.12],\n",
       "                {&quot;bubblingMouseEvents&quot;: true, &quot;color&quot;: &quot;yellow&quot;, &quot;dashArray&quot;: null, &quot;dashOffset&quot;: null, &quot;fill&quot;: true, &quot;fillColor&quot;: &quot;red&quot;, &quot;fillOpacity&quot;: 0.4, &quot;fillRule&quot;: &quot;evenodd&quot;, &quot;lineCap&quot;: &quot;round&quot;, &quot;lineJoin&quot;: &quot;round&quot;, &quot;opacity&quot;: 1.0, &quot;radius&quot;: 7, &quot;stroke&quot;: true, &quot;weight&quot;: 3}\n",
       "            ).addTo(feature_group_6d9ec5a6604a2284d694e540a583daea);\n",
       "        \n",
       "    \n",
       "            var circle_marker_2d4fe34b5a82910c289ca7c327e70854 = L.circleMarker(\n",
       "                [20.27, 85.82],\n",
       "                {&quot;bubblingMouseEvents&quot;: true, &quot;color&quot;: &quot;yellow&quot;, &quot;dashArray&quot;: null, &quot;dashOffset&quot;: null, &quot;fill&quot;: true, &quot;fillColor&quot;: &quot;red&quot;, &quot;fillOpacity&quot;: 0.4, &quot;fillRule&quot;: &quot;evenodd&quot;, &quot;lineCap&quot;: &quot;round&quot;, &quot;lineJoin&quot;: &quot;round&quot;, &quot;opacity&quot;: 1.0, &quot;radius&quot;: 7, &quot;stroke&quot;: true, &quot;weight&quot;: 3}\n",
       "            ).addTo(feature_group_6d9ec5a6604a2284d694e540a583daea);\n",
       "        \n",
       "    \n",
       "            var circle_marker_1bb6cb62236151dacb785fc8e9a752cf = L.circleMarker(\n",
       "                [11.55, 79.49],\n",
       "                {&quot;bubblingMouseEvents&quot;: true, &quot;color&quot;: &quot;yellow&quot;, &quot;dashArray&quot;: null, &quot;dashOffset&quot;: null, &quot;fill&quot;: true, &quot;fillColor&quot;: &quot;red&quot;, &quot;fillOpacity&quot;: 0.4, &quot;fillRule&quot;: &quot;evenodd&quot;, &quot;lineCap&quot;: &quot;round&quot;, &quot;lineJoin&quot;: &quot;round&quot;, &quot;opacity&quot;: 1.0, &quot;radius&quot;: 7, &quot;stroke&quot;: true, &quot;weight&quot;: 3}\n",
       "            ).addTo(feature_group_6d9ec5a6604a2284d694e540a583daea);\n",
       "        \n",
       "    \n",
       "            var circle_marker_0a4e25fe2d79c23cea86885d16ed08fd = L.circleMarker(\n",
       "                [30.79, 75.84],\n",
       "                {&quot;bubblingMouseEvents&quot;: true, &quot;color&quot;: &quot;yellow&quot;, &quot;dashArray&quot;: null, &quot;dashOffset&quot;: null, &quot;fill&quot;: true, &quot;fillColor&quot;: &quot;red&quot;, &quot;fillOpacity&quot;: 0.4, &quot;fillRule&quot;: &quot;evenodd&quot;, &quot;lineCap&quot;: &quot;round&quot;, &quot;lineJoin&quot;: &quot;round&quot;, &quot;opacity&quot;: 1.0, &quot;radius&quot;: 7, &quot;stroke&quot;: true, &quot;weight&quot;: 3}\n",
       "            ).addTo(feature_group_6d9ec5a6604a2284d694e540a583daea);\n",
       "        \n",
       "    \n",
       "            var circle_marker_ab889a90dde78c0be1d8a6cf80f78ff6 = L.circleMarker(\n",
       "                [26.6, 73.8],\n",
       "                {&quot;bubblingMouseEvents&quot;: true, &quot;color&quot;: &quot;yellow&quot;, &quot;dashArray&quot;: null, &quot;dashOffset&quot;: null, &quot;fill&quot;: true, &quot;fillColor&quot;: &quot;red&quot;, &quot;fillOpacity&quot;: 0.4, &quot;fillRule&quot;: &quot;evenodd&quot;, &quot;lineCap&quot;: &quot;round&quot;, &quot;lineJoin&quot;: &quot;round&quot;, &quot;opacity&quot;: 1.0, &quot;radius&quot;: 7, &quot;stroke&quot;: true, &quot;weight&quot;: 3}\n",
       "            ).addTo(feature_group_6d9ec5a6604a2284d694e540a583daea);\n",
       "        \n",
       "    \n",
       "            var circle_marker_0f7ba56b8247ba7c69b2faf4e743b680 = L.circleMarker(\n",
       "                [27.33, 88.3],\n",
       "                {&quot;bubblingMouseEvents&quot;: true, &quot;color&quot;: &quot;yellow&quot;, &quot;dashArray&quot;: null, &quot;dashOffset&quot;: null, &quot;fill&quot;: true, &quot;fillColor&quot;: &quot;red&quot;, &quot;fillOpacity&quot;: 0.4, &quot;fillRule&quot;: &quot;evenodd&quot;, &quot;lineCap&quot;: &quot;round&quot;, &quot;lineJoin&quot;: &quot;round&quot;, &quot;opacity&quot;: 1.0, &quot;radius&quot;: 7, &quot;stroke&quot;: true, &quot;weight&quot;: 3}\n",
       "            ).addTo(feature_group_6d9ec5a6604a2284d694e540a583daea);\n",
       "        \n",
       "    \n",
       "            var circle_marker_e159d34645f91fede940a3b826e27212 = L.circleMarker(\n",
       "                [11.52, 78.75],\n",
       "                {&quot;bubblingMouseEvents&quot;: true, &quot;color&quot;: &quot;yellow&quot;, &quot;dashArray&quot;: null, &quot;dashOffset&quot;: null, &quot;fill&quot;: true, &quot;fillColor&quot;: &quot;red&quot;, &quot;fillOpacity&quot;: 0.4, &quot;fillRule&quot;: &quot;evenodd&quot;, &quot;lineCap&quot;: &quot;round&quot;, &quot;lineJoin&quot;: &quot;round&quot;, &quot;opacity&quot;: 1.0, &quot;radius&quot;: 7, &quot;stroke&quot;: true, &quot;weight&quot;: 3}\n",
       "            ).addTo(feature_group_6d9ec5a6604a2284d694e540a583daea);\n",
       "        \n",
       "    \n",
       "            var circle_marker_120f3d7f72ac5004afa05a26805b7cb5 = L.circleMarker(\n",
       "                [17.82, 79.18],\n",
       "                {&quot;bubblingMouseEvents&quot;: true, &quot;color&quot;: &quot;yellow&quot;, &quot;dashArray&quot;: null, &quot;dashOffset&quot;: null, &quot;fill&quot;: true, &quot;fillColor&quot;: &quot;red&quot;, &quot;fillOpacity&quot;: 0.4, &quot;fillRule&quot;: &quot;evenodd&quot;, &quot;lineCap&quot;: &quot;round&quot;, &quot;lineJoin&quot;: &quot;round&quot;, &quot;opacity&quot;: 1.0, &quot;radius&quot;: 7, &quot;stroke&quot;: true, &quot;weight&quot;: 3}\n",
       "            ).addTo(feature_group_6d9ec5a6604a2284d694e540a583daea);\n",
       "        \n",
       "    \n",
       "            var circle_marker_01d44e99aeb9e222f169076e9ea4d507 = L.circleMarker(\n",
       "                [23.84, 91.28],\n",
       "                {&quot;bubblingMouseEvents&quot;: true, &quot;color&quot;: &quot;yellow&quot;, &quot;dashArray&quot;: null, &quot;dashOffset&quot;: null, &quot;fill&quot;: true, &quot;fillColor&quot;: &quot;red&quot;, &quot;fillOpacity&quot;: 0.4, &quot;fillRule&quot;: &quot;evenodd&quot;, &quot;lineCap&quot;: &quot;round&quot;, &quot;lineJoin&quot;: &quot;round&quot;, &quot;opacity&quot;: 1.0, &quot;radius&quot;: 7, &quot;stroke&quot;: true, &quot;weight&quot;: 3}\n",
       "            ).addTo(feature_group_6d9ec5a6604a2284d694e540a583daea);\n",
       "        \n",
       "    \n",
       "            var circle_marker_fd0ceddbef830e1af39f692c69f2817e = L.circleMarker(\n",
       "                [26.85, 80.91],\n",
       "                {&quot;bubblingMouseEvents&quot;: true, &quot;color&quot;: &quot;yellow&quot;, &quot;dashArray&quot;: null, &quot;dashOffset&quot;: null, &quot;fill&quot;: true, &quot;fillColor&quot;: &quot;red&quot;, &quot;fillOpacity&quot;: 0.4, &quot;fillRule&quot;: &quot;evenodd&quot;, &quot;lineCap&quot;: &quot;round&quot;, &quot;lineJoin&quot;: &quot;round&quot;, &quot;opacity&quot;: 1.0, &quot;radius&quot;: 7, &quot;stroke&quot;: true, &quot;weight&quot;: 3}\n",
       "            ).addTo(feature_group_6d9ec5a6604a2284d694e540a583daea);\n",
       "        \n",
       "    \n",
       "            var circle_marker_a1266d69b187624d896ac3e205ddf455 = L.circleMarker(\n",
       "                [30.33, 78.06],\n",
       "                {&quot;bubblingMouseEvents&quot;: true, &quot;color&quot;: &quot;yellow&quot;, &quot;dashArray&quot;: null, &quot;dashOffset&quot;: null, &quot;fill&quot;: true, &quot;fillColor&quot;: &quot;red&quot;, &quot;fillOpacity&quot;: 0.4, &quot;fillRule&quot;: &quot;evenodd&quot;, &quot;lineCap&quot;: &quot;round&quot;, &quot;lineJoin&quot;: &quot;round&quot;, &quot;opacity&quot;: 1.0, &quot;radius&quot;: 7, &quot;stroke&quot;: true, &quot;weight&quot;: 3}\n",
       "            ).addTo(feature_group_6d9ec5a6604a2284d694e540a583daea);\n",
       "        \n",
       "&lt;/script&gt;\n",
       "&lt;/html&gt;\" style=\"position:absolute;width:100%;height:100%;left:0;top:0;border:none !important;\" allowfullscreen webkitallowfullscreen mozallowfullscreen></iframe></div></div>"
      ],
      "text/plain": [
       "<folium.folium.Map at 0x164ec0d50>"
      ]
     },
     "execution_count": 73,
     "metadata": {},
     "output_type": "execute_result"
    }
   ],
   "source": [
    "# get all crimes \n",
    "Location_crimes = lat_long_crimes_DF.iloc[0 : 35, :]\n",
    "\n",
    "incidents = folium.map.FeatureGroup()\n",
    "\n",
    "# Loop through the 200 crimes and add each to the incidents feature group\n",
    "for lat, lng, in zip(lat_long_crimes_DF.lat, Location_crimes.long):\n",
    "    incidents.add_child(\n",
    "        folium.CircleMarker(\n",
    "            [lat, lng],\n",
    "            radius=7, # define how big you want the circle markers to be\n",
    "            color = 'yellow',\n",
    "            fill = True,\n",
    "            fill_color = 'red',\n",
    "            fill_opacity = 0.4\n",
    "        )\n",
    "    )\n",
    "\n",
    "# Add incidents to map\n",
    "san_map = folium.Map(width = 1000, height = 600, location = [21.5, 83], zoom_start=5)\n",
    "san_map.add_child(incidents)"
   ]
  },
  {
   "cell_type": "markdown",
   "metadata": {},
   "source": [
    "<div>\n",
    "    <h3>Analysis<h3>\n",
    "    <h4><p>&nbsp;&nbsp;&nbsp;From the picture on above, we can see that the crime areas are very widely distributed throughout India</p><h4>\n",
    "</div>"
   ]
  },
  {
   "cell_type": "markdown",
   "metadata": {},
   "source": [
    "### Below visualization maps which has much deeper color, it means that these area has more crimes, by contrast, shallower, it means that has lower crimes."
   ]
  },
  {
   "cell_type": "code",
   "execution_count": 74,
   "metadata": {},
   "outputs": [
    {
     "data": {
      "text/html": [
       "<div style=\"width:100%;\"><div style=\"position:relative;width:100%;height:0;padding-bottom:60%;\"><span style=\"color:#565656\">Make this Notebook Trusted to load map: File -> Trust Notebook</span><iframe srcdoc=\"&lt;!DOCTYPE html&gt;\n",
       "&lt;html&gt;\n",
       "&lt;head&gt;\n",
       "    \n",
       "    &lt;meta http-equiv=&quot;content-type&quot; content=&quot;text/html; charset=UTF-8&quot; /&gt;\n",
       "    \n",
       "        &lt;script&gt;\n",
       "            L_NO_TOUCH = false;\n",
       "            L_DISABLE_3D = false;\n",
       "        &lt;/script&gt;\n",
       "    \n",
       "    &lt;style&gt;html, body {width: 100%;height: 100%;margin: 0;padding: 0;}&lt;/style&gt;\n",
       "    &lt;style&gt;#map {position:absolute;top:0;bottom:0;right:0;left:0;}&lt;/style&gt;\n",
       "    &lt;script src=&quot;https://cdn.jsdelivr.net/npm/leaflet@1.6.0/dist/leaflet.js&quot;&gt;&lt;/script&gt;\n",
       "    &lt;script src=&quot;https://code.jquery.com/jquery-1.12.4.min.js&quot;&gt;&lt;/script&gt;\n",
       "    &lt;script src=&quot;https://maxcdn.bootstrapcdn.com/bootstrap/3.2.0/js/bootstrap.min.js&quot;&gt;&lt;/script&gt;\n",
       "    &lt;script src=&quot;https://cdnjs.cloudflare.com/ajax/libs/Leaflet.awesome-markers/2.0.2/leaflet.awesome-markers.js&quot;&gt;&lt;/script&gt;\n",
       "    &lt;link rel=&quot;stylesheet&quot; href=&quot;https://cdn.jsdelivr.net/npm/leaflet@1.6.0/dist/leaflet.css&quot;/&gt;\n",
       "    &lt;link rel=&quot;stylesheet&quot; href=&quot;https://maxcdn.bootstrapcdn.com/bootstrap/3.2.0/css/bootstrap.min.css&quot;/&gt;\n",
       "    &lt;link rel=&quot;stylesheet&quot; href=&quot;https://maxcdn.bootstrapcdn.com/bootstrap/3.2.0/css/bootstrap-theme.min.css&quot;/&gt;\n",
       "    &lt;link rel=&quot;stylesheet&quot; href=&quot;https://maxcdn.bootstrapcdn.com/font-awesome/4.6.3/css/font-awesome.min.css&quot;/&gt;\n",
       "    &lt;link rel=&quot;stylesheet&quot; href=&quot;https://cdnjs.cloudflare.com/ajax/libs/Leaflet.awesome-markers/2.0.2/leaflet.awesome-markers.css&quot;/&gt;\n",
       "    &lt;link rel=&quot;stylesheet&quot; href=&quot;https://cdn.jsdelivr.net/gh/python-visualization/folium/folium/templates/leaflet.awesome.rotate.min.css&quot;/&gt;\n",
       "    \n",
       "            &lt;meta name=&quot;viewport&quot; content=&quot;width=device-width,\n",
       "                initial-scale=1.0, maximum-scale=1.0, user-scalable=no&quot; /&gt;\n",
       "            &lt;style&gt;\n",
       "                #map_adee52902660f2170ec8f365b65e811d {\n",
       "                    position: relative;\n",
       "                    width: 1000.0px;\n",
       "                    height: 600.0px;\n",
       "                    left: 0.0%;\n",
       "                    top: 0.0%;\n",
       "                }\n",
       "            &lt;/style&gt;\n",
       "        \n",
       "    &lt;script src=&quot;https://cdn.jsdelivr.net/gh/python-visualization/folium@main/folium/templates/leaflet_heat.min.js&quot;&gt;&lt;/script&gt;\n",
       "&lt;/head&gt;\n",
       "&lt;body&gt;\n",
       "    \n",
       "    \n",
       "            &lt;div class=&quot;folium-map&quot; id=&quot;map_adee52902660f2170ec8f365b65e811d&quot; &gt;&lt;/div&gt;\n",
       "        \n",
       "&lt;/body&gt;\n",
       "&lt;script&gt;\n",
       "    \n",
       "    \n",
       "            var map_adee52902660f2170ec8f365b65e811d = L.map(\n",
       "                &quot;map_adee52902660f2170ec8f365b65e811d&quot;,\n",
       "                {\n",
       "                    center: [21.5, 83.0],\n",
       "                    crs: L.CRS.EPSG3857,\n",
       "                    zoom: 5,\n",
       "                    zoomControl: true,\n",
       "                    preferCanvas: false,\n",
       "                }\n",
       "            );\n",
       "\n",
       "            \n",
       "\n",
       "        \n",
       "    \n",
       "            var tile_layer_21bbe98bd7df48ee3409819230cb3e58 = L.tileLayer(\n",
       "                &quot;https://{s}.tile.openstreetmap.org/{z}/{x}/{y}.png&quot;,\n",
       "                {&quot;attribution&quot;: &quot;Data by \\u0026copy; \\u003ca href=\\&quot;http://openstreetmap.org\\&quot;\\u003eOpenStreetMap\\u003c/a\\u003e, under \\u003ca href=\\&quot;http://www.openstreetmap.org/copyright\\&quot;\\u003eODbL\\u003c/a\\u003e.&quot;, &quot;detectRetina&quot;: false, &quot;maxNativeZoom&quot;: 18, &quot;maxZoom&quot;: 18, &quot;minZoom&quot;: 0, &quot;noWrap&quot;: false, &quot;opacity&quot;: 1, &quot;subdomains&quot;: &quot;abc&quot;, &quot;tms&quot;: false}\n",
       "            ).addTo(map_adee52902660f2170ec8f365b65e811d);\n",
       "        \n",
       "    \n",
       "            var heat_map_44ef2fc888c548fd56f082a83fa35f94 = L.heatLayer(\n",
       "                [[11.68, 92.77, 227.0], [14.9, 79.09, 18671.0], [27.06, 93.37, 816.0], [26.14, 91.77, 24012.0], [25.4, 85.1, 17634.0], [30.45, 76.47, 489.0], [21.25, 81.6, 17470.0], [20.27, 73.02, 76.0], [20.42, 72.83, 40.0], [28.36, 77.13, 20312.0], [15.5, 73.83, 712.0], [23.22, 72.66, 7395.0], [30.44, 76.47, 10700.0], [31.61, 77.1, 2870.0], [32.44, 75.54, 4228.0], [23.35, 85.33, 13667.0], [15.19, 75.42, 9882.0], [10.0, 76.0, 12583.0], [10.57, 72.64, 13.0], [23.28, 77.56, 54909.0], [18.97, 72.82, 30988.0], [24.44, 93.58, 681.0], [25.57, 91.88, 1622.0], [23.36, 92.8, 1244.0], [25.67, 94.12, 342.0], [20.27, 85.82, 19050.0], [11.55, 79.49, 131.0], [30.79, 75.84, 9197.0], [26.6, 73.8, 29886.0], [27.33, 88.3, 375.0], [11.52, 78.75, 9708.0], [17.82, 79.18, 1958.0], [23.84, 91.28, 3002.0], [26.85, 80.91, 32092.0], [30.33, 78.06, 2374.0], [22.34, 88.22, 27089.0]],\n",
       "                {&quot;blur&quot;: 15, &quot;gradient&quot;: {&quot;0.2&quot;: &quot;#FFFBC1&quot;, &quot;0.4&quot;: &quot;#FFE15D&quot;, &quot;0.6&quot;: &quot;#F49D1A&quot;, &quot;0.8&quot;: &quot;#DC3535&quot;, &quot;1&quot;: &quot;#B01E68&quot;}, &quot;maxZoom&quot;: 18, &quot;minOpacity&quot;: 0.5, &quot;radius&quot;: 25}\n",
       "            ).addTo(map_adee52902660f2170ec8f365b65e811d);\n",
       "        \n",
       "&lt;/script&gt;\n",
       "&lt;/html&gt;\" style=\"position:absolute;width:100%;height:100%;left:0;top:0;border:none !important;\" allowfullscreen webkitallowfullscreen mozallowfullscreen></iframe></div></div>"
      ],
      "text/plain": [
       "<folium.folium.Map at 0x1648bfcd0>"
      ]
     },
     "execution_count": 74,
     "metadata": {},
     "output_type": "execute_result"
    }
   ],
   "source": [
    "Rape_heat_DF = pd.DataFrame(lat_long_crimes_DF, columns=['lat', 'long', 'Rape'])\n",
    "\n",
    "map_osm = folium.Map(width = 1000, height = 600, location = [21.5, 83], zoom_start=5)\n",
    "gradient = {.20: '#FFFBC1', .40: '#FFE15D', .60: '#F49D1A', .80: '#DC3535', 1: '#B01E68'}\n",
    "HeatMap(Rape_heat_DF, gradient = gradient).add_to(map_osm)\n",
    "map_osm"
   ]
  },
  {
   "cell_type": "code",
   "execution_count": 75,
   "metadata": {},
   "outputs": [
    {
     "data": {
      "text/html": [
       "<div style=\"width:100%;\"><div style=\"position:relative;width:100%;height:0;padding-bottom:60%;\"><span style=\"color:#565656\">Make this Notebook Trusted to load map: File -> Trust Notebook</span><iframe srcdoc=\"&lt;!DOCTYPE html&gt;\n",
       "&lt;html&gt;\n",
       "&lt;head&gt;\n",
       "    \n",
       "    &lt;meta http-equiv=&quot;content-type&quot; content=&quot;text/html; charset=UTF-8&quot; /&gt;\n",
       "    \n",
       "        &lt;script&gt;\n",
       "            L_NO_TOUCH = false;\n",
       "            L_DISABLE_3D = false;\n",
       "        &lt;/script&gt;\n",
       "    \n",
       "    &lt;style&gt;html, body {width: 100%;height: 100%;margin: 0;padding: 0;}&lt;/style&gt;\n",
       "    &lt;style&gt;#map {position:absolute;top:0;bottom:0;right:0;left:0;}&lt;/style&gt;\n",
       "    &lt;script src=&quot;https://cdn.jsdelivr.net/npm/leaflet@1.6.0/dist/leaflet.js&quot;&gt;&lt;/script&gt;\n",
       "    &lt;script src=&quot;https://code.jquery.com/jquery-1.12.4.min.js&quot;&gt;&lt;/script&gt;\n",
       "    &lt;script src=&quot;https://maxcdn.bootstrapcdn.com/bootstrap/3.2.0/js/bootstrap.min.js&quot;&gt;&lt;/script&gt;\n",
       "    &lt;script src=&quot;https://cdnjs.cloudflare.com/ajax/libs/Leaflet.awesome-markers/2.0.2/leaflet.awesome-markers.js&quot;&gt;&lt;/script&gt;\n",
       "    &lt;link rel=&quot;stylesheet&quot; href=&quot;https://cdn.jsdelivr.net/npm/leaflet@1.6.0/dist/leaflet.css&quot;/&gt;\n",
       "    &lt;link rel=&quot;stylesheet&quot; href=&quot;https://maxcdn.bootstrapcdn.com/bootstrap/3.2.0/css/bootstrap.min.css&quot;/&gt;\n",
       "    &lt;link rel=&quot;stylesheet&quot; href=&quot;https://maxcdn.bootstrapcdn.com/bootstrap/3.2.0/css/bootstrap-theme.min.css&quot;/&gt;\n",
       "    &lt;link rel=&quot;stylesheet&quot; href=&quot;https://maxcdn.bootstrapcdn.com/font-awesome/4.6.3/css/font-awesome.min.css&quot;/&gt;\n",
       "    &lt;link rel=&quot;stylesheet&quot; href=&quot;https://cdnjs.cloudflare.com/ajax/libs/Leaflet.awesome-markers/2.0.2/leaflet.awesome-markers.css&quot;/&gt;\n",
       "    &lt;link rel=&quot;stylesheet&quot; href=&quot;https://cdn.jsdelivr.net/gh/python-visualization/folium/folium/templates/leaflet.awesome.rotate.min.css&quot;/&gt;\n",
       "    \n",
       "            &lt;meta name=&quot;viewport&quot; content=&quot;width=device-width,\n",
       "                initial-scale=1.0, maximum-scale=1.0, user-scalable=no&quot; /&gt;\n",
       "            &lt;style&gt;\n",
       "                #map_986792b84976fc4c191d6d4418a177f5 {\n",
       "                    position: relative;\n",
       "                    width: 1000.0px;\n",
       "                    height: 600.0px;\n",
       "                    left: 0.0%;\n",
       "                    top: 0.0%;\n",
       "                }\n",
       "            &lt;/style&gt;\n",
       "        \n",
       "    &lt;script src=&quot;https://cdn.jsdelivr.net/gh/python-visualization/folium@main/folium/templates/leaflet_heat.min.js&quot;&gt;&lt;/script&gt;\n",
       "&lt;/head&gt;\n",
       "&lt;body&gt;\n",
       "    \n",
       "    \n",
       "            &lt;div class=&quot;folium-map&quot; id=&quot;map_986792b84976fc4c191d6d4418a177f5&quot; &gt;&lt;/div&gt;\n",
       "        \n",
       "&lt;/body&gt;\n",
       "&lt;script&gt;\n",
       "    \n",
       "    \n",
       "            var map_986792b84976fc4c191d6d4418a177f5 = L.map(\n",
       "                &quot;map_986792b84976fc4c191d6d4418a177f5&quot;,\n",
       "                {\n",
       "                    center: [21.5, 83.0],\n",
       "                    crs: L.CRS.EPSG3857,\n",
       "                    zoom: 5,\n",
       "                    zoomControl: true,\n",
       "                    preferCanvas: false,\n",
       "                }\n",
       "            );\n",
       "\n",
       "            \n",
       "\n",
       "        \n",
       "    \n",
       "            var tile_layer_8fb1dee9a572260fee2d86740a9a85f4 = L.tileLayer(\n",
       "                &quot;https://{s}.tile.openstreetmap.org/{z}/{x}/{y}.png&quot;,\n",
       "                {&quot;attribution&quot;: &quot;Data by \\u0026copy; \\u003ca href=\\&quot;http://openstreetmap.org\\&quot;\\u003eOpenStreetMap\\u003c/a\\u003e, under \\u003ca href=\\&quot;http://www.openstreetmap.org/copyright\\&quot;\\u003eODbL\\u003c/a\\u003e.&quot;, &quot;detectRetina&quot;: false, &quot;maxNativeZoom&quot;: 18, &quot;maxZoom&quot;: 18, &quot;minZoom&quot;: 0, &quot;noWrap&quot;: false, &quot;opacity&quot;: 1, &quot;subdomains&quot;: &quot;abc&quot;, &quot;tms&quot;: false}\n",
       "            ).addTo(map_986792b84976fc4c191d6d4418a177f5);\n",
       "        \n",
       "    \n",
       "            var heat_map_5d47a15ddfe638350f4aec036fed3c12 = L.heatLayer(\n",
       "                [[11.68, 92.77, 135.0], [14.9, 79.09, 19568.0], [27.06, 93.37, 912.0], [26.14, 91.77, 39154.0], [25.4, 85.1, 37697.0], [30.45, 76.47, 1148.0], [21.25, 81.6, 9178.0], [20.27, 73.02, 130.0], [20.42, 72.83, 29.0], [28.36, 77.13, 46586.0], [15.5, 73.83, 476.0], [23.22, 72.66, 21752.0], [30.44, 76.47, 13887.0], [31.61, 77.1, 2575.0], [32.44, 75.54, 12344.0], [23.35, 85.33, 8904.0], [15.19, 75.42, 10947.0], [10.0, 76.0, 2554.0], [10.57, 72.64, 1.0], [23.28, 77.56, 26365.0], [18.97, 72.82, 19515.0], [24.44, 93.58, 1549.0], [25.57, 91.88, 406.0], [23.36, 92.8, 20.0], [25.67, 94.12, 119.0], [20.27, 85.82, 17297.0], [11.55, 79.49, 185.0], [30.79, 75.84, 9711.0], [26.6, 73.8, 41607.0], [27.33, 88.3, 118.0], [11.52, 78.75, 18472.0], [17.82, 79.18, 1422.0], [23.84, 91.28, 1327.0], [26.85, 80.91, 88316.0], [30.33, 78.06, 4150.0], [22.34, 88.22, 39385.0]],\n",
       "                {&quot;blur&quot;: 15, &quot;gradient&quot;: {&quot;0.2&quot;: &quot;#FFFBC1&quot;, &quot;0.4&quot;: &quot;#FFE15D&quot;, &quot;0.6&quot;: &quot;#F49D1A&quot;, &quot;0.8&quot;: &quot;#DC3535&quot;, &quot;1&quot;: &quot;#B01E68&quot;}, &quot;maxZoom&quot;: 18, &quot;minOpacity&quot;: 0.5, &quot;radius&quot;: 25}\n",
       "            ).addTo(map_986792b84976fc4c191d6d4418a177f5);\n",
       "        \n",
       "&lt;/script&gt;\n",
       "&lt;/html&gt;\" style=\"position:absolute;width:100%;height:100%;left:0;top:0;border:none !important;\" allowfullscreen webkitallowfullscreen mozallowfullscreen></iframe></div></div>"
      ],
      "text/plain": [
       "<folium.folium.Map at 0x163b85e90>"
      ]
     },
     "execution_count": 75,
     "metadata": {},
     "output_type": "execute_result"
    }
   ],
   "source": [
    "KADD_heat_DF = pd.DataFrame(lat_long_crimes_DF, columns=['lat', 'long', 'Kidnapping and Abduction'])\t\t\t\n",
    "map_osm = folium.Map(width = 1000, height = 600, location = [21.5, 83], zoom_start=5)\n",
    "gradient = {.20: '#FFFBC1', .40: '#FFE15D', .60: '#F49D1A', .80: '#DC3535', 1: '#B01E68'}\n",
    "HeatMap(KADD_heat_DF, gradient = gradient).add_to(map_osm)\n",
    "map_osm"
   ]
  },
  {
   "cell_type": "code",
   "execution_count": 76,
   "metadata": {},
   "outputs": [
    {
     "data": {
      "text/html": [
       "<div style=\"width:100%;\"><div style=\"position:relative;width:100%;height:0;padding-bottom:60%;\"><span style=\"color:#565656\">Make this Notebook Trusted to load map: File -> Trust Notebook</span><iframe srcdoc=\"&lt;!DOCTYPE html&gt;\n",
       "&lt;html&gt;\n",
       "&lt;head&gt;\n",
       "    \n",
       "    &lt;meta http-equiv=&quot;content-type&quot; content=&quot;text/html; charset=UTF-8&quot; /&gt;\n",
       "    \n",
       "        &lt;script&gt;\n",
       "            L_NO_TOUCH = false;\n",
       "            L_DISABLE_3D = false;\n",
       "        &lt;/script&gt;\n",
       "    \n",
       "    &lt;style&gt;html, body {width: 100%;height: 100%;margin: 0;padding: 0;}&lt;/style&gt;\n",
       "    &lt;style&gt;#map {position:absolute;top:0;bottom:0;right:0;left:0;}&lt;/style&gt;\n",
       "    &lt;script src=&quot;https://cdn.jsdelivr.net/npm/leaflet@1.6.0/dist/leaflet.js&quot;&gt;&lt;/script&gt;\n",
       "    &lt;script src=&quot;https://code.jquery.com/jquery-1.12.4.min.js&quot;&gt;&lt;/script&gt;\n",
       "    &lt;script src=&quot;https://maxcdn.bootstrapcdn.com/bootstrap/3.2.0/js/bootstrap.min.js&quot;&gt;&lt;/script&gt;\n",
       "    &lt;script src=&quot;https://cdnjs.cloudflare.com/ajax/libs/Leaflet.awesome-markers/2.0.2/leaflet.awesome-markers.js&quot;&gt;&lt;/script&gt;\n",
       "    &lt;link rel=&quot;stylesheet&quot; href=&quot;https://cdn.jsdelivr.net/npm/leaflet@1.6.0/dist/leaflet.css&quot;/&gt;\n",
       "    &lt;link rel=&quot;stylesheet&quot; href=&quot;https://maxcdn.bootstrapcdn.com/bootstrap/3.2.0/css/bootstrap.min.css&quot;/&gt;\n",
       "    &lt;link rel=&quot;stylesheet&quot; href=&quot;https://maxcdn.bootstrapcdn.com/bootstrap/3.2.0/css/bootstrap-theme.min.css&quot;/&gt;\n",
       "    &lt;link rel=&quot;stylesheet&quot; href=&quot;https://maxcdn.bootstrapcdn.com/font-awesome/4.6.3/css/font-awesome.min.css&quot;/&gt;\n",
       "    &lt;link rel=&quot;stylesheet&quot; href=&quot;https://cdnjs.cloudflare.com/ajax/libs/Leaflet.awesome-markers/2.0.2/leaflet.awesome-markers.css&quot;/&gt;\n",
       "    &lt;link rel=&quot;stylesheet&quot; href=&quot;https://cdn.jsdelivr.net/gh/python-visualization/folium/folium/templates/leaflet.awesome.rotate.min.css&quot;/&gt;\n",
       "    \n",
       "            &lt;meta name=&quot;viewport&quot; content=&quot;width=device-width,\n",
       "                initial-scale=1.0, maximum-scale=1.0, user-scalable=no&quot; /&gt;\n",
       "            &lt;style&gt;\n",
       "                #map_abb0306948bb3348715b64019a23156c {\n",
       "                    position: relative;\n",
       "                    width: 1000.0px;\n",
       "                    height: 600.0px;\n",
       "                    left: 0.0%;\n",
       "                    top: 0.0%;\n",
       "                }\n",
       "            &lt;/style&gt;\n",
       "        \n",
       "    &lt;script src=&quot;https://cdn.jsdelivr.net/gh/python-visualization/folium@main/folium/templates/leaflet_heat.min.js&quot;&gt;&lt;/script&gt;\n",
       "&lt;/head&gt;\n",
       "&lt;body&gt;\n",
       "    \n",
       "    \n",
       "            &lt;div class=&quot;folium-map&quot; id=&quot;map_abb0306948bb3348715b64019a23156c&quot; &gt;&lt;/div&gt;\n",
       "        \n",
       "&lt;/body&gt;\n",
       "&lt;script&gt;\n",
       "    \n",
       "    \n",
       "            var map_abb0306948bb3348715b64019a23156c = L.map(\n",
       "                &quot;map_abb0306948bb3348715b64019a23156c&quot;,\n",
       "                {\n",
       "                    center: [21.5, 83.0],\n",
       "                    crs: L.CRS.EPSG3857,\n",
       "                    zoom: 5,\n",
       "                    zoomControl: true,\n",
       "                    preferCanvas: false,\n",
       "                }\n",
       "            );\n",
       "\n",
       "            \n",
       "\n",
       "        \n",
       "    \n",
       "            var tile_layer_3d9f1d033ec65ac40e10f8afb13f68f1 = L.tileLayer(\n",
       "                &quot;https://{s}.tile.openstreetmap.org/{z}/{x}/{y}.png&quot;,\n",
       "                {&quot;attribution&quot;: &quot;Data by \\u0026copy; \\u003ca href=\\&quot;http://openstreetmap.org\\&quot;\\u003eOpenStreetMap\\u003c/a\\u003e, under \\u003ca href=\\&quot;http://www.openstreetmap.org/copyright\\&quot;\\u003eODbL\\u003c/a\\u003e.&quot;, &quot;detectRetina&quot;: false, &quot;maxNativeZoom&quot;: 18, &quot;maxZoom&quot;: 18, &quot;minZoom&quot;: 0, &quot;noWrap&quot;: false, &quot;opacity&quot;: 1, &quot;subdomains&quot;: &quot;abc&quot;, &quot;tms&quot;: false}\n",
       "            ).addTo(map_abb0306948bb3348715b64019a23156c);\n",
       "        \n",
       "    \n",
       "            var heat_map_84d285b8254a8da516e37293d9466650 = L.heatLayer(\n",
       "                [[11.68, 92.77, 14.0], [14.9, 79.09, 7629.0], [27.06, 93.37, 4.0], [26.14, 91.77, 1992.0], [25.4, 85.1, 18658.0], [30.45, 76.47, 48.0], [21.25, 81.6, 1616.0], [20.27, 73.02, 1.0], [20.42, 72.83, 3.0], [28.36, 77.13, 3758.0], [15.5, 73.83, 19.0], [23.22, 72.66, 606.0], [30.44, 76.47, 4242.0], [31.61, 77.1, 57.0], [32.44, 75.54, 159.0], [23.35, 85.33, 4605.0], [15.19, 75.42, 4098.0], [10.0, 76.0, 399.0], [10.57, 72.64, 0.0], [23.28, 77.56, 12054.0], [18.97, 72.82, 5447.0], [24.44, 93.58, 4.0], [25.57, 91.88, 21.0], [23.36, 92.8, 4.0], [25.67, 94.12, 2.0], [20.27, 85.82, 6227.0], [11.55, 79.49, 30.0], [30.79, 75.84, 1978.0], [26.6, 73.8, 6788.0], [27.33, 88.3, 2.0], [11.52, 78.75, 2743.0], [17.82, 79.18, 578.0], [23.84, 91.28, 438.0], [26.85, 80.91, 33432.0], [30.33, 78.06, 1068.0], [22.34, 88.22, 7136.0]],\n",
       "                {&quot;blur&quot;: 15, &quot;gradient&quot;: {&quot;0.2&quot;: &quot;#FFFBC1&quot;, &quot;0.4&quot;: &quot;#FFE15D&quot;, &quot;0.6&quot;: &quot;#F49D1A&quot;, &quot;0.8&quot;: &quot;#DC3535&quot;, &quot;1&quot;: &quot;#B01E68&quot;}, &quot;maxZoom&quot;: 18, &quot;minOpacity&quot;: 0.5, &quot;radius&quot;: 25}\n",
       "            ).addTo(map_abb0306948bb3348715b64019a23156c);\n",
       "        \n",
       "&lt;/script&gt;\n",
       "&lt;/html&gt;\" style=\"position:absolute;width:100%;height:100%;left:0;top:0;border:none !important;\" allowfullscreen webkitallowfullscreen mozallowfullscreen></iframe></div></div>"
      ],
      "text/plain": [
       "<folium.folium.Map at 0x164d7fa90>"
      ]
     },
     "execution_count": 76,
     "metadata": {},
     "output_type": "execute_result"
    }
   ],
   "source": [
    "KADD_heat_DF = pd.DataFrame(lat_long_crimes_DF, columns=['lat', 'long', 'Dowry Deaths'])\t\t\t\t\n",
    "\n",
    "map_osm = folium.Map(width = 1000, height = 600, location = [21.5, 83], zoom_start=5)\n",
    "gradient = {.20: '#FFFBC1', .40: '#FFE15D', .60: '#F49D1A', .80: '#DC3535', 1: '#B01E68'}\n",
    "HeatMap(KADD_heat_DF, gradient = gradient).add_to(map_osm)\n",
    "map_osm"
   ]
  },
  {
   "cell_type": "code",
   "execution_count": 77,
   "metadata": {},
   "outputs": [
    {
     "data": {
      "text/html": [
       "<div style=\"width:100%;\"><div style=\"position:relative;width:100%;height:0;padding-bottom:60%;\"><span style=\"color:#565656\">Make this Notebook Trusted to load map: File -> Trust Notebook</span><iframe srcdoc=\"&lt;!DOCTYPE html&gt;\n",
       "&lt;html&gt;\n",
       "&lt;head&gt;\n",
       "    \n",
       "    &lt;meta http-equiv=&quot;content-type&quot; content=&quot;text/html; charset=UTF-8&quot; /&gt;\n",
       "    \n",
       "        &lt;script&gt;\n",
       "            L_NO_TOUCH = false;\n",
       "            L_DISABLE_3D = false;\n",
       "        &lt;/script&gt;\n",
       "    \n",
       "    &lt;style&gt;html, body {width: 100%;height: 100%;margin: 0;padding: 0;}&lt;/style&gt;\n",
       "    &lt;style&gt;#map {position:absolute;top:0;bottom:0;right:0;left:0;}&lt;/style&gt;\n",
       "    &lt;script src=&quot;https://cdn.jsdelivr.net/npm/leaflet@1.6.0/dist/leaflet.js&quot;&gt;&lt;/script&gt;\n",
       "    &lt;script src=&quot;https://code.jquery.com/jquery-1.12.4.min.js&quot;&gt;&lt;/script&gt;\n",
       "    &lt;script src=&quot;https://maxcdn.bootstrapcdn.com/bootstrap/3.2.0/js/bootstrap.min.js&quot;&gt;&lt;/script&gt;\n",
       "    &lt;script src=&quot;https://cdnjs.cloudflare.com/ajax/libs/Leaflet.awesome-markers/2.0.2/leaflet.awesome-markers.js&quot;&gt;&lt;/script&gt;\n",
       "    &lt;link rel=&quot;stylesheet&quot; href=&quot;https://cdn.jsdelivr.net/npm/leaflet@1.6.0/dist/leaflet.css&quot;/&gt;\n",
       "    &lt;link rel=&quot;stylesheet&quot; href=&quot;https://maxcdn.bootstrapcdn.com/bootstrap/3.2.0/css/bootstrap.min.css&quot;/&gt;\n",
       "    &lt;link rel=&quot;stylesheet&quot; href=&quot;https://maxcdn.bootstrapcdn.com/bootstrap/3.2.0/css/bootstrap-theme.min.css&quot;/&gt;\n",
       "    &lt;link rel=&quot;stylesheet&quot; href=&quot;https://maxcdn.bootstrapcdn.com/font-awesome/4.6.3/css/font-awesome.min.css&quot;/&gt;\n",
       "    &lt;link rel=&quot;stylesheet&quot; href=&quot;https://cdnjs.cloudflare.com/ajax/libs/Leaflet.awesome-markers/2.0.2/leaflet.awesome-markers.css&quot;/&gt;\n",
       "    &lt;link rel=&quot;stylesheet&quot; href=&quot;https://cdn.jsdelivr.net/gh/python-visualization/folium/folium/templates/leaflet.awesome.rotate.min.css&quot;/&gt;\n",
       "    \n",
       "            &lt;meta name=&quot;viewport&quot; content=&quot;width=device-width,\n",
       "                initial-scale=1.0, maximum-scale=1.0, user-scalable=no&quot; /&gt;\n",
       "            &lt;style&gt;\n",
       "                #map_efb8805426d95c687be9e9243e07e7b5 {\n",
       "                    position: relative;\n",
       "                    width: 1000.0px;\n",
       "                    height: 600.0px;\n",
       "                    left: 0.0%;\n",
       "                    top: 0.0%;\n",
       "                }\n",
       "            &lt;/style&gt;\n",
       "        \n",
       "    &lt;script src=&quot;https://cdn.jsdelivr.net/gh/python-visualization/folium@main/folium/templates/leaflet_heat.min.js&quot;&gt;&lt;/script&gt;\n",
       "&lt;/head&gt;\n",
       "&lt;body&gt;\n",
       "    \n",
       "    \n",
       "            &lt;div class=&quot;folium-map&quot; id=&quot;map_efb8805426d95c687be9e9243e07e7b5&quot; &gt;&lt;/div&gt;\n",
       "        \n",
       "&lt;/body&gt;\n",
       "&lt;script&gt;\n",
       "    \n",
       "    \n",
       "            var map_efb8805426d95c687be9e9243e07e7b5 = L.map(\n",
       "                &quot;map_efb8805426d95c687be9e9243e07e7b5&quot;,\n",
       "                {\n",
       "                    center: [21.5, 83.0],\n",
       "                    crs: L.CRS.EPSG3857,\n",
       "                    zoom: 5,\n",
       "                    zoomControl: true,\n",
       "                    preferCanvas: false,\n",
       "                }\n",
       "            );\n",
       "\n",
       "            \n",
       "\n",
       "        \n",
       "    \n",
       "            var tile_layer_a3d589aadb82e9bd0d53965b61af3a50 = L.tileLayer(\n",
       "                &quot;https://{s}.tile.openstreetmap.org/{z}/{x}/{y}.png&quot;,\n",
       "                {&quot;attribution&quot;: &quot;Data by \\u0026copy; \\u003ca href=\\&quot;http://openstreetmap.org\\&quot;\\u003eOpenStreetMap\\u003c/a\\u003e, under \\u003ca href=\\&quot;http://www.openstreetmap.org/copyright\\&quot;\\u003eODbL\\u003c/a\\u003e.&quot;, &quot;detectRetina&quot;: false, &quot;maxNativeZoom&quot;: 18, &quot;maxZoom&quot;: 18, &quot;minZoom&quot;: 0, &quot;noWrap&quot;: false, &quot;opacity&quot;: 1, &quot;subdomains&quot;: &quot;abc&quot;, &quot;tms&quot;: false}\n",
       "            ).addTo(map_efb8805426d95c687be9e9243e07e7b5);\n",
       "        \n",
       "    \n",
       "            var heat_map_d79a856d92468c067ec89e09168f246c = L.heatLayer(\n",
       "                [[11.68, 92.77, 386.0], [14.9, 79.09, 74953.0], [27.06, 93.37, 1212.0], [26.14, 91.77, 24636.0], [25.4, 85.1, 9382.0], [30.45, 76.47, 774.0], [21.25, 81.6, 27931.0], [20.27, 73.02, 56.0], [20.42, 72.83, 25.0], [28.36, 77.13, 30742.0], [15.5, 73.83, 1056.0], [23.22, 72.66, 14188.0], [30.44, 76.47, 11819.0], [31.61, 77.1, 5659.0], [32.44, 75.54, 17129.0], [23.35, 85.33, 5913.0], [15.19, 75.42, 42051.0], [10.0, 76.0, 48948.0], [10.57, 72.64, 9.0], [23.28, 77.56, 115600.0], [18.97, 72.82, 75485.0], [24.44, 93.58, 818.0], [25.57, 91.88, 938.0], [23.36, 92.8, 1172.0], [25.67, 94.12, 164.0], [20.27, 85.82, 50268.0], [11.55, 79.49, 701.0], [30.79, 75.84, 8363.0], [26.6, 73.8, 52509.0], [27.33, 88.3, 356.0], [11.52, 78.75, 24075.0], [17.82, 79.18, 6376.0], [23.84, 91.28, 4571.0], [26.85, 80.91, 61514.0], [30.33, 78.06, 2821.0], [22.34, 88.22, 44037.0]],\n",
       "                {&quot;blur&quot;: 15, &quot;gradient&quot;: {&quot;0.2&quot;: &quot;#FFFBC1&quot;, &quot;0.4&quot;: &quot;#FFE15D&quot;, &quot;0.6&quot;: &quot;#F49D1A&quot;, &quot;0.8&quot;: &quot;#DC3535&quot;, &quot;1&quot;: &quot;#B01E68&quot;}, &quot;maxZoom&quot;: 18, &quot;minOpacity&quot;: 0.5, &quot;radius&quot;: 25}\n",
       "            ).addTo(map_efb8805426d95c687be9e9243e07e7b5);\n",
       "        \n",
       "&lt;/script&gt;\n",
       "&lt;/html&gt;\" style=\"position:absolute;width:100%;height:100%;left:0;top:0;border:none !important;\" allowfullscreen webkitallowfullscreen mozallowfullscreen></iframe></div></div>"
      ],
      "text/plain": [
       "<folium.folium.Map at 0x163b5c410>"
      ]
     },
     "execution_count": 77,
     "metadata": {},
     "output_type": "execute_result"
    }
   ],
   "source": [
    "AWIOM_heat_DF = pd.DataFrame(lat_long_crimes_DF, columns=['lat', 'long', 'Assault on women with intent to outrage her modesty'])\n",
    "\n",
    "map_osm = folium.Map(width = 1000, height = 600, location = [21.5, 83], zoom_start=5)\n",
    "gradient = {.20: '#FFFBC1', .40: '#FFE15D', .60: '#F49D1A', .80: '#DC3535', 1: '#B01E68'}\n",
    "HeatMap(AWIOM_heat_DF, gradient = gradient).add_to(map_osm)\n",
    "map_osm"
   ]
  },
  {
   "cell_type": "code",
   "execution_count": 78,
   "metadata": {},
   "outputs": [
    {
     "data": {
      "text/html": [
       "<div style=\"width:100%;\"><div style=\"position:relative;width:100%;height:0;padding-bottom:60%;\"><span style=\"color:#565656\">Make this Notebook Trusted to load map: File -> Trust Notebook</span><iframe srcdoc=\"&lt;!DOCTYPE html&gt;\n",
       "&lt;html&gt;\n",
       "&lt;head&gt;\n",
       "    \n",
       "    &lt;meta http-equiv=&quot;content-type&quot; content=&quot;text/html; charset=UTF-8&quot; /&gt;\n",
       "    \n",
       "        &lt;script&gt;\n",
       "            L_NO_TOUCH = false;\n",
       "            L_DISABLE_3D = false;\n",
       "        &lt;/script&gt;\n",
       "    \n",
       "    &lt;style&gt;html, body {width: 100%;height: 100%;margin: 0;padding: 0;}&lt;/style&gt;\n",
       "    &lt;style&gt;#map {position:absolute;top:0;bottom:0;right:0;left:0;}&lt;/style&gt;\n",
       "    &lt;script src=&quot;https://cdn.jsdelivr.net/npm/leaflet@1.6.0/dist/leaflet.js&quot;&gt;&lt;/script&gt;\n",
       "    &lt;script src=&quot;https://code.jquery.com/jquery-1.12.4.min.js&quot;&gt;&lt;/script&gt;\n",
       "    &lt;script src=&quot;https://maxcdn.bootstrapcdn.com/bootstrap/3.2.0/js/bootstrap.min.js&quot;&gt;&lt;/script&gt;\n",
       "    &lt;script src=&quot;https://cdnjs.cloudflare.com/ajax/libs/Leaflet.awesome-markers/2.0.2/leaflet.awesome-markers.js&quot;&gt;&lt;/script&gt;\n",
       "    &lt;link rel=&quot;stylesheet&quot; href=&quot;https://cdn.jsdelivr.net/npm/leaflet@1.6.0/dist/leaflet.css&quot;/&gt;\n",
       "    &lt;link rel=&quot;stylesheet&quot; href=&quot;https://maxcdn.bootstrapcdn.com/bootstrap/3.2.0/css/bootstrap.min.css&quot;/&gt;\n",
       "    &lt;link rel=&quot;stylesheet&quot; href=&quot;https://maxcdn.bootstrapcdn.com/bootstrap/3.2.0/css/bootstrap-theme.min.css&quot;/&gt;\n",
       "    &lt;link rel=&quot;stylesheet&quot; href=&quot;https://maxcdn.bootstrapcdn.com/font-awesome/4.6.3/css/font-awesome.min.css&quot;/&gt;\n",
       "    &lt;link rel=&quot;stylesheet&quot; href=&quot;https://cdnjs.cloudflare.com/ajax/libs/Leaflet.awesome-markers/2.0.2/leaflet.awesome-markers.css&quot;/&gt;\n",
       "    &lt;link rel=&quot;stylesheet&quot; href=&quot;https://cdn.jsdelivr.net/gh/python-visualization/folium/folium/templates/leaflet.awesome.rotate.min.css&quot;/&gt;\n",
       "    \n",
       "            &lt;meta name=&quot;viewport&quot; content=&quot;width=device-width,\n",
       "                initial-scale=1.0, maximum-scale=1.0, user-scalable=no&quot; /&gt;\n",
       "            &lt;style&gt;\n",
       "                #map_ac5880775850d04964ce51cfbf2e0c31 {\n",
       "                    position: relative;\n",
       "                    width: 1000.0px;\n",
       "                    height: 600.0px;\n",
       "                    left: 0.0%;\n",
       "                    top: 0.0%;\n",
       "                }\n",
       "            &lt;/style&gt;\n",
       "        \n",
       "    &lt;script src=&quot;https://cdn.jsdelivr.net/gh/python-visualization/folium@main/folium/templates/leaflet_heat.min.js&quot;&gt;&lt;/script&gt;\n",
       "&lt;/head&gt;\n",
       "&lt;body&gt;\n",
       "    \n",
       "    \n",
       "            &lt;div class=&quot;folium-map&quot; id=&quot;map_ac5880775850d04964ce51cfbf2e0c31&quot; &gt;&lt;/div&gt;\n",
       "        \n",
       "&lt;/body&gt;\n",
       "&lt;script&gt;\n",
       "    \n",
       "    \n",
       "            var map_ac5880775850d04964ce51cfbf2e0c31 = L.map(\n",
       "                &quot;map_ac5880775850d04964ce51cfbf2e0c31&quot;,\n",
       "                {\n",
       "                    center: [21.5, 83.0],\n",
       "                    crs: L.CRS.EPSG3857,\n",
       "                    zoom: 5,\n",
       "                    zoomControl: true,\n",
       "                    preferCanvas: false,\n",
       "                }\n",
       "            );\n",
       "\n",
       "            \n",
       "\n",
       "        \n",
       "    \n",
       "            var tile_layer_5abed42d3ba93065b27645421296d6a0 = L.tileLayer(\n",
       "                &quot;https://{s}.tile.openstreetmap.org/{z}/{x}/{y}.png&quot;,\n",
       "                {&quot;attribution&quot;: &quot;Data by \\u0026copy; \\u003ca href=\\&quot;http://openstreetmap.org\\&quot;\\u003eOpenStreetMap\\u003c/a\\u003e, under \\u003ca href=\\&quot;http://www.openstreetmap.org/copyright\\&quot;\\u003eODbL\\u003c/a\\u003e.&quot;, &quot;detectRetina&quot;: false, &quot;maxNativeZoom&quot;: 18, &quot;maxZoom&quot;: 18, &quot;minZoom&quot;: 0, &quot;noWrap&quot;: false, &quot;opacity&quot;: 1, &quot;subdomains&quot;: &quot;abc&quot;, &quot;tms&quot;: false}\n",
       "            ).addTo(map_ac5880775850d04964ce51cfbf2e0c31);\n",
       "        \n",
       "    \n",
       "            var heat_map_6165ff82db7287034bc103a8ac82ce31 = L.heatLayer(\n",
       "                [[11.68, 92.77, 69.0], [14.9, 79.09, 50833.0], [27.06, 93.37, 30.0], [26.14, 91.77, 142.0], [25.4, 85.1, 468.0], [30.45, 76.47, 199.0], [21.25, 81.6, 2243.0], [20.27, 73.02, 8.0], [20.42, 72.83, 2.0], [28.36, 77.13, 7928.0], [15.5, 73.83, 345.0], [23.22, 72.66, 1865.0], [30.44, 76.47, 9678.0], [31.61, 77.1, 781.0], [32.44, 75.54, 5175.0], [23.35, 85.33, 319.0], [15.19, 75.42, 1445.0], [10.0, 76.0, 4626.0], [10.57, 72.64, 4.0], [23.28, 77.56, 11647.0], [18.97, 72.82, 20524.0], [24.44, 93.58, 3.0], [25.57, 91.88, 116.0], [23.36, 92.8, 64.0], [25.67, 94.12, 14.0], [20.27, 85.82, 4549.0], [11.55, 79.49, 316.0], [30.79, 75.84, 966.0], [26.6, 73.8, 440.0], [27.33, 88.3, 20.0], [11.52, 78.75, 11127.0], [17.82, 79.18, 2284.0], [23.84, 91.28, 75.0], [26.85, 80.91, 26619.0], [30.33, 78.06, 1671.0], [22.34, 88.22, 3794.0]],\n",
       "                {&quot;blur&quot;: 15, &quot;gradient&quot;: {&quot;0.2&quot;: &quot;#FFFBC1&quot;, &quot;0.4&quot;: &quot;#FFE15D&quot;, &quot;0.6&quot;: &quot;#F49D1A&quot;, &quot;0.8&quot;: &quot;#DC3535&quot;, &quot;1&quot;: &quot;#B01E68&quot;}, &quot;maxZoom&quot;: 18, &quot;minOpacity&quot;: 0.5, &quot;radius&quot;: 25}\n",
       "            ).addTo(map_ac5880775850d04964ce51cfbf2e0c31);\n",
       "        \n",
       "&lt;/script&gt;\n",
       "&lt;/html&gt;\" style=\"position:absolute;width:100%;height:100%;left:0;top:0;border:none !important;\" allowfullscreen webkitallowfullscreen mozallowfullscreen></iframe></div></div>"
      ],
      "text/plain": [
       "<folium.folium.Map at 0x1648efb10>"
      ]
     },
     "execution_count": 78,
     "metadata": {},
     "output_type": "execute_result"
    }
   ],
   "source": [
    "IMW_heat_DF = pd.DataFrame(lat_long_crimes_DF, columns=['lat', 'long', 'Insult to modesty of Women'])\n",
    "\n",
    "map_osm = folium.Map(width = 1000, height = 600, location = [21.5, 83], zoom_start=5)\n",
    "gradient = {.20: '#FFFBC1', .40: '#FFE15D', .60: '#F49D1A', .80: '#DC3535', 1: '#B01E68'}\n",
    "HeatMap(IMW_heat_DF, gradient = gradient).add_to(map_osm)\n",
    "map_osm"
   ]
  },
  {
   "cell_type": "code",
   "execution_count": 79,
   "metadata": {},
   "outputs": [
    {
     "data": {
      "text/html": [
       "<div style=\"width:100%;\"><div style=\"position:relative;width:100%;height:0;padding-bottom:60%;\"><span style=\"color:#565656\">Make this Notebook Trusted to load map: File -> Trust Notebook</span><iframe srcdoc=\"&lt;!DOCTYPE html&gt;\n",
       "&lt;html&gt;\n",
       "&lt;head&gt;\n",
       "    \n",
       "    &lt;meta http-equiv=&quot;content-type&quot; content=&quot;text/html; charset=UTF-8&quot; /&gt;\n",
       "    \n",
       "        &lt;script&gt;\n",
       "            L_NO_TOUCH = false;\n",
       "            L_DISABLE_3D = false;\n",
       "        &lt;/script&gt;\n",
       "    \n",
       "    &lt;style&gt;html, body {width: 100%;height: 100%;margin: 0;padding: 0;}&lt;/style&gt;\n",
       "    &lt;style&gt;#map {position:absolute;top:0;bottom:0;right:0;left:0;}&lt;/style&gt;\n",
       "    &lt;script src=&quot;https://cdn.jsdelivr.net/npm/leaflet@1.6.0/dist/leaflet.js&quot;&gt;&lt;/script&gt;\n",
       "    &lt;script src=&quot;https://code.jquery.com/jquery-1.12.4.min.js&quot;&gt;&lt;/script&gt;\n",
       "    &lt;script src=&quot;https://maxcdn.bootstrapcdn.com/bootstrap/3.2.0/js/bootstrap.min.js&quot;&gt;&lt;/script&gt;\n",
       "    &lt;script src=&quot;https://cdnjs.cloudflare.com/ajax/libs/Leaflet.awesome-markers/2.0.2/leaflet.awesome-markers.js&quot;&gt;&lt;/script&gt;\n",
       "    &lt;link rel=&quot;stylesheet&quot; href=&quot;https://cdn.jsdelivr.net/npm/leaflet@1.6.0/dist/leaflet.css&quot;/&gt;\n",
       "    &lt;link rel=&quot;stylesheet&quot; href=&quot;https://maxcdn.bootstrapcdn.com/bootstrap/3.2.0/css/bootstrap.min.css&quot;/&gt;\n",
       "    &lt;link rel=&quot;stylesheet&quot; href=&quot;https://maxcdn.bootstrapcdn.com/bootstrap/3.2.0/css/bootstrap-theme.min.css&quot;/&gt;\n",
       "    &lt;link rel=&quot;stylesheet&quot; href=&quot;https://maxcdn.bootstrapcdn.com/font-awesome/4.6.3/css/font-awesome.min.css&quot;/&gt;\n",
       "    &lt;link rel=&quot;stylesheet&quot; href=&quot;https://cdnjs.cloudflare.com/ajax/libs/Leaflet.awesome-markers/2.0.2/leaflet.awesome-markers.css&quot;/&gt;\n",
       "    &lt;link rel=&quot;stylesheet&quot; href=&quot;https://cdn.jsdelivr.net/gh/python-visualization/folium/folium/templates/leaflet.awesome.rotate.min.css&quot;/&gt;\n",
       "    \n",
       "            &lt;meta name=&quot;viewport&quot; content=&quot;width=device-width,\n",
       "                initial-scale=1.0, maximum-scale=1.0, user-scalable=no&quot; /&gt;\n",
       "            &lt;style&gt;\n",
       "                #map_41331ad7591ecad4c4e21ecb18f96918 {\n",
       "                    position: relative;\n",
       "                    width: 1000.0px;\n",
       "                    height: 600.0px;\n",
       "                    left: 0.0%;\n",
       "                    top: 0.0%;\n",
       "                }\n",
       "            &lt;/style&gt;\n",
       "        \n",
       "    &lt;script src=&quot;https://cdn.jsdelivr.net/gh/python-visualization/folium@main/folium/templates/leaflet_heat.min.js&quot;&gt;&lt;/script&gt;\n",
       "&lt;/head&gt;\n",
       "&lt;body&gt;\n",
       "    \n",
       "    \n",
       "            &lt;div class=&quot;folium-map&quot; id=&quot;map_41331ad7591ecad4c4e21ecb18f96918&quot; &gt;&lt;/div&gt;\n",
       "        \n",
       "&lt;/body&gt;\n",
       "&lt;script&gt;\n",
       "    \n",
       "    \n",
       "            var map_41331ad7591ecad4c4e21ecb18f96918 = L.map(\n",
       "                &quot;map_41331ad7591ecad4c4e21ecb18f96918&quot;,\n",
       "                {\n",
       "                    center: [21.5, 83.0],\n",
       "                    crs: L.CRS.EPSG3857,\n",
       "                    zoom: 5,\n",
       "                    zoomControl: true,\n",
       "                    preferCanvas: false,\n",
       "                }\n",
       "            );\n",
       "\n",
       "            \n",
       "\n",
       "        \n",
       "    \n",
       "            var tile_layer_eec074fa3b568b3855d1d729a4ff9e84 = L.tileLayer(\n",
       "                &quot;https://{s}.tile.openstreetmap.org/{z}/{x}/{y}.png&quot;,\n",
       "                {&quot;attribution&quot;: &quot;Data by \\u0026copy; \\u003ca href=\\&quot;http://openstreetmap.org\\&quot;\\u003eOpenStreetMap\\u003c/a\\u003e, under \\u003ca href=\\&quot;http://www.openstreetmap.org/copyright\\&quot;\\u003eODbL\\u003c/a\\u003e.&quot;, &quot;detectRetina&quot;: false, &quot;maxNativeZoom&quot;: 18, &quot;maxZoom&quot;: 18, &quot;minZoom&quot;: 0, &quot;noWrap&quot;: false, &quot;opacity&quot;: 1, &quot;subdomains&quot;: &quot;abc&quot;, &quot;tms&quot;: false}\n",
       "            ).addTo(map_41331ad7591ecad4c4e21ecb18f96918);\n",
       "        \n",
       "    \n",
       "            var heat_map_32279b7558e3c230709e80a5721bf2bd = L.heatLayer(\n",
       "                [[11.68, 92.77, 167.0], [14.9, 79.09, 161899.0], [27.06, 93.37, 309.0], [26.14, 91.77, 75912.0], [25.4, 85.1, 44090.0], [30.45, 76.47, 1273.0], [21.25, 81.6, 13863.0], [20.27, 73.02, 52.0], [20.42, 72.83, 41.0], [28.36, 77.13, 42834.0], [15.5, 73.83, 341.0], [23.22, 72.66, 87037.0], [30.44, 76.47, 41302.0], [31.61, 77.1, 4551.0], [32.44, 75.54, 3590.0], [23.35, 85.33, 15501.0], [15.19, 75.42, 42654.0], [10.0, 76.0, 65552.0], [10.57, 72.64, 7.0], [23.28, 77.56, 62847.0], [18.97, 72.82, 112839.0], [24.44, 93.58, 359.0], [25.57, 91.88, 295.0], [23.36, 92.8, 80.0], [25.67, 94.12, 23.0], [20.27, 85.82, 30509.0], [11.55, 79.49, 129.0], [30.79, 75.84, 18842.0], [26.6, 73.8, 162099.0], [27.33, 88.3, 64.0], [11.52, 78.75, 27336.0], [17.82, 79.18, 12738.0], [23.84, 91.28, 9572.0], [26.85, 80.91, 116121.0], [30.33, 78.06, 5614.0], [22.34, 88.22, 213456.0]],\n",
       "                {&quot;blur&quot;: 15, &quot;gradient&quot;: {&quot;0.2&quot;: &quot;#FFFBC1&quot;, &quot;0.4&quot;: &quot;#FFE15D&quot;, &quot;0.6&quot;: &quot;#F49D1A&quot;, &quot;0.8&quot;: &quot;#DC3535&quot;, &quot;1&quot;: &quot;#B01E68&quot;}, &quot;maxZoom&quot;: 18, &quot;minOpacity&quot;: 0.5, &quot;radius&quot;: 25}\n",
       "            ).addTo(map_41331ad7591ecad4c4e21ecb18f96918);\n",
       "        \n",
       "&lt;/script&gt;\n",
       "&lt;/html&gt;\" style=\"position:absolute;width:100%;height:100%;left:0;top:0;border:none !important;\" allowfullscreen webkitallowfullscreen mozallowfullscreen></iframe></div></div>"
      ],
      "text/plain": [
       "<folium.folium.Map at 0x164291a50>"
      ]
     },
     "execution_count": 79,
     "metadata": {},
     "output_type": "execute_result"
    }
   ],
   "source": [
    "CHR_heat_DF = pd.DataFrame(lat_long_crimes_DF, columns=['lat', 'long', 'Cruelty by Husband or his Relatives'])\n",
    "\n",
    "map_osm = folium.Map(width = 1000, height = 600, location = [21.5, 83], zoom_start=5)\n",
    "gradient = {.20: '#FFFBC1', .40: '#FFE15D', .60: '#F49D1A', .80: '#DC3535', 1: '#B01E68'}\n",
    "HeatMap(CHR_heat_DF, gradient = gradient).add_to(map_osm)\n",
    "map_osm"
   ]
  },
  {
   "cell_type": "code",
   "execution_count": 80,
   "metadata": {},
   "outputs": [
    {
     "data": {
      "text/html": [
       "<div style=\"width:100%;\"><div style=\"position:relative;width:100%;height:0;padding-bottom:60%;\"><span style=\"color:#565656\">Make this Notebook Trusted to load map: File -> Trust Notebook</span><iframe srcdoc=\"&lt;!DOCTYPE html&gt;\n",
       "&lt;html&gt;\n",
       "&lt;head&gt;\n",
       "    \n",
       "    &lt;meta http-equiv=&quot;content-type&quot; content=&quot;text/html; charset=UTF-8&quot; /&gt;\n",
       "    \n",
       "        &lt;script&gt;\n",
       "            L_NO_TOUCH = false;\n",
       "            L_DISABLE_3D = false;\n",
       "        &lt;/script&gt;\n",
       "    \n",
       "    &lt;style&gt;html, body {width: 100%;height: 100%;margin: 0;padding: 0;}&lt;/style&gt;\n",
       "    &lt;style&gt;#map {position:absolute;top:0;bottom:0;right:0;left:0;}&lt;/style&gt;\n",
       "    &lt;script src=&quot;https://cdn.jsdelivr.net/npm/leaflet@1.6.0/dist/leaflet.js&quot;&gt;&lt;/script&gt;\n",
       "    &lt;script src=&quot;https://code.jquery.com/jquery-1.12.4.min.js&quot;&gt;&lt;/script&gt;\n",
       "    &lt;script src=&quot;https://maxcdn.bootstrapcdn.com/bootstrap/3.2.0/js/bootstrap.min.js&quot;&gt;&lt;/script&gt;\n",
       "    &lt;script src=&quot;https://cdnjs.cloudflare.com/ajax/libs/Leaflet.awesome-markers/2.0.2/leaflet.awesome-markers.js&quot;&gt;&lt;/script&gt;\n",
       "    &lt;link rel=&quot;stylesheet&quot; href=&quot;https://cdn.jsdelivr.net/npm/leaflet@1.6.0/dist/leaflet.css&quot;/&gt;\n",
       "    &lt;link rel=&quot;stylesheet&quot; href=&quot;https://maxcdn.bootstrapcdn.com/bootstrap/3.2.0/css/bootstrap.min.css&quot;/&gt;\n",
       "    &lt;link rel=&quot;stylesheet&quot; href=&quot;https://maxcdn.bootstrapcdn.com/bootstrap/3.2.0/css/bootstrap-theme.min.css&quot;/&gt;\n",
       "    &lt;link rel=&quot;stylesheet&quot; href=&quot;https://maxcdn.bootstrapcdn.com/font-awesome/4.6.3/css/font-awesome.min.css&quot;/&gt;\n",
       "    &lt;link rel=&quot;stylesheet&quot; href=&quot;https://cdnjs.cloudflare.com/ajax/libs/Leaflet.awesome-markers/2.0.2/leaflet.awesome-markers.css&quot;/&gt;\n",
       "    &lt;link rel=&quot;stylesheet&quot; href=&quot;https://cdn.jsdelivr.net/gh/python-visualization/folium/folium/templates/leaflet.awesome.rotate.min.css&quot;/&gt;\n",
       "    \n",
       "            &lt;meta name=&quot;viewport&quot; content=&quot;width=device-width,\n",
       "                initial-scale=1.0, maximum-scale=1.0, user-scalable=no&quot; /&gt;\n",
       "            &lt;style&gt;\n",
       "                #map_5e50f1ff2e337635c6d76bd90cb2a0a0 {\n",
       "                    position: relative;\n",
       "                    width: 1000.0px;\n",
       "                    height: 600.0px;\n",
       "                    left: 0.0%;\n",
       "                    top: 0.0%;\n",
       "                }\n",
       "            &lt;/style&gt;\n",
       "        \n",
       "    &lt;script src=&quot;https://cdn.jsdelivr.net/gh/python-visualization/folium@main/folium/templates/leaflet_heat.min.js&quot;&gt;&lt;/script&gt;\n",
       "&lt;/head&gt;\n",
       "&lt;body&gt;\n",
       "    \n",
       "    \n",
       "            &lt;div class=&quot;folium-map&quot; id=&quot;map_5e50f1ff2e337635c6d76bd90cb2a0a0&quot; &gt;&lt;/div&gt;\n",
       "        \n",
       "&lt;/body&gt;\n",
       "&lt;script&gt;\n",
       "    \n",
       "    \n",
       "            var map_5e50f1ff2e337635c6d76bd90cb2a0a0 = L.map(\n",
       "                &quot;map_5e50f1ff2e337635c6d76bd90cb2a0a0&quot;,\n",
       "                {\n",
       "                    center: [21.5, 83.0],\n",
       "                    crs: L.CRS.EPSG3857,\n",
       "                    zoom: 5,\n",
       "                    zoomControl: true,\n",
       "                    preferCanvas: false,\n",
       "                }\n",
       "            );\n",
       "\n",
       "            \n",
       "\n",
       "        \n",
       "    \n",
       "            var tile_layer_3996491e90bf4608060b289f7443584e = L.tileLayer(\n",
       "                &quot;https://{s}.tile.openstreetmap.org/{z}/{x}/{y}.png&quot;,\n",
       "                {&quot;attribution&quot;: &quot;Data by \\u0026copy; \\u003ca href=\\&quot;http://openstreetmap.org\\&quot;\\u003eOpenStreetMap\\u003c/a\\u003e, under \\u003ca href=\\&quot;http://www.openstreetmap.org/copyright\\&quot;\\u003eODbL\\u003c/a\\u003e.&quot;, &quot;detectRetina&quot;: false, &quot;maxNativeZoom&quot;: 18, &quot;maxZoom&quot;: 18, &quot;minZoom&quot;: 0, &quot;noWrap&quot;: false, &quot;opacity&quot;: 1, &quot;subdomains&quot;: &quot;abc&quot;, &quot;tms&quot;: false}\n",
       "            ).addTo(map_5e50f1ff2e337635c6d76bd90cb2a0a0);\n",
       "        \n",
       "    \n",
       "            var heat_map_19cfee46733005fde202aea1f34eb427 = L.heatLayer(\n",
       "                [[11.68, 92.77, 0.0], [14.9, 79.09, 17.0], [27.06, 93.37, 0.0], [26.14, 91.77, 14.0], [25.4, 85.1, 464.0], [30.45, 76.47, 0.0], [21.25, 81.6, 7.0], [20.27, 73.02, 0.0], [20.42, 72.83, 0.0], [28.36, 77.13, 2.0], [15.5, 73.83, 0.0], [23.22, 72.66, 0.0], [30.44, 76.47, 4.0], [31.61, 77.1, 0.0], [32.44, 75.54, 0.0], [23.35, 85.33, 153.0], [15.19, 75.42, 47.0], [10.0, 76.0, 0.0], [10.57, 72.64, 0.0], [23.28, 77.56, 74.0], [18.97, 72.82, 4.0], [24.44, 93.58, 0.0], [25.57, 91.88, 4.0], [23.36, 92.8, 3.0], [25.67, 94.12, 1.0], [20.27, 85.82, 18.0], [11.55, 79.49, 0.0], [30.79, 75.84, 2.0], [26.6, 73.8, 8.0], [27.33, 88.3, 0.0], [11.52, 78.75, 15.0], [17.82, 79.18, 0.0], [23.84, 91.28, 0.0], [26.85, 80.91, 3.0], [30.33, 78.06, 1.0], [22.34, 88.22, 140.0]],\n",
       "                {&quot;blur&quot;: 15, &quot;gradient&quot;: {&quot;0.2&quot;: &quot;#FFFBC1&quot;, &quot;0.4&quot;: &quot;#FFE15D&quot;, &quot;0.6&quot;: &quot;#F49D1A&quot;, &quot;0.8&quot;: &quot;#DC3535&quot;, &quot;1&quot;: &quot;#B01E68&quot;}, &quot;maxZoom&quot;: 18, &quot;minOpacity&quot;: 0.5, &quot;radius&quot;: 25}\n",
       "            ).addTo(map_5e50f1ff2e337635c6d76bd90cb2a0a0);\n",
       "        \n",
       "&lt;/script&gt;\n",
       "&lt;/html&gt;\" style=\"position:absolute;width:100%;height:100%;left:0;top:0;border:none !important;\" allowfullscreen webkitallowfullscreen mozallowfullscreen></iframe></div></div>"
      ],
      "text/plain": [
       "<folium.folium.Map at 0x1648c6950>"
      ]
     },
     "execution_count": 80,
     "metadata": {},
     "output_type": "execute_result"
    }
   ],
   "source": [
    "IG_heat_DF = pd.DataFrame(lat_long_crimes_DF, columns=['lat', 'long', 'Importation of Girls'])\n",
    "\n",
    "map_osm = folium.Map(width = 1000, height = 600, location = [21.5, 83], zoom_start=5)\n",
    "gradient = {.20: '#FFFBC1', .40: '#FFE15D', .60: '#F49D1A', .80: '#DC3535', 1: '#B01E68'}\n",
    "HeatMap(IG_heat_DF, gradient = gradient).add_to(map_osm)\n",
    "map_osm"
   ]
  },
  {
   "cell_type": "markdown",
   "metadata": {},
   "source": [
    "### Problem: What relationship between each crime?\n",
    "### Coding and visualization"
   ]
  },
  {
   "cell_type": "code",
   "execution_count": 81,
   "metadata": {},
   "outputs": [
    {
     "data": {
      "image/png": "[encoded data removed]",
      "text/plain": [
       "<Figure size 640x480 with 2 Axes>"
      ]
     },
     "metadata": {},
     "output_type": "display_data"
    }
   ],
   "source": [
    "heatmap_crimes_df = crimes_df.drop('Year', axis = 1)     # drop 'Year', it has numeric value\n",
    "sns.heatmap(heatmap_crimes_df.corr(), annot = True, cmap = 'inferno')     \n",
    "plt.title(\"Heat Map for checking relationship between each crime\", pad = 15)\n",
    "plt.show()"
   ]
  },
  {
   "cell_type": "markdown",
   "metadata": {},
   "source": [
    "<div>\n",
    "    <h3>Analysis<h3>\n",
    "    <h4><p>&nbsp;&nbsp;&nbsp;From above heat map, we can know that there are several strong relationships between some combination of crimes:<br>&nbsp;&nbsp;&nbsp;Rape, kidnapping and abduction, assault on women with intent to outrage her modesty, cruelty by husband or his relatives.<br>&nbsp;&nbsp;&nbsp;Kidnapping and abduction, rape, dowry deaths.</p><h4>\n",
    "</div>"
   ]
  },
  {
   "cell_type": "markdown",
   "metadata": {},
   "source": [
    "<div>\n",
    "    <h2>Conclusion<h2>\n",
    "    <h4><p>&nbsp;&nbsp;&nbsp;First, our group searched some related information from 2012 to 2014 in India.<br>&nbsp;&nbsp;&nbsp;Economic Events: India's economy grew at its slowest pace in nine years in the first quarter of 2012, hit by contagion from Europe's debt crisis and weak domestic policies. Meanwhile, India's coalition government is under intense pressure from scandals and defections from its coalition partners. Protesters blocked roads and railways during a nationwide strike over economic reforms in 2012. Because the economic downturn affects the employment problem of the society, a large number of unemployed people give rise to the high crime rate, which indirectly leads to the rampant rape cases.<br>&nbsp;&nbsp;&nbsp;Ref:&nbsp;<a href = \"https://www.indiatoday.in/magazine/yearender-2011/hopes-from-2012/story/20120109-indian-economy-in-2012-750176-2011-12-29\">https://www.indiatoday.in/magazine/yearender-2011/hopes-from-2012/story/20120109-indian-economy-in-2012-750176-2011-12-29</a><br>&nbsp;&nbsp;&nbsp;Social Events: The gang-rape case in 2012 led to more feminist resistance in India, and also stimulated the dissatisfaction of traditional Indian men, which led to the increase of crime rate.<br>&nbsp;&nbsp;&nbsp;Ref:&nbsp;<a href = \"https://www.indiatoday.in/india/story/24-more-rapes-per-day-since-nirbhaya-was-gangraped-in-2012-1657646-2020-03-19\">https://www.indiatoday.in/india/story/24-more-rapes-per-day-since-nirbhaya-was-gangraped-in-2012-1657646-2020-03-19</a><br>&nbsp;&nbsp;&nbsp;So maybe these information can explain why there was a significant rose from 2012 to 2014. Not only in Indian, but also all around the world, we hope that women who can be paid more attention and care.</p><h4>\n",
    "</div>"
   ]
  }
 ],
 "metadata": {
  "kernelspec": {
   "display_name": "Python 3.11.0 64-bit",
   "language": "python",
   "name": "python3"
  },
  "language_info": {
   "codemirror_mode": {
    "name": "ipython",
    "version": 3
   },
   "file_extension": ".py",
   "mimetype": "text/x-python",
   "name": "python",
   "nbconvert_exporter": "python",
   "pygments_lexer": "ipython3",
   "version": "3.11.0"
  },
  "orig_nbformat": 4,
  "vscode": {
   "interpreter": {
    "hash": "aee8b7b246df8f9039afb4144a1f6fd8d2ca17a180786b69acc140d282b71a49"
   }
  }
 },
 "nbformat": 4,
 "nbformat_minor": 2
}
